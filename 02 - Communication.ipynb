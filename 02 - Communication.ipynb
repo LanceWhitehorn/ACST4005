{
 "cells": [
  {
   "cell_type": "markdown",
   "metadata": {},
   "source": [
    "# Week 2 - Communication\n",
    "\n",
    "## Notes\n",
    "\n",
    "### `dplyr` Package"
   ]
  },
  {
   "cell_type": "code",
   "execution_count": 2,
   "metadata": {},
   "outputs": [
    {
     "data": {
      "text/html": [
       "<table>\n",
       "<thead><tr><th scope=col>country</th><th scope=col>continent</th><th scope=col>year</th><th scope=col>lifeExp</th><th scope=col>pop</th><th scope=col>gdpPercap</th></tr></thead>\n",
       "<tbody>\n",
       "\t<tr><td>Afghanistan</td><td>Asia       </td><td>1952       </td><td>28.801     </td><td> 8425333   </td><td>779.4453   </td></tr>\n",
       "\t<tr><td>Afghanistan</td><td>Asia       </td><td>1957       </td><td>30.332     </td><td> 9240934   </td><td>820.8530   </td></tr>\n",
       "\t<tr><td>Afghanistan</td><td>Asia       </td><td>1962       </td><td>31.997     </td><td>10267083   </td><td>853.1007   </td></tr>\n",
       "\t<tr><td>Afghanistan</td><td>Asia       </td><td>1967       </td><td>34.020     </td><td>11537966   </td><td>836.1971   </td></tr>\n",
       "\t<tr><td>Afghanistan</td><td>Asia       </td><td>1972       </td><td>36.088     </td><td>13079460   </td><td>739.9811   </td></tr>\n",
       "\t<tr><td>Afghanistan</td><td>Asia       </td><td>1977       </td><td>38.438     </td><td>14880372   </td><td>786.1134   </td></tr>\n",
       "</tbody>\n",
       "</table>\n"
      ],
      "text/latex": [
       "\\begin{tabular}{r|llllll}\n",
       " country & continent & year & lifeExp & pop & gdpPercap\\\\\n",
       "\\hline\n",
       "\t Afghanistan & Asia        & 1952        & 28.801      &  8425333    & 779.4453   \\\\\n",
       "\t Afghanistan & Asia        & 1957        & 30.332      &  9240934    & 820.8530   \\\\\n",
       "\t Afghanistan & Asia        & 1962        & 31.997      & 10267083    & 853.1007   \\\\\n",
       "\t Afghanistan & Asia        & 1967        & 34.020      & 11537966    & 836.1971   \\\\\n",
       "\t Afghanistan & Asia        & 1972        & 36.088      & 13079460    & 739.9811   \\\\\n",
       "\t Afghanistan & Asia        & 1977        & 38.438      & 14880372    & 786.1134   \\\\\n",
       "\\end{tabular}\n"
      ],
      "text/markdown": [
       "\n",
       "| country | continent | year | lifeExp | pop | gdpPercap |\n",
       "|---|---|---|---|---|---|\n",
       "| Afghanistan | Asia        | 1952        | 28.801      |  8425333    | 779.4453    |\n",
       "| Afghanistan | Asia        | 1957        | 30.332      |  9240934    | 820.8530    |\n",
       "| Afghanistan | Asia        | 1962        | 31.997      | 10267083    | 853.1007    |\n",
       "| Afghanistan | Asia        | 1967        | 34.020      | 11537966    | 836.1971    |\n",
       "| Afghanistan | Asia        | 1972        | 36.088      | 13079460    | 739.9811    |\n",
       "| Afghanistan | Asia        | 1977        | 38.438      | 14880372    | 786.1134    |\n",
       "\n"
      ],
      "text/plain": [
       "  country     continent year lifeExp pop      gdpPercap\n",
       "1 Afghanistan Asia      1952 28.801   8425333 779.4453 \n",
       "2 Afghanistan Asia      1957 30.332   9240934 820.8530 \n",
       "3 Afghanistan Asia      1962 31.997  10267083 853.1007 \n",
       "4 Afghanistan Asia      1967 34.020  11537966 836.1971 \n",
       "5 Afghanistan Asia      1972 36.088  13079460 739.9811 \n",
       "6 Afghanistan Asia      1977 38.438  14880372 786.1134 "
      ]
     },
     "metadata": {},
     "output_type": "display_data"
    }
   ],
   "source": [
    "# Ensuring a clean workspace\n",
    "rm(list=ls())\n",
    "\n",
    "# Install the dplyr package\n",
    "if (!('dplyr' %in% installed.packages())) {\n",
    "    install.packages('dplyr')\n",
    "}\n",
    "\n",
    "# Load packages into the workspace\n",
    "library('dplyr')\n",
    "library('gapminder'))\n",
    "library('repr')\n",
    "\n",
    "# Load the gapminder data\n",
    "data(gapminder)\n",
    "head(gapminder)"
   ]
  },
  {
   "cell_type": "markdown",
   "metadata": {},
   "source": [
    "Filtering using `filter()`:"
   ]
  },
  {
   "cell_type": "code",
   "execution_count": 3,
   "metadata": {},
   "outputs": [
    {
     "data": {
      "text/html": [
       "<table>\n",
       "<thead><tr><th scope=col>country</th><th scope=col>continent</th><th scope=col>year</th><th scope=col>lifeExp</th><th scope=col>pop</th><th scope=col>gdpPercap</th></tr></thead>\n",
       "<tbody>\n",
       "\t<tr><td>Afghanistan</td><td>Asia       </td><td>1952       </td><td>28.801     </td><td>8425333    </td><td>779.4453   </td></tr>\n",
       "\t<tr><td>Rwanda     </td><td>Africa     </td><td>1992       </td><td>23.599     </td><td>7290203    </td><td>737.0686   </td></tr>\n",
       "</tbody>\n",
       "</table>\n"
      ],
      "text/latex": [
       "\\begin{tabular}{r|llllll}\n",
       " country & continent & year & lifeExp & pop & gdpPercap\\\\\n",
       "\\hline\n",
       "\t Afghanistan & Asia        & 1952        & 28.801      & 8425333     & 779.4453   \\\\\n",
       "\t Rwanda      & Africa      & 1992        & 23.599      & 7290203     & 737.0686   \\\\\n",
       "\\end{tabular}\n"
      ],
      "text/markdown": [
       "\n",
       "| country | continent | year | lifeExp | pop | gdpPercap |\n",
       "|---|---|---|---|---|---|\n",
       "| Afghanistan | Asia        | 1952        | 28.801      | 8425333     | 779.4453    |\n",
       "| Rwanda      | Africa      | 1992        | 23.599      | 7290203     | 737.0686    |\n",
       "\n"
      ],
      "text/plain": [
       "  country     continent year lifeExp pop     gdpPercap\n",
       "1 Afghanistan Asia      1952 28.801  8425333 779.4453 \n",
       "2 Rwanda      Africa    1992 23.599  7290203 737.0686 "
      ]
     },
     "metadata": {},
     "output_type": "display_data"
    }
   ],
   "source": [
    "filter(gapminder, lifeExp<30)"
   ]
  },
  {
   "cell_type": "markdown",
   "metadata": {},
   "source": [
    "Subsetting using `select()`:"
   ]
  },
  {
   "cell_type": "code",
   "execution_count": 4,
   "metadata": {},
   "outputs": [
    {
     "data": {
      "text/html": [
       "<table>\n",
       "<thead><tr><th scope=col>country</th><th scope=col>year</th><th scope=col>lifeExp</th></tr></thead>\n",
       "<tbody>\n",
       "\t<tr><td>Afghanistan</td><td>1952       </td><td>28.801     </td></tr>\n",
       "\t<tr><td>Afghanistan</td><td>1957       </td><td>30.332     </td></tr>\n",
       "\t<tr><td>Afghanistan</td><td>1962       </td><td>31.997     </td></tr>\n",
       "\t<tr><td>Afghanistan</td><td>1967       </td><td>34.020     </td></tr>\n",
       "\t<tr><td>Afghanistan</td><td>1972       </td><td>36.088     </td></tr>\n",
       "\t<tr><td>Afghanistan</td><td>1977       </td><td>38.438     </td></tr>\n",
       "</tbody>\n",
       "</table>\n"
      ],
      "text/latex": [
       "\\begin{tabular}{r|lll}\n",
       " country & year & lifeExp\\\\\n",
       "\\hline\n",
       "\t Afghanistan & 1952        & 28.801     \\\\\n",
       "\t Afghanistan & 1957        & 30.332     \\\\\n",
       "\t Afghanistan & 1962        & 31.997     \\\\\n",
       "\t Afghanistan & 1967        & 34.020     \\\\\n",
       "\t Afghanistan & 1972        & 36.088     \\\\\n",
       "\t Afghanistan & 1977        & 38.438     \\\\\n",
       "\\end{tabular}\n"
      ],
      "text/markdown": [
       "\n",
       "| country | year | lifeExp |\n",
       "|---|---|---|\n",
       "| Afghanistan | 1952        | 28.801      |\n",
       "| Afghanistan | 1957        | 30.332      |\n",
       "| Afghanistan | 1962        | 31.997      |\n",
       "| Afghanistan | 1967        | 34.020      |\n",
       "| Afghanistan | 1972        | 36.088      |\n",
       "| Afghanistan | 1977        | 38.438      |\n",
       "\n"
      ],
      "text/plain": [
       "  country     year lifeExp\n",
       "1 Afghanistan 1952 28.801 \n",
       "2 Afghanistan 1957 30.332 \n",
       "3 Afghanistan 1962 31.997 \n",
       "4 Afghanistan 1967 34.020 \n",
       "5 Afghanistan 1972 36.088 \n",
       "6 Afghanistan 1977 38.438 "
      ]
     },
     "metadata": {},
     "output_type": "display_data"
    }
   ],
   "source": [
    "head(select(gapminder, country, year, lifeExp))"
   ]
  },
  {
   "cell_type": "markdown",
   "metadata": {},
   "source": [
    "Adding new columns to the dataframe using `mutate()`:"
   ]
  },
  {
   "cell_type": "code",
   "execution_count": 5,
   "metadata": {},
   "outputs": [
    {
     "data": {
      "text/html": [
       "<table>\n",
       "<thead><tr><th scope=col>country</th><th scope=col>continent</th><th scope=col>year</th><th scope=col>lifeExp</th><th scope=col>pop</th><th scope=col>gdpPercap</th><th scope=col>totalgdp</th></tr></thead>\n",
       "<tbody>\n",
       "\t<tr><td>Afghanistan</td><td>Asia       </td><td>1952       </td><td>28.801     </td><td> 8425333   </td><td>779.4453   </td><td> 6567086330</td></tr>\n",
       "\t<tr><td>Afghanistan</td><td>Asia       </td><td>1957       </td><td>30.332     </td><td> 9240934   </td><td>820.8530   </td><td> 7585448670</td></tr>\n",
       "\t<tr><td>Afghanistan</td><td>Asia       </td><td>1962       </td><td>31.997     </td><td>10267083   </td><td>853.1007   </td><td> 8758855797</td></tr>\n",
       "\t<tr><td>Afghanistan</td><td>Asia       </td><td>1967       </td><td>34.020     </td><td>11537966   </td><td>836.1971   </td><td> 9648014150</td></tr>\n",
       "\t<tr><td>Afghanistan</td><td>Asia       </td><td>1972       </td><td>36.088     </td><td>13079460   </td><td>739.9811   </td><td> 9678553274</td></tr>\n",
       "\t<tr><td>Afghanistan</td><td>Asia       </td><td>1977       </td><td>38.438     </td><td>14880372   </td><td>786.1134   </td><td>11697659231</td></tr>\n",
       "</tbody>\n",
       "</table>\n"
      ],
      "text/latex": [
       "\\begin{tabular}{r|lllllll}\n",
       " country & continent & year & lifeExp & pop & gdpPercap & totalgdp\\\\\n",
       "\\hline\n",
       "\t Afghanistan & Asia        & 1952        & 28.801      &  8425333    & 779.4453    &  6567086330\\\\\n",
       "\t Afghanistan & Asia        & 1957        & 30.332      &  9240934    & 820.8530    &  7585448670\\\\\n",
       "\t Afghanistan & Asia        & 1962        & 31.997      & 10267083    & 853.1007    &  8758855797\\\\\n",
       "\t Afghanistan & Asia        & 1967        & 34.020      & 11537966    & 836.1971    &  9648014150\\\\\n",
       "\t Afghanistan & Asia        & 1972        & 36.088      & 13079460    & 739.9811    &  9678553274\\\\\n",
       "\t Afghanistan & Asia        & 1977        & 38.438      & 14880372    & 786.1134    & 11697659231\\\\\n",
       "\\end{tabular}\n"
      ],
      "text/markdown": [
       "\n",
       "| country | continent | year | lifeExp | pop | gdpPercap | totalgdp |\n",
       "|---|---|---|---|---|---|---|\n",
       "| Afghanistan | Asia        | 1952        | 28.801      |  8425333    | 779.4453    |  6567086330 |\n",
       "| Afghanistan | Asia        | 1957        | 30.332      |  9240934    | 820.8530    |  7585448670 |\n",
       "| Afghanistan | Asia        | 1962        | 31.997      | 10267083    | 853.1007    |  8758855797 |\n",
       "| Afghanistan | Asia        | 1967        | 34.020      | 11537966    | 836.1971    |  9648014150 |\n",
       "| Afghanistan | Asia        | 1972        | 36.088      | 13079460    | 739.9811    |  9678553274 |\n",
       "| Afghanistan | Asia        | 1977        | 38.438      | 14880372    | 786.1134    | 11697659231 |\n",
       "\n"
      ],
      "text/plain": [
       "  country     continent year lifeExp pop      gdpPercap totalgdp   \n",
       "1 Afghanistan Asia      1952 28.801   8425333 779.4453   6567086330\n",
       "2 Afghanistan Asia      1957 30.332   9240934 820.8530   7585448670\n",
       "3 Afghanistan Asia      1962 31.997  10267083 853.1007   8758855797\n",
       "4 Afghanistan Asia      1967 34.020  11537966 836.1971   9648014150\n",
       "5 Afghanistan Asia      1972 36.088  13079460 739.9811   9678553274\n",
       "6 Afghanistan Asia      1977 38.438  14880372 786.1134  11697659231"
      ]
     },
     "metadata": {},
     "output_type": "display_data"
    }
   ],
   "source": [
    "head(mutate(gapminder, totalgdp=gdpPercap*pop))"
   ]
  },
  {
   "cell_type": "markdown",
   "metadata": {},
   "source": [
    "Using the pipe `%>%` allows us to perform a series of operations at once:"
   ]
  },
  {
   "cell_type": "code",
   "execution_count": 6,
   "metadata": {},
   "outputs": [
    {
     "data": {
      "text/html": [
       "<table>\n",
       "<thead><tr><th scope=col>country</th><th scope=col>year</th><th scope=col>lifeExp</th></tr></thead>\n",
       "<tbody>\n",
       "\t<tr><td>Afghanistan</td><td>1952       </td><td>28.801     </td></tr>\n",
       "\t<tr><td>Rwanda     </td><td>1992       </td><td>23.599     </td></tr>\n",
       "</tbody>\n",
       "</table>\n"
      ],
      "text/latex": [
       "\\begin{tabular}{r|lll}\n",
       " country & year & lifeExp\\\\\n",
       "\\hline\n",
       "\t Afghanistan & 1952        & 28.801     \\\\\n",
       "\t Rwanda      & 1992        & 23.599     \\\\\n",
       "\\end{tabular}\n"
      ],
      "text/markdown": [
       "\n",
       "| country | year | lifeExp |\n",
       "|---|---|---|\n",
       "| Afghanistan | 1952        | 28.801      |\n",
       "| Rwanda      | 1992        | 23.599      |\n",
       "\n"
      ],
      "text/plain": [
       "  country     year lifeExp\n",
       "1 Afghanistan 1952 28.801 \n",
       "2 Rwanda      1992 23.599 "
      ]
     },
     "metadata": {},
     "output_type": "display_data"
    }
   ],
   "source": [
    "gapminder %>% filter(lifeExp<30) %>%\n",
    "    select(country, year, lifeExp)"
   ]
  },
  {
   "cell_type": "markdown",
   "metadata": {},
   "source": [
    "### Basic Plots"
   ]
  },
  {
   "cell_type": "code",
   "execution_count": 7,
   "metadata": {},
   "outputs": [
    {
     "data": {
      "image/png": "[encoded data removed]",
      "text/plain": [
       "Plot with title \"Histogram of gapminder$lifeExp\""
      ]
     },
     "metadata": {},
     "output_type": "display_data"
    }
   ],
   "source": [
    "# Options\n",
    "options(repr.plot.width=10, repr.plot.height=4) # Resizing plot size (default is 7x7)\n",
    "par(mfrow=c(1,3)) # 1 row, 3 columns\n",
    "\n",
    "# Plots\n",
    "plot(gapminder$gdpPercap, gapminder$lifeExp, cex=0.5)\n",
    "hist(gapminder$lifeExp)\n",
    "boxplot(lifeExp~continent, data=gapminder)"
   ]
  },
  {
   "cell_type": "markdown",
   "metadata": {},
   "source": [
    "## Practice Questions"
   ]
  },
  {
   "cell_type": "markdown",
   "metadata": {},
   "source": [
    "### Question 1"
   ]
  },
  {
   "cell_type": "code",
   "execution_count": 8,
   "metadata": {},
   "outputs": [],
   "source": [
    "options(digits=3) # Sets all numbers to 3 significant figures"
   ]
  },
  {
   "cell_type": "markdown",
   "metadata": {},
   "source": [
    "### Question 2"
   ]
  },
  {
   "cell_type": "code",
   "execution_count": 9,
   "metadata": {},
   "outputs": [],
   "source": [
    "library('babynames')\n",
    "data(babynames)"
   ]
  },
  {
   "cell_type": "markdown",
   "metadata": {},
   "source": [
    "Selecting the `year`, `name`, and `proportion` columns:"
   ]
  },
  {
   "cell_type": "code",
   "execution_count": 10,
   "metadata": {},
   "outputs": [
    {
     "data": {
      "text/html": [
       "<table>\n",
       "<thead><tr><th scope=col>year</th><th scope=col>name</th><th scope=col>prop</th></tr></thead>\n",
       "<tbody>\n",
       "\t<tr><td>1880     </td><td>Mary     </td><td>0.0724   </td></tr>\n",
       "\t<tr><td>1880     </td><td>Anna     </td><td>0.0267   </td></tr>\n",
       "\t<tr><td>1880     </td><td>Emma     </td><td>0.0205   </td></tr>\n",
       "\t<tr><td>1880     </td><td>Elizabeth</td><td>0.0199   </td></tr>\n",
       "\t<tr><td>1880     </td><td>Minnie   </td><td>0.0179   </td></tr>\n",
       "\t<tr><td>1880     </td><td>Margaret </td><td>0.0162   </td></tr>\n",
       "</tbody>\n",
       "</table>\n"
      ],
      "text/latex": [
       "\\begin{tabular}{r|lll}\n",
       " year & name & prop\\\\\n",
       "\\hline\n",
       "\t 1880      & Mary      & 0.0724   \\\\\n",
       "\t 1880      & Anna      & 0.0267   \\\\\n",
       "\t 1880      & Emma      & 0.0205   \\\\\n",
       "\t 1880      & Elizabeth & 0.0199   \\\\\n",
       "\t 1880      & Minnie    & 0.0179   \\\\\n",
       "\t 1880      & Margaret  & 0.0162   \\\\\n",
       "\\end{tabular}\n"
      ],
      "text/markdown": [
       "\n",
       "| year | name | prop |\n",
       "|---|---|---|\n",
       "| 1880      | Mary      | 0.0724    |\n",
       "| 1880      | Anna      | 0.0267    |\n",
       "| 1880      | Emma      | 0.0205    |\n",
       "| 1880      | Elizabeth | 0.0199    |\n",
       "| 1880      | Minnie    | 0.0179    |\n",
       "| 1880      | Margaret  | 0.0162    |\n",
       "\n"
      ],
      "text/plain": [
       "  year name      prop  \n",
       "1 1880 Mary      0.0724\n",
       "2 1880 Anna      0.0267\n",
       "3 1880 Emma      0.0205\n",
       "4 1880 Elizabeth 0.0199\n",
       "5 1880 Minnie    0.0179\n",
       "6 1880 Margaret  0.0162"
      ]
     },
     "metadata": {},
     "output_type": "display_data"
    }
   ],
   "source": [
    "head(select(babynames, year, name, prop))"
   ]
  },
  {
   "cell_type": "markdown",
   "metadata": {},
   "source": [
    "Creating a column called `rank`:"
   ]
  },
  {
   "cell_type": "code",
   "execution_count": 11,
   "metadata": {},
   "outputs": [
    {
     "data": {
      "text/html": [
       "<table>\n",
       "<thead><tr><th scope=col>year</th><th scope=col>sex</th><th scope=col>name</th><th scope=col>n</th><th scope=col>prop</th><th scope=col>rank</th></tr></thead>\n",
       "<tbody>\n",
       "\t<tr><td>1880     </td><td>F        </td><td>Mary     </td><td>7065     </td><td>0.0724   </td><td>  14     </td></tr>\n",
       "\t<tr><td>1880     </td><td>F        </td><td>Anna     </td><td>2604     </td><td>0.0267   </td><td> 709     </td></tr>\n",
       "\t<tr><td>1880     </td><td>F        </td><td>Emma     </td><td>2003     </td><td>0.0205   </td><td>1131     </td></tr>\n",
       "\t<tr><td>1880     </td><td>F        </td><td>Elizabeth</td><td>1939     </td><td>0.0199   </td><td>1192     </td></tr>\n",
       "\t<tr><td>1880     </td><td>F        </td><td>Minnie   </td><td>1746     </td><td>0.0179   </td><td>1427     </td></tr>\n",
       "\t<tr><td>1880     </td><td>F        </td><td>Margaret </td><td>1578     </td><td>0.0162   </td><td>1683     </td></tr>\n",
       "</tbody>\n",
       "</table>\n"
      ],
      "text/latex": [
       "\\begin{tabular}{r|llllll}\n",
       " year & sex & name & n & prop & rank\\\\\n",
       "\\hline\n",
       "\t 1880      & F         & Mary      & 7065      & 0.0724    &   14     \\\\\n",
       "\t 1880      & F         & Anna      & 2604      & 0.0267    &  709     \\\\\n",
       "\t 1880      & F         & Emma      & 2003      & 0.0205    & 1131     \\\\\n",
       "\t 1880      & F         & Elizabeth & 1939      & 0.0199    & 1192     \\\\\n",
       "\t 1880      & F         & Minnie    & 1746      & 0.0179    & 1427     \\\\\n",
       "\t 1880      & F         & Margaret  & 1578      & 0.0162    & 1683     \\\\\n",
       "\\end{tabular}\n"
      ],
      "text/markdown": [
       "\n",
       "| year | sex | name | n | prop | rank |\n",
       "|---|---|---|---|---|---|\n",
       "| 1880      | F         | Mary      | 7065      | 0.0724    |   14      |\n",
       "| 1880      | F         | Anna      | 2604      | 0.0267    |  709      |\n",
       "| 1880      | F         | Emma      | 2003      | 0.0205    | 1131      |\n",
       "| 1880      | F         | Elizabeth | 1939      | 0.0199    | 1192      |\n",
       "| 1880      | F         | Minnie    | 1746      | 0.0179    | 1427      |\n",
       "| 1880      | F         | Margaret  | 1578      | 0.0162    | 1683      |\n",
       "\n"
      ],
      "text/plain": [
       "  year sex name      n    prop   rank\n",
       "1 1880 F   Mary      7065 0.0724   14\n",
       "2 1880 F   Anna      2604 0.0267  709\n",
       "3 1880 F   Emma      2003 0.0205 1131\n",
       "4 1880 F   Elizabeth 1939 0.0199 1192\n",
       "5 1880 F   Minnie    1746 0.0179 1427\n",
       "6 1880 F   Margaret  1578 0.0162 1683"
      ]
     },
     "metadata": {},
     "output_type": "display_data"
    }
   ],
   "source": [
    "rankedNames <- mutate(babynames, rank=rank(-prop))\n",
    "head(rankedNames)"
   ]
  },
  {
   "cell_type": "markdown",
   "metadata": {},
   "source": [
    "Creating a `total` column (i.e. the total number of people born by gender each year):"
   ]
  },
  {
   "cell_type": "code",
   "execution_count": 12,
   "metadata": {},
   "outputs": [
    {
     "data": {
      "text/html": [
       "<table>\n",
       "<thead><tr><th scope=col>year</th><th scope=col>sex</th><th scope=col>name</th><th scope=col>n</th><th scope=col>prop</th><th scope=col>total</th><th scope=col>rank</th></tr></thead>\n",
       "<tbody>\n",
       "\t<tr><td>1880     </td><td>F        </td><td>Mary     </td><td>7065     </td><td>0.0724   </td><td>97605    </td><td>  14     </td></tr>\n",
       "\t<tr><td>1880     </td><td>F        </td><td>Anna     </td><td>2604     </td><td>0.0267   </td><td>97605    </td><td> 709     </td></tr>\n",
       "\t<tr><td>1880     </td><td>F        </td><td>Emma     </td><td>2003     </td><td>0.0205   </td><td>97605    </td><td>1131     </td></tr>\n",
       "\t<tr><td>1880     </td><td>F        </td><td>Elizabeth</td><td>1939     </td><td>0.0199   </td><td>97605    </td><td>1192     </td></tr>\n",
       "\t<tr><td>1880     </td><td>F        </td><td>Minnie   </td><td>1746     </td><td>0.0179   </td><td>97605    </td><td>1427     </td></tr>\n",
       "\t<tr><td>1880     </td><td>F        </td><td>Margaret </td><td>1578     </td><td>0.0162   </td><td>97605    </td><td>1683     </td></tr>\n",
       "</tbody>\n",
       "</table>\n"
      ],
      "text/latex": [
       "\\begin{tabular}{r|lllllll}\n",
       " year & sex & name & n & prop & total & rank\\\\\n",
       "\\hline\n",
       "\t 1880      & F         & Mary      & 7065      & 0.0724    & 97605     &   14     \\\\\n",
       "\t 1880      & F         & Anna      & 2604      & 0.0267    & 97605     &  709     \\\\\n",
       "\t 1880      & F         & Emma      & 2003      & 0.0205    & 97605     & 1131     \\\\\n",
       "\t 1880      & F         & Elizabeth & 1939      & 0.0199    & 97605     & 1192     \\\\\n",
       "\t 1880      & F         & Minnie    & 1746      & 0.0179    & 97605     & 1427     \\\\\n",
       "\t 1880      & F         & Margaret  & 1578      & 0.0162    & 97605     & 1683     \\\\\n",
       "\\end{tabular}\n"
      ],
      "text/markdown": [
       "\n",
       "| year | sex | name | n | prop | total | rank |\n",
       "|---|---|---|---|---|---|---|\n",
       "| 1880      | F         | Mary      | 7065      | 0.0724    | 97605     |   14      |\n",
       "| 1880      | F         | Anna      | 2604      | 0.0267    | 97605     |  709      |\n",
       "| 1880      | F         | Emma      | 2003      | 0.0205    | 97605     | 1131      |\n",
       "| 1880      | F         | Elizabeth | 1939      | 0.0199    | 97605     | 1192      |\n",
       "| 1880      | F         | Minnie    | 1746      | 0.0179    | 97605     | 1427      |\n",
       "| 1880      | F         | Margaret  | 1578      | 0.0162    | 97605     | 1683      |\n",
       "\n"
      ],
      "text/plain": [
       "  year sex name      n    prop   total rank\n",
       "1 1880 F   Mary      7065 0.0724 97605   14\n",
       "2 1880 F   Anna      2604 0.0267 97605  709\n",
       "3 1880 F   Emma      2003 0.0205 97605 1131\n",
       "4 1880 F   Elizabeth 1939 0.0199 97605 1192\n",
       "5 1880 F   Minnie    1746 0.0179 97605 1427\n",
       "6 1880 F   Margaret  1578 0.0162 97605 1683"
      ]
     },
     "metadata": {},
     "output_type": "display_data"
    }
   ],
   "source": [
    "rankedTotalNames <- mutate(babynames, total=n/prop, rank=rank(-babynames$prop))\n",
    "head(rankedTotalNames)"
   ]
  },
  {
   "cell_type": "markdown",
   "metadata": {},
   "source": [
    "Filter the data frame above to show the top 5 names with the highest proprotion:"
   ]
  },
  {
   "cell_type": "code",
   "execution_count": 13,
   "metadata": {},
   "outputs": [
    {
     "data": {
      "text/html": [
       "<table>\n",
       "<thead><tr><th scope=col>year</th><th scope=col>sex</th><th scope=col>name</th><th scope=col>n</th><th scope=col>prop</th><th scope=col>rank</th></tr></thead>\n",
       "<tbody>\n",
       "\t<tr><td>1880   </td><td>M      </td><td>John   </td><td>9655   </td><td>0.0815 </td><td>1      </td></tr>\n",
       "\t<tr><td>1881   </td><td>M      </td><td>John   </td><td>8769   </td><td>0.0810 </td><td>2      </td></tr>\n",
       "\t<tr><td>1880   </td><td>M      </td><td>William</td><td>9532   </td><td>0.0805 </td><td>3      </td></tr>\n",
       "\t<tr><td>1883   </td><td>M      </td><td>John   </td><td>8894   </td><td>0.0791 </td><td>4      </td></tr>\n",
       "\t<tr><td>1881   </td><td>M      </td><td>William</td><td>8524   </td><td>0.0787 </td><td>5      </td></tr>\n",
       "</tbody>\n",
       "</table>\n"
      ],
      "text/latex": [
       "\\begin{tabular}{r|llllll}\n",
       " year & sex & name & n & prop & rank\\\\\n",
       "\\hline\n",
       "\t 1880    & M       & John    & 9655    & 0.0815  & 1      \\\\\n",
       "\t 1881    & M       & John    & 8769    & 0.0810  & 2      \\\\\n",
       "\t 1880    & M       & William & 9532    & 0.0805  & 3      \\\\\n",
       "\t 1883    & M       & John    & 8894    & 0.0791  & 4      \\\\\n",
       "\t 1881    & M       & William & 8524    & 0.0787  & 5      \\\\\n",
       "\\end{tabular}\n"
      ],
      "text/markdown": [
       "\n",
       "| year | sex | name | n | prop | rank |\n",
       "|---|---|---|---|---|---|\n",
       "| 1880    | M       | John    | 9655    | 0.0815  | 1       |\n",
       "| 1881    | M       | John    | 8769    | 0.0810  | 2       |\n",
       "| 1880    | M       | William | 9532    | 0.0805  | 3       |\n",
       "| 1883    | M       | John    | 8894    | 0.0791  | 4       |\n",
       "| 1881    | M       | William | 8524    | 0.0787  | 5       |\n",
       "\n"
      ],
      "text/plain": [
       "  year sex name    n    prop   rank\n",
       "1 1880 M   John    9655 0.0815 1   \n",
       "2 1881 M   John    8769 0.0810 2   \n",
       "3 1880 M   William 9532 0.0805 3   \n",
       "4 1883 M   John    8894 0.0791 4   \n",
       "5 1881 M   William 8524 0.0787 5   "
      ]
     },
     "metadata": {},
     "output_type": "display_data"
    }
   ],
   "source": [
    "topFive <- filter(rankedNames, rank<=5)\n",
    "topFive[order(topFive$rank),]"
   ]
  },
  {
   "cell_type": "markdown",
   "metadata": {},
   "source": [
    "Creating a new data frame with no 1880 year:"
   ]
  },
  {
   "cell_type": "code",
   "execution_count": 14,
   "metadata": {},
   "outputs": [
    {
     "data": {
      "text/html": [
       "'There are 1922665 rows'"
      ],
      "text/latex": [
       "'There are 1922665 rows'"
      ],
      "text/markdown": [
       "'There are 1922665 rows'"
      ],
      "text/plain": [
       "[1] \"There are 1922665 rows\""
      ]
     },
     "metadata": {},
     "output_type": "display_data"
    }
   ],
   "source": [
    "no1880 <- filter(babynames, year!=1880)\n",
    "paste('There are', dim(no1880)[1], 'rows')"
   ]
  },
  {
   "cell_type": "markdown",
   "metadata": {},
   "source": [
    "Creating a new data frame with just 2016 and 2017:"
   ]
  },
  {
   "cell_type": "code",
   "execution_count": 15,
   "metadata": {},
   "outputs": [
    {
     "data": {
      "text/html": [
       "'There are 65448 rows'"
      ],
      "text/latex": [
       "'There are 65448 rows'"
      ],
      "text/markdown": [
       "'There are 65448 rows'"
      ],
      "text/plain": [
       "[1] \"There are 65448 rows\""
      ]
     },
     "metadata": {},
     "output_type": "display_data"
    },
    {
     "data": {
      "text/html": [
       "<table>\n",
       "<thead><tr><th scope=col>year</th><th scope=col>sex</th><th scope=col>name</th><th scope=col>n</th><th scope=col>prop</th></tr></thead>\n",
       "<tbody>\n",
       "\t<tr><td>2016    </td><td>F       </td><td>Emma    </td><td>19471   </td><td>0.01010 </td></tr>\n",
       "\t<tr><td>2016    </td><td>F       </td><td>Olivia  </td><td>19327   </td><td>0.01002 </td></tr>\n",
       "\t<tr><td>2016    </td><td>F       </td><td>Ava     </td><td>16283   </td><td>0.00844 </td></tr>\n",
       "\t<tr><td>2016    </td><td>F       </td><td>Sophia  </td><td>16112   </td><td>0.00835 </td></tr>\n",
       "\t<tr><td>2016    </td><td>F       </td><td>Isabella</td><td>14772   </td><td>0.00766 </td></tr>\n",
       "\t<tr><td>2016    </td><td>F       </td><td>Mia     </td><td>14415   </td><td>0.00747 </td></tr>\n",
       "</tbody>\n",
       "</table>\n"
      ],
      "text/latex": [
       "\\begin{tabular}{r|lllll}\n",
       " year & sex & name & n & prop\\\\\n",
       "\\hline\n",
       "\t 2016     & F        & Emma     & 19471    & 0.01010 \\\\\n",
       "\t 2016     & F        & Olivia   & 19327    & 0.01002 \\\\\n",
       "\t 2016     & F        & Ava      & 16283    & 0.00844 \\\\\n",
       "\t 2016     & F        & Sophia   & 16112    & 0.00835 \\\\\n",
       "\t 2016     & F        & Isabella & 14772    & 0.00766 \\\\\n",
       "\t 2016     & F        & Mia      & 14415    & 0.00747 \\\\\n",
       "\\end{tabular}\n"
      ],
      "text/markdown": [
       "\n",
       "| year | sex | name | n | prop |\n",
       "|---|---|---|---|---|\n",
       "| 2016     | F        | Emma     | 19471    | 0.01010  |\n",
       "| 2016     | F        | Olivia   | 19327    | 0.01002  |\n",
       "| 2016     | F        | Ava      | 16283    | 0.00844  |\n",
       "| 2016     | F        | Sophia   | 16112    | 0.00835  |\n",
       "| 2016     | F        | Isabella | 14772    | 0.00766  |\n",
       "| 2016     | F        | Mia      | 14415    | 0.00747  |\n",
       "\n"
      ],
      "text/plain": [
       "  year sex name     n     prop   \n",
       "1 2016 F   Emma     19471 0.01010\n",
       "2 2016 F   Olivia   19327 0.01002\n",
       "3 2016 F   Ava      16283 0.00844\n",
       "4 2016 F   Sophia   16112 0.00835\n",
       "5 2016 F   Isabella 14772 0.00766\n",
       "6 2016 F   Mia      14415 0.00747"
      ]
     },
     "metadata": {},
     "output_type": "display_data"
    }
   ],
   "source": [
    "recent <- filter(babynames, year %in% c(2016, 2017))\n",
    "paste('There are', dim(recent)[1], 'rows')\n",
    "head(recent)"
   ]
  },
  {
   "cell_type": "markdown",
   "metadata": {},
   "source": [
    "Creating a new data frame with just 2016 and 2017 females:"
   ]
  },
  {
   "cell_type": "code",
   "execution_count": 16,
   "metadata": {},
   "outputs": [
    {
     "data": {
      "text/html": [
       "'There are 37126 rows'"
      ],
      "text/latex": [
       "'There are 37126 rows'"
      ],
      "text/markdown": [
       "'There are 37126 rows'"
      ],
      "text/plain": [
       "[1] \"There are 37126 rows\""
      ]
     },
     "metadata": {},
     "output_type": "display_data"
    },
    {
     "data": {
      "text/html": [
       "<table>\n",
       "<thead><tr><th scope=col>year</th><th scope=col>sex</th><th scope=col>name</th><th scope=col>n</th><th scope=col>prop</th></tr></thead>\n",
       "<tbody>\n",
       "\t<tr><td>2016    </td><td>F       </td><td>Emma    </td><td>19471   </td><td>0.01010 </td></tr>\n",
       "\t<tr><td>2016    </td><td>F       </td><td>Olivia  </td><td>19327   </td><td>0.01002 </td></tr>\n",
       "\t<tr><td>2016    </td><td>F       </td><td>Ava     </td><td>16283   </td><td>0.00844 </td></tr>\n",
       "\t<tr><td>2016    </td><td>F       </td><td>Sophia  </td><td>16112   </td><td>0.00835 </td></tr>\n",
       "\t<tr><td>2016    </td><td>F       </td><td>Isabella</td><td>14772   </td><td>0.00766 </td></tr>\n",
       "\t<tr><td>2016    </td><td>F       </td><td>Mia     </td><td>14415   </td><td>0.00747 </td></tr>\n",
       "</tbody>\n",
       "</table>\n"
      ],
      "text/latex": [
       "\\begin{tabular}{r|lllll}\n",
       " year & sex & name & n & prop\\\\\n",
       "\\hline\n",
       "\t 2016     & F        & Emma     & 19471    & 0.01010 \\\\\n",
       "\t 2016     & F        & Olivia   & 19327    & 0.01002 \\\\\n",
       "\t 2016     & F        & Ava      & 16283    & 0.00844 \\\\\n",
       "\t 2016     & F        & Sophia   & 16112    & 0.00835 \\\\\n",
       "\t 2016     & F        & Isabella & 14772    & 0.00766 \\\\\n",
       "\t 2016     & F        & Mia      & 14415    & 0.00747 \\\\\n",
       "\\end{tabular}\n"
      ],
      "text/markdown": [
       "\n",
       "| year | sex | name | n | prop |\n",
       "|---|---|---|---|---|\n",
       "| 2016     | F        | Emma     | 19471    | 0.01010  |\n",
       "| 2016     | F        | Olivia   | 19327    | 0.01002  |\n",
       "| 2016     | F        | Ava      | 16283    | 0.00844  |\n",
       "| 2016     | F        | Sophia   | 16112    | 0.00835  |\n",
       "| 2016     | F        | Isabella | 14772    | 0.00766  |\n",
       "| 2016     | F        | Mia      | 14415    | 0.00747  |\n",
       "\n"
      ],
      "text/plain": [
       "  year sex name     n     prop   \n",
       "1 2016 F   Emma     19471 0.01010\n",
       "2 2016 F   Olivia   19327 0.01002\n",
       "3 2016 F   Ava      16283 0.00844\n",
       "4 2016 F   Sophia   16112 0.00835\n",
       "5 2016 F   Isabella 14772 0.00766\n",
       "6 2016 F   Mia      14415 0.00747"
      ]
     },
     "metadata": {},
     "output_type": "display_data"
    }
   ],
   "source": [
    "recentFemales <- filter(babynames, year %in% c(2016, 2017) & sex=='F')\n",
    "paste('There are', dim(recentFemales)[1], 'rows')\n",
    "head(recentFemales)"
   ]
  },
  {
   "cell_type": "markdown",
   "metadata": {},
   "source": [
    "Using the pipe, `%>%`, create a new data frame that:\n",
    "* Only has years 2016 and 2017\n",
    "* Has columns for the rank *and* total babies born by gender each year\n",
    "* Only shows the top 5 baby names"
   ]
  },
  {
   "cell_type": "code",
   "execution_count": 17,
   "metadata": {},
   "outputs": [
    {
     "data": {
      "text/html": [
       "<table>\n",
       "<thead><tr><th scope=col>year</th><th scope=col>sex</th><th scope=col>name</th><th scope=col>n</th><th scope=col>prop</th><th scope=col>rank</th><th scope=col>total</th></tr></thead>\n",
       "<tbody>\n",
       "\t<tr><td>2017   </td><td>F      </td><td>Emma   </td><td>19738  </td><td>0.01053</td><td>1      </td><td>1874899</td></tr>\n",
       "\t<tr><td>2016   </td><td>F      </td><td>Emma   </td><td>19471  </td><td>0.01010</td><td>2      </td><td>1928439</td></tr>\n",
       "\t<tr><td>2016   </td><td>F      </td><td>Olivia </td><td>19327  </td><td>0.01002</td><td>3      </td><td>1928438</td></tr>\n",
       "\t<tr><td>2017   </td><td>F      </td><td>Olivia </td><td>18632  </td><td>0.00994</td><td>4      </td><td>1874899</td></tr>\n",
       "\t<tr><td>2017   </td><td>M      </td><td>Liam   </td><td>18728  </td><td>0.00954</td><td>5      </td><td>1963290</td></tr>\n",
       "</tbody>\n",
       "</table>\n"
      ],
      "text/latex": [
       "\\begin{tabular}{r|lllllll}\n",
       " year & sex & name & n & prop & rank & total\\\\\n",
       "\\hline\n",
       "\t 2017    & F       & Emma    & 19738   & 0.01053 & 1       & 1874899\\\\\n",
       "\t 2016    & F       & Emma    & 19471   & 0.01010 & 2       & 1928439\\\\\n",
       "\t 2016    & F       & Olivia  & 19327   & 0.01002 & 3       & 1928438\\\\\n",
       "\t 2017    & F       & Olivia  & 18632   & 0.00994 & 4       & 1874899\\\\\n",
       "\t 2017    & M       & Liam    & 18728   & 0.00954 & 5       & 1963290\\\\\n",
       "\\end{tabular}\n"
      ],
      "text/markdown": [
       "\n",
       "| year | sex | name | n | prop | rank | total |\n",
       "|---|---|---|---|---|---|---|\n",
       "| 2017    | F       | Emma    | 19738   | 0.01053 | 1       | 1874899 |\n",
       "| 2016    | F       | Emma    | 19471   | 0.01010 | 2       | 1928439 |\n",
       "| 2016    | F       | Olivia  | 19327   | 0.01002 | 3       | 1928438 |\n",
       "| 2017    | F       | Olivia  | 18632   | 0.00994 | 4       | 1874899 |\n",
       "| 2017    | M       | Liam    | 18728   | 0.00954 | 5       | 1963290 |\n",
       "\n"
      ],
      "text/plain": [
       "  year sex name   n     prop    rank total  \n",
       "1 2017 F   Emma   19738 0.01053 1    1874899\n",
       "2 2016 F   Emma   19471 0.01010 2    1928439\n",
       "3 2016 F   Olivia 19327 0.01002 3    1928438\n",
       "4 2017 F   Olivia 18632 0.00994 4    1874899\n",
       "5 2017 M   Liam   18728 0.00954 5    1963290"
      ]
     },
     "metadata": {},
     "output_type": "display_data"
    }
   ],
   "source": [
    "temp <- babynames %>%\n",
    "    filter(year %in% c(2016, 2017)) %>%\n",
    "    mutate(rank=rank(-prop)) %>%\n",
    "    mutate(total=n/prop) %>%\n",
    "    filter(rank<=5)\n",
    "head(temp[order(temp$rank),])"
   ]
  },
  {
   "cell_type": "markdown",
   "metadata": {},
   "source": [
    "### Question 3"
   ]
  },
  {
   "cell_type": "code",
   "execution_count": 18,
   "metadata": {},
   "outputs": [
    {
     "data": {
      "text/html": [
       "<table>\n",
       "<thead><tr><th scope=col>year</th><th scope=col>name</th><th scope=col>prop</th><th scope=col>rank</th></tr></thead>\n",
       "<tbody>\n",
       "\t<tr><td>1880   </td><td>John   </td><td>0.0815 </td><td>1      </td></tr>\n",
       "\t<tr><td>1881   </td><td>John   </td><td>0.0810 </td><td>2      </td></tr>\n",
       "\t<tr><td>1880   </td><td>William</td><td>0.0805 </td><td>3      </td></tr>\n",
       "\t<tr><td>1883   </td><td>John   </td><td>0.0791 </td><td>4      </td></tr>\n",
       "\t<tr><td>1881   </td><td>William</td><td>0.0787 </td><td>5      </td></tr>\n",
       "\t<tr><td>1882   </td><td>John   </td><td>0.0783 </td><td>6      </td></tr>\n",
       "</tbody>\n",
       "</table>\n"
      ],
      "text/latex": [
       "\\begin{tabular}{r|llll}\n",
       " year & name & prop & rank\\\\\n",
       "\\hline\n",
       "\t 1880    & John    & 0.0815  & 1      \\\\\n",
       "\t 1881    & John    & 0.0810  & 2      \\\\\n",
       "\t 1880    & William & 0.0805  & 3      \\\\\n",
       "\t 1883    & John    & 0.0791  & 4      \\\\\n",
       "\t 1881    & William & 0.0787  & 5      \\\\\n",
       "\t 1882    & John    & 0.0783  & 6      \\\\\n",
       "\\end{tabular}\n"
      ],
      "text/markdown": [
       "\n",
       "| year | name | prop | rank |\n",
       "|---|---|---|---|\n",
       "| 1880    | John    | 0.0815  | 1       |\n",
       "| 1881    | John    | 0.0810  | 2       |\n",
       "| 1880    | William | 0.0805  | 3       |\n",
       "| 1883    | John    | 0.0791  | 4       |\n",
       "| 1881    | William | 0.0787  | 5       |\n",
       "| 1882    | John    | 0.0783  | 6       |\n",
       "\n"
      ],
      "text/plain": [
       "  year name    prop   rank\n",
       "1 1880 John    0.0815 1   \n",
       "2 1881 John    0.0810 2   \n",
       "3 1880 William 0.0805 3   \n",
       "4 1883 John    0.0791 4   \n",
       "5 1881 William 0.0787 5   \n",
       "6 1882 John    0.0783 6   "
      ]
     },
     "metadata": {},
     "output_type": "display_data"
    }
   ],
   "source": [
    "temp2 <- babynames %>%\n",
    "    select(year, name, prop) %>%\n",
    "    mutate(rank=rank(-prop))\n",
    "head(temp2[order(temp2$rank),])"
   ]
  },
  {
   "cell_type": "markdown",
   "metadata": {},
   "source": [
    "### Question 4"
   ]
  },
  {
   "cell_type": "code",
   "execution_count": 19,
   "metadata": {},
   "outputs": [
    {
     "data": {
      "text/html": [
       "<table>\n",
       "<thead><tr><th scope=col>family</th><th scope=col>father</th><th scope=col>mother</th><th scope=col>midparentHeight</th><th scope=col>children</th><th scope=col>childNum</th><th scope=col>gender</th><th scope=col>childHeight</th></tr></thead>\n",
       "<tbody>\n",
       "\t<tr><td>001   </td><td>78.5  </td><td>67.0  </td><td>75.4  </td><td>4     </td><td>1     </td><td>male  </td><td>73.2  </td></tr>\n",
       "\t<tr><td>001   </td><td>78.5  </td><td>67.0  </td><td>75.4  </td><td>4     </td><td>2     </td><td>female</td><td>69.2  </td></tr>\n",
       "\t<tr><td>001   </td><td>78.5  </td><td>67.0  </td><td>75.4  </td><td>4     </td><td>3     </td><td>female</td><td>69.0  </td></tr>\n",
       "\t<tr><td>001   </td><td>78.5  </td><td>67.0  </td><td>75.4  </td><td>4     </td><td>4     </td><td>female</td><td>69.0  </td></tr>\n",
       "\t<tr><td>002   </td><td>75.5  </td><td>66.5  </td><td>73.7  </td><td>4     </td><td>1     </td><td>male  </td><td>73.5  </td></tr>\n",
       "\t<tr><td>002   </td><td>75.5  </td><td>66.5  </td><td>73.7  </td><td>4     </td><td>2     </td><td>male  </td><td>72.5  </td></tr>\n",
       "</tbody>\n",
       "</table>\n"
      ],
      "text/latex": [
       "\\begin{tabular}{r|llllllll}\n",
       " family & father & mother & midparentHeight & children & childNum & gender & childHeight\\\\\n",
       "\\hline\n",
       "\t 001    & 78.5   & 67.0   & 75.4   & 4      & 1      & male   & 73.2  \\\\\n",
       "\t 001    & 78.5   & 67.0   & 75.4   & 4      & 2      & female & 69.2  \\\\\n",
       "\t 001    & 78.5   & 67.0   & 75.4   & 4      & 3      & female & 69.0  \\\\\n",
       "\t 001    & 78.5   & 67.0   & 75.4   & 4      & 4      & female & 69.0  \\\\\n",
       "\t 002    & 75.5   & 66.5   & 73.7   & 4      & 1      & male   & 73.5  \\\\\n",
       "\t 002    & 75.5   & 66.5   & 73.7   & 4      & 2      & male   & 72.5  \\\\\n",
       "\\end{tabular}\n"
      ],
      "text/markdown": [
       "\n",
       "| family | father | mother | midparentHeight | children | childNum | gender | childHeight |\n",
       "|---|---|---|---|---|---|---|---|\n",
       "| 001    | 78.5   | 67.0   | 75.4   | 4      | 1      | male   | 73.2   |\n",
       "| 001    | 78.5   | 67.0   | 75.4   | 4      | 2      | female | 69.2   |\n",
       "| 001    | 78.5   | 67.0   | 75.4   | 4      | 3      | female | 69.0   |\n",
       "| 001    | 78.5   | 67.0   | 75.4   | 4      | 4      | female | 69.0   |\n",
       "| 002    | 75.5   | 66.5   | 73.7   | 4      | 1      | male   | 73.5   |\n",
       "| 002    | 75.5   | 66.5   | 73.7   | 4      | 2      | male   | 72.5   |\n",
       "\n"
      ],
      "text/plain": [
       "  family father mother midparentHeight children childNum gender childHeight\n",
       "1 001    78.5   67.0   75.4            4        1        male   73.2       \n",
       "2 001    78.5   67.0   75.4            4        2        female 69.2       \n",
       "3 001    78.5   67.0   75.4            4        3        female 69.0       \n",
       "4 001    78.5   67.0   75.4            4        4        female 69.0       \n",
       "5 002    75.5   66.5   73.7            4        1        male   73.5       \n",
       "6 002    75.5   66.5   73.7            4        2        male   72.5       "
      ]
     },
     "metadata": {},
     "output_type": "display_data"
    }
   ],
   "source": [
    "# Install the HistData package\n",
    "if (!('HistData' %in% installed.packages())) {\n",
    "    install.packages('HistData')\n",
    "}\n",
    "\n",
    "# Load the HistData package into the workspace\n",
    "library('HistData')\n",
    "\n",
    "# Load the HistData package data\n",
    "data(GaltonFamilies)\n",
    "gf <- GaltonFamilies\n",
    "head(gf)"
   ]
  },
  {
   "cell_type": "markdown",
   "metadata": {},
   "source": [
    "Create a scatterplot of the child height to the father height:"
   ]
  },
  {
   "cell_type": "code",
   "execution_count": 20,
   "metadata": {},
   "outputs": [
    {
     "data": {
      "image/png": "[encoded data removed]",
      "text/plain": [
       "plot without title"
      ]
     },
     "metadata": {},
     "output_type": "display_data"
    }
   ],
   "source": [
    "options(repr.plot.width=5, repr.plot.height=5)\n",
    "plot(gf$childHeight, gf$father, cex=0.5,\n",
    "    xlab=\"Child Height\", ylab=\"Father Height\")"
   ]
  },
  {
   "cell_type": "markdown",
   "metadata": {},
   "source": [
    "Create a histogram of the children heights in inches and cm:"
   ]
  },
  {
   "cell_type": "code",
   "execution_count": 21,
   "metadata": {},
   "outputs": [
    {
     "data": {
      "image/png": "[encoded data removed]",
      "text/plain": [
       "Plot with title \"Child Height (cm)\""
      ]
     },
     "metadata": {},
     "output_type": "display_data"
    }
   ],
   "source": [
    "options(repr.plot.width=20, repr.plot.height=10)\n",
    "par(mfrow=c(1,2))\n",
    "hist(gf$childHeight, xlab='Child Height', main='Child Height (in)')\n",
    "hist(gf$childHeight*2.54, xlab='Child Height', main='Child Height (cm)')"
   ]
  },
  {
   "cell_type": "markdown",
   "metadata": {},
   "source": [
    "Create a boxplot of the children heights in inches and cm by gender:"
   ]
  },
  {
   "cell_type": "code",
   "execution_count": 22,
   "metadata": {},
   "outputs": [
    {
     "data": {
      "image/png": "[encoded data removed]",
      "text/plain": [
       "plot without title"
      ]
     },
     "metadata": {},
     "output_type": "display_data"
    }
   ],
   "source": [
    "options(repr.plot.width=6, repr.plot.height=6)\n",
    "par(mfrow=c(1,2))\n",
    "boxplot(gf$childHeight ~ gf$gender, xlab='Gender', ylab='Child Height (in)')\n",
    "boxplot(gf$childHeight*2.54 ~ gf$gender, xlab='Gender', ylab='Child Height (cm)')"
   ]
  },
  {
   "cell_type": "markdown",
   "metadata": {},
   "source": [
    "## Resources\n",
    "\n",
    "* [Resizing plots in Jupyter](https://blog.revolutionanalytics.com/2015/09/resizing-plots-in-the-r-kernel-for-jupyter-notebooks.html)\n",
    "* [Side-by-side graphs](https://www.theanalysisfactor.com/r-multiple-graphs/)\n",
    "* [Exporting a high resolution graph](https://community.rstudio.com/t/can-i-change-default-image-dimensions-for-export-of-plot/62876)"
   ]
  }
 ],
 "metadata": {
  "kernelspec": {
   "display_name": "R",
   "language": "R",
   "name": "ir"
  },
  "language_info": {
   "codemirror_mode": "r",
   "file_extension": ".r",
   "mimetype": "text/x-r-source",
   "name": "R",
   "pygments_lexer": "r",
   "version": "3.6.1"
  }
 },
 "nbformat": 4,
 "nbformat_minor": 4
}
