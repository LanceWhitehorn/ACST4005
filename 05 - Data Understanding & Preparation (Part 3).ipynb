{
 "cells": [
  {
   "cell_type": "markdown",
   "metadata": {},
   "source": [
    "# Week 5 - Data Understanding and Preparation (Part 3)\n",
    "\n",
    "## Notes"
   ]
  },
  {
   "cell_type": "code",
   "execution_count": 2,
   "metadata": {},
   "outputs": [],
   "source": [
    "# Clear the workspace\n",
    "rm(list=ls())\n",
    "\n",
    "# Load the relevant packages\n",
    "library('gapminder')\n",
    "library('tidyverse')\n",
    "library('gridExtra')\n",
    "\n",
    "# This is from the actual Google sheets\n",
    "gapminderall <- read_csv('data/Case Study 1 - Gapminder/gapminderall.csv', col_types=cols())\n",
    "\n",
    "# This is from the R library\n",
    "data(gapminder)"
   ]
  },
  {
   "cell_type": "markdown",
   "metadata": {},
   "source": [
    "### Checking Validity\n",
    "\n",
    "One way we can check the validity of data is to check between two sources. In the case of the gapminder data, we can use:\n",
    "* `setdiff()` which lists the actual differences based on the object called first.\n",
    "* `setequal()` which returns TRUE if the two objects are equal."
   ]
  },
  {
   "cell_type": "code",
   "execution_count": 3,
   "metadata": {},
   "outputs": [
    {
     "data": {
      "text/html": [
       "<ol class=list-inline>\n",
       "\t<li>'Afghanistan'</li>\n",
       "\t<li>'Korea, Dem. Rep.'</li>\n",
       "\t<li>'Myanmar'</li>\n",
       "\t<li>'Reunion'</li>\n",
       "\t<li>'Sao Tome and Principe'</li>\n",
       "\t<li>'Somalia'</li>\n",
       "\t<li>'Taiwan'</li>\n",
       "</ol>\n"
      ],
      "text/latex": [
       "\\begin{enumerate*}\n",
       "\\item 'Afghanistan'\n",
       "\\item 'Korea, Dem. Rep.'\n",
       "\\item 'Myanmar'\n",
       "\\item 'Reunion'\n",
       "\\item 'Sao Tome and Principe'\n",
       "\\item 'Somalia'\n",
       "\\item 'Taiwan'\n",
       "\\end{enumerate*}\n"
      ],
      "text/markdown": [
       "1. 'Afghanistan'\n",
       "2. 'Korea, Dem. Rep.'\n",
       "3. 'Myanmar'\n",
       "4. 'Reunion'\n",
       "5. 'Sao Tome and Principe'\n",
       "6. 'Somalia'\n",
       "7. 'Taiwan'\n",
       "\n",
       "\n"
      ],
      "text/plain": [
       "[1] \"Afghanistan\"           \"Korea, Dem. Rep.\"      \"Myanmar\"              \n",
       "[4] \"Reunion\"               \"Sao Tome and Principe\" \"Somalia\"              \n",
       "[7] \"Taiwan\"               "
      ]
     },
     "metadata": {},
     "output_type": "display_data"
    }
   ],
   "source": [
    "setdiff(unique(gapminder$country), unique(gapminderall$country))"
   ]
  },
  {
   "cell_type": "markdown",
   "metadata": {},
   "source": [
    "### Duplicates\n",
    "\n",
    "We can remove duplicates easily with the `distinct()` function. In the gapminder data set, all rows are distinct."
   ]
  },
  {
   "cell_type": "code",
   "execution_count": 4,
   "metadata": {},
   "outputs": [
    {
     "name": "stdout",
     "output_type": "stream",
     "text": [
      "[1] 10545     9\n",
      "[1] 10545     9\n"
     ]
    }
   ],
   "source": [
    "print(dim(gapminderall))\n",
    "print(dim(distinct(gapminderall)))"
   ]
  },
  {
   "cell_type": "markdown",
   "metadata": {},
   "source": [
    "### Missing Values\n",
    "\n",
    "It is important to consider the underlying reasons for why there is missing data. Missing data can create major risk of producing incorrect conclusions due to absence of relevant information leading to invalid results.\n",
    "\n",
    "Missing data are typically grouped into three categories. This [website](https://www-users.york.ac.uk/~mb55/intro/typemiss4.htm) provides an awesome explanation. This [too](https://stefvanbuuren.name/fimd/sec-MCAR.html).\n",
    "* **Missing completely at random** (MCAR)\n",
    "    * The missing data is independent of the observed and unobserved data and occur *entirely at random*.\n",
    "    * That is, the missingness has nothing to do with the person being studied.\n",
    "    * In other words, the data which remains can be considered a simple random sample of the full data set.\n",
    "    * For example, a questionnaire might get lost.\n",
    "    * This is generally regarded as a strong and often unrealistic assumption.\n",
    "* **Missing at random** (MAR)\n",
    "    * The missing data is systematically related to the observed but not the unobserved data.\n",
    "    * That is, the missingness has to do with the person, but can be predicted from other information about the person.\n",
    "    * This is easiest explained with an example. Consider that a survey is being conducted on depression. Male participants are less likely to complete the survey than female participants. So, the cause of the missing data is due to gender (observed) rather than their level of depression (unobserved).\n",
    "    * MAR is more general and more realistic than MCAR. Hence modern missing data methods generally start from the MAR assumption.\n",
    "* **Missing not at random** (MNAR)\n",
    "    * The missing data is systematically related to the unobserved data.\n",
    "    * If neither MCAR or MAR hold, then we consider MNAR.\n",
    "    * Continuing on from the previous example of a survey being conducted on depression. The missing data is considered MNAR if participants fail to complete the survey because of their level of depression (unobserved).\n",
    "\n",
    "And to handle missing values we can:\n",
    "* **Do nothing** - While some R functions will automatically omit NAs, others will fail and produce an error.\n",
    "* **Omit all observations with NAs** - In large datasets, this could be a consideration, but there's also the risk of losing information.\n",
    "* **Impute values** - This could include:\n",
    "    * Substituting NAs with 0.\n",
    "    * Substituting with the mean, median or mode value.\n",
    "    * Creating a custom algorithm to impute the values."
   ]
  },
  {
   "cell_type": "markdown",
   "metadata": {},
   "source": [
    "#### Summarising Missing Values\n",
    "\n",
    "Before we can handle missing values, we must understand and explore where the missing values occur. We can do this with the `naniar` package which provides many ways to summarise missing data or `sapply()` in base R."
   ]
  },
  {
   "cell_type": "code",
   "execution_count": 5,
   "metadata": {},
   "outputs": [
    {
     "data": {
      "text/html": [
       "<table>\n",
       "<thead><tr><th scope=col>variable</th><th scope=col>n_miss</th><th scope=col>pct_miss</th></tr></thead>\n",
       "<tbody>\n",
       "\t<tr><td>gdp             </td><td>2755            </td><td>26.126126       </td></tr>\n",
       "\t<tr><td>infant_mortality</td><td>1453            </td><td>13.779042       </td></tr>\n",
       "\t<tr><td>fertility       </td><td> 187            </td><td> 1.773352       </td></tr>\n",
       "\t<tr><td>population      </td><td> 185            </td><td> 1.754386       </td></tr>\n",
       "\t<tr><td>country         </td><td>   0            </td><td> 0.000000       </td></tr>\n",
       "\t<tr><td>year            </td><td>   0            </td><td> 0.000000       </td></tr>\n",
       "\t<tr><td>life_expectancy </td><td>   0            </td><td> 0.000000       </td></tr>\n",
       "\t<tr><td>continent       </td><td>   0            </td><td> 0.000000       </td></tr>\n",
       "\t<tr><td>region          </td><td>   0            </td><td> 0.000000       </td></tr>\n",
       "</tbody>\n",
       "</table>\n"
      ],
      "text/latex": [
       "\\begin{tabular}{r|lll}\n",
       " variable & n\\_miss & pct\\_miss\\\\\n",
       "\\hline\n",
       "\t gdp              & 2755             & 26.126126       \\\\\n",
       "\t infant\\_mortality & 1453               & 13.779042         \\\\\n",
       "\t fertility        &  187             &  1.773352       \\\\\n",
       "\t population       &  185             &  1.754386       \\\\\n",
       "\t country          &    0             &  0.000000       \\\\\n",
       "\t year             &    0             &  0.000000       \\\\\n",
       "\t life\\_expectancy  &    0               &  0.000000         \\\\\n",
       "\t continent        &    0             &  0.000000       \\\\\n",
       "\t region           &    0             &  0.000000       \\\\\n",
       "\\end{tabular}\n"
      ],
      "text/markdown": [
       "\n",
       "| variable | n_miss | pct_miss |\n",
       "|---|---|---|\n",
       "| gdp              | 2755             | 26.126126        |\n",
       "| infant_mortality | 1453             | 13.779042        |\n",
       "| fertility        |  187             |  1.773352        |\n",
       "| population       |  185             |  1.754386        |\n",
       "| country          |    0             |  0.000000        |\n",
       "| year             |    0             |  0.000000        |\n",
       "| life_expectancy  |    0             |  0.000000        |\n",
       "| continent        |    0             |  0.000000        |\n",
       "| region           |    0             |  0.000000        |\n",
       "\n"
      ],
      "text/plain": [
       "  variable         n_miss pct_miss \n",
       "1 gdp              2755   26.126126\n",
       "2 infant_mortality 1453   13.779042\n",
       "3 fertility         187    1.773352\n",
       "4 population        185    1.754386\n",
       "5 country             0    0.000000\n",
       "6 year                0    0.000000\n",
       "7 life_expectancy     0    0.000000\n",
       "8 continent           0    0.000000\n",
       "9 region              0    0.000000"
      ]
     },
     "metadata": {},
     "output_type": "display_data"
    }
   ],
   "source": [
    "library('naniar')\n",
    "miss_var_summary(gapminderall)"
   ]
  },
  {
   "cell_type": "code",
   "execution_count": 6,
   "metadata": {},
   "outputs": [
    {
     "data": {
      "text/html": [
       "<dl class=dl-horizontal>\n",
       "\t<dt>country</dt>\n",
       "\t\t<dd>0</dd>\n",
       "\t<dt>year</dt>\n",
       "\t\t<dd>0</dd>\n",
       "\t<dt>infant_mortality</dt>\n",
       "\t\t<dd>1453</dd>\n",
       "\t<dt>life_expectancy</dt>\n",
       "\t\t<dd>0</dd>\n",
       "\t<dt>fertility</dt>\n",
       "\t\t<dd>187</dd>\n",
       "\t<dt>population</dt>\n",
       "\t\t<dd>185</dd>\n",
       "\t<dt>gdp</dt>\n",
       "\t\t<dd>2755</dd>\n",
       "\t<dt>continent</dt>\n",
       "\t\t<dd>0</dd>\n",
       "\t<dt>region</dt>\n",
       "\t\t<dd>0</dd>\n",
       "</dl>\n"
      ],
      "text/latex": [
       "\\begin{description*}\n",
       "\\item[country] 0\n",
       "\\item[year] 0\n",
       "\\item[infant\\textbackslash{}\\_mortality] 1453\n",
       "\\item[life\\textbackslash{}\\_expectancy] 0\n",
       "\\item[fertility] 187\n",
       "\\item[population] 185\n",
       "\\item[gdp] 2755\n",
       "\\item[continent] 0\n",
       "\\item[region] 0\n",
       "\\end{description*}\n"
      ],
      "text/markdown": [
       "country\n",
       ":   0year\n",
       ":   0infant_mortality\n",
       ":   1453life_expectancy\n",
       ":   0fertility\n",
       ":   187population\n",
       ":   185gdp\n",
       ":   2755continent\n",
       ":   0region\n",
       ":   0\n",
       "\n"
      ],
      "text/plain": [
       "         country             year infant_mortality  life_expectancy \n",
       "               0                0             1453                0 \n",
       "       fertility       population              gdp        continent \n",
       "             187              185             2755                0 \n",
       "          region \n",
       "               0 "
      ]
     },
     "metadata": {},
     "output_type": "display_data"
    }
   ],
   "source": [
    "sapply(gapminderall, function(x){(sum(is.na(x)))})"
   ]
  },
  {
   "cell_type": "markdown",
   "metadata": {},
   "source": [
    "#### Imputing\n",
    "\n",
    "Once we have an idea of the missing data, we can impute using either:\n",
    "* The `dplyr` package and `ifelse()`.\n",
    "* The `naniar` and `simputation` packages.\n",
    "\n",
    "Using `dplyr` and `ifelse()`, we change the missing values to 0 in the first example, and the mean value in the second example. Note that `na.rm=TRUE` ignores NAs in the calculation of the mean."
   ]
  },
  {
   "cell_type": "code",
   "execution_count": 7,
   "metadata": {},
   "outputs": [
    {
     "data": {
      "text/html": [
       "<table>\n",
       "<thead><tr><th scope=col>country</th><th scope=col>year</th><th scope=col>infant_mortality</th><th scope=col>life_expectancy</th><th scope=col>fertility</th><th scope=col>population</th><th scope=col>gdp</th><th scope=col>continent</th><th scope=col>region</th></tr></thead>\n",
       "<tbody>\n",
       "\t<tr><td>Albania        </td><td>1960           </td><td>115.4          </td><td>62.87          </td><td>6.19           </td><td> 1636054       </td><td>          0    </td><td>Europe         </td><td>Southern Europe</td></tr>\n",
       "\t<tr><td>Algeria        </td><td>1960           </td><td>148.2          </td><td>47.50          </td><td>7.65           </td><td>11124892       </td><td>13828152297    </td><td>Africa         </td><td>Northern Africa</td></tr>\n",
       "\t<tr><td>Angola         </td><td>1960           </td><td>208.0          </td><td>35.98          </td><td>7.32           </td><td> 5270844       </td><td>          0    </td><td>Africa         </td><td>Middle Africa  </td></tr>\n",
       "</tbody>\n",
       "</table>\n"
      ],
      "text/latex": [
       "\\begin{tabular}{r|lllllllll}\n",
       " country & year & infant\\_mortality & life\\_expectancy & fertility & population & gdp & continent & region\\\\\n",
       "\\hline\n",
       "\t Albania         & 1960            & 115.4           & 62.87           & 6.19            &  1636054        &           0     & Europe          & Southern Europe\\\\\n",
       "\t Algeria         & 1960            & 148.2           & 47.50           & 7.65            & 11124892        & 13828152297     & Africa          & Northern Africa\\\\\n",
       "\t Angola          & 1960            & 208.0           & 35.98           & 7.32            &  5270844        &           0     & Africa          & Middle Africa  \\\\\n",
       "\\end{tabular}\n"
      ],
      "text/markdown": [
       "\n",
       "| country | year | infant_mortality | life_expectancy | fertility | population | gdp | continent | region |\n",
       "|---|---|---|---|---|---|---|---|---|\n",
       "| Albania         | 1960            | 115.4           | 62.87           | 6.19            |  1636054        |           0     | Europe          | Southern Europe |\n",
       "| Algeria         | 1960            | 148.2           | 47.50           | 7.65            | 11124892        | 13828152297     | Africa          | Northern Africa |\n",
       "| Angola          | 1960            | 208.0           | 35.98           | 7.32            |  5270844        |           0     | Africa          | Middle Africa   |\n",
       "\n"
      ],
      "text/plain": [
       "  country year infant_mortality life_expectancy fertility population\n",
       "1 Albania 1960 115.4            62.87           6.19       1636054  \n",
       "2 Algeria 1960 148.2            47.50           7.65      11124892  \n",
       "3 Angola  1960 208.0            35.98           7.32       5270844  \n",
       "  gdp         continent region         \n",
       "1           0 Europe    Southern Europe\n",
       "2 13828152297 Africa    Northern Africa\n",
       "3           0 Africa    Middle Africa  "
      ]
     },
     "metadata": {},
     "output_type": "display_data"
    }
   ],
   "source": [
    "gapminder_zero <- gapminderall %>%\n",
    "    mutate(\n",
    "        infant_mortality=ifelse(is.na(infant_mortality), 0, infant_mortality),\n",
    "        fertility=ifelse(is.na(fertility), 0, fertility),\n",
    "        population=ifelse(is.na(population), 0, population),\n",
    "        gdp=ifelse(is.na(gdp), 0, gdp),\n",
    "    )\n",
    "head(gapminder_zero, 3)\n",
    "# miss_var_summary(gapminder_zero)"
   ]
  },
  {
   "cell_type": "code",
   "execution_count": 8,
   "metadata": {},
   "outputs": [
    {
     "data": {
      "text/html": [
       "<table>\n",
       "<thead><tr><th scope=col>country</th><th scope=col>year</th><th scope=col>infant_mortality</th><th scope=col>life_expectancy</th><th scope=col>fertility</th><th scope=col>population</th><th scope=col>gdp</th><th scope=col>continent</th><th scope=col>region</th></tr></thead>\n",
       "<tbody>\n",
       "\t<tr><td>Albania        </td><td>1960           </td><td>115.4          </td><td>62.87          </td><td>6.19           </td><td> 1636054       </td><td>155913472931   </td><td>Europe         </td><td>Southern Europe</td></tr>\n",
       "\t<tr><td>Algeria        </td><td>1960           </td><td>148.2          </td><td>47.50          </td><td>7.65           </td><td>11124892       </td><td> 13828152297   </td><td>Africa         </td><td>Northern Africa</td></tr>\n",
       "\t<tr><td>Angola         </td><td>1960           </td><td>208.0          </td><td>35.98          </td><td>7.32           </td><td> 5270844       </td><td>155913472931   </td><td>Africa         </td><td>Middle Africa  </td></tr>\n",
       "</tbody>\n",
       "</table>\n"
      ],
      "text/latex": [
       "\\begin{tabular}{r|lllllllll}\n",
       " country & year & infant\\_mortality & life\\_expectancy & fertility & population & gdp & continent & region\\\\\n",
       "\\hline\n",
       "\t Albania         & 1960            & 115.4           & 62.87           & 6.19            &  1636054        & 155913472931    & Europe          & Southern Europe\\\\\n",
       "\t Algeria         & 1960            & 148.2           & 47.50           & 7.65            & 11124892        &  13828152297    & Africa          & Northern Africa\\\\\n",
       "\t Angola          & 1960            & 208.0           & 35.98           & 7.32            &  5270844        & 155913472931    & Africa          & Middle Africa  \\\\\n",
       "\\end{tabular}\n"
      ],
      "text/markdown": [
       "\n",
       "| country | year | infant_mortality | life_expectancy | fertility | population | gdp | continent | region |\n",
       "|---|---|---|---|---|---|---|---|---|\n",
       "| Albania         | 1960            | 115.4           | 62.87           | 6.19            |  1636054        | 155913472931    | Europe          | Southern Europe |\n",
       "| Algeria         | 1960            | 148.2           | 47.50           | 7.65            | 11124892        |  13828152297    | Africa          | Northern Africa |\n",
       "| Angola          | 1960            | 208.0           | 35.98           | 7.32            |  5270844        | 155913472931    | Africa          | Middle Africa   |\n",
       "\n"
      ],
      "text/plain": [
       "  country year infant_mortality life_expectancy fertility population\n",
       "1 Albania 1960 115.4            62.87           6.19       1636054  \n",
       "2 Algeria 1960 148.2            47.50           7.65      11124892  \n",
       "3 Angola  1960 208.0            35.98           7.32       5270844  \n",
       "  gdp          continent region         \n",
       "1 155913472931 Europe    Southern Europe\n",
       "2  13828152297 Africa    Northern Africa\n",
       "3 155913472931 Africa    Middle Africa  "
      ]
     },
     "metadata": {},
     "output_type": "display_data"
    }
   ],
   "source": [
    "gapminder_mean <- gapminderall %>%\n",
    "    mutate(\n",
    "        infant_mortality=ifelse(is.na(infant_mortality), mean(infant_mortality, na.rm=TRUE), infant_mortality),\n",
    "        fertility=ifelse(is.na(fertility), mean(fertility, na.rm=TRUE), fertility),\n",
    "        population=ifelse(is.na(population), mean(population, na.rm=TRUE), population),\n",
    "        gdp=ifelse(is.na(gdp), mean(gdp, na.rm=TRUE), gdp),\n",
    "    )\n",
    "head(gapminder_mean, 3)\n",
    "# miss_var_summary(gapminder_mean)"
   ]
  },
  {
   "cell_type": "markdown",
   "metadata": {},
   "source": [
    "Using `naniar` and `simputation`,"
   ]
  },
  {
   "cell_type": "code",
   "execution_count": 10,
   "metadata": {},
   "outputs": [],
   "source": [
    "library('naniar')\n",
    "library('simputation')"
   ]
  },
  {
   "cell_type": "markdown",
   "metadata": {},
   "source": [
    "**Replacing all NAs with zeros**\n",
    "\n",
    "Let's go through each function of code below:\n",
    "* `bind_shadow(only_miss=TRUE)` creates a column called 'col_NA' only for columns with missing values.\n",
    "* `add_label_shadow()` creates a column called 'any_missing' which is pretty self-explanatory.\n",
    "* `impute_const(col~0)` imputes zeros into that column."
   ]
  },
  {
   "cell_type": "code",
   "execution_count": 11,
   "metadata": {},
   "outputs": [
    {
     "data": {
      "text/html": [
       "<table>\n",
       "<thead><tr><th scope=col>country</th><th scope=col>year</th><th scope=col>infant_mortality</th><th scope=col>life_expectancy</th><th scope=col>fertility</th><th scope=col>population</th><th scope=col>gdp</th><th scope=col>continent</th><th scope=col>region</th><th scope=col>infant_mortality_NA</th><th scope=col>fertility_NA</th><th scope=col>population_NA</th><th scope=col>gdp_NA</th><th scope=col>any_missing</th></tr></thead>\n",
       "<tbody>\n",
       "\t<tr><td>Albania        </td><td>1960           </td><td>115.4          </td><td>62.87          </td><td>6.19           </td><td> 1636054       </td><td>          0    </td><td>Europe         </td><td>Southern Europe</td><td>!NA            </td><td>!NA            </td><td>!NA            </td><td>NA             </td><td>Missing        </td></tr>\n",
       "\t<tr><td>Algeria        </td><td>1960           </td><td>148.2          </td><td>47.50          </td><td>7.65           </td><td>11124892       </td><td>13828152297    </td><td>Africa         </td><td>Northern Africa</td><td>!NA            </td><td>!NA            </td><td>!NA            </td><td>!NA            </td><td>Not Missing    </td></tr>\n",
       "\t<tr><td>Angola         </td><td>1960           </td><td>208.0          </td><td>35.98          </td><td>7.32           </td><td> 5270844       </td><td>          0    </td><td>Africa         </td><td>Middle Africa  </td><td>!NA            </td><td>!NA            </td><td>!NA            </td><td>NA             </td><td>Missing        </td></tr>\n",
       "</tbody>\n",
       "</table>\n"
      ],
      "text/latex": [
       "\\begin{tabular}{r|llllllllllllll}\n",
       " country & year & infant\\_mortality & life\\_expectancy & fertility & population & gdp & continent & region & infant\\_mortality\\_NA & fertility\\_NA & population\\_NA & gdp\\_NA & any\\_missing\\\\\n",
       "\\hline\n",
       "\t Albania         & 1960            & 115.4           & 62.87           & 6.19            &  1636054        &           0     & Europe          & Southern Europe & !NA             & !NA             & !NA             & NA              & Missing        \\\\\n",
       "\t Algeria         & 1960            & 148.2           & 47.50           & 7.65            & 11124892        & 13828152297     & Africa          & Northern Africa & !NA             & !NA             & !NA             & !NA             & Not Missing    \\\\\n",
       "\t Angola          & 1960            & 208.0           & 35.98           & 7.32            &  5270844        &           0     & Africa          & Middle Africa   & !NA             & !NA             & !NA             & NA              & Missing        \\\\\n",
       "\\end{tabular}\n"
      ],
      "text/markdown": [
       "\n",
       "| country | year | infant_mortality | life_expectancy | fertility | population | gdp | continent | region | infant_mortality_NA | fertility_NA | population_NA | gdp_NA | any_missing |\n",
       "|---|---|---|---|---|---|---|---|---|---|---|---|---|---|\n",
       "| Albania         | 1960            | 115.4           | 62.87           | 6.19            |  1636054        |           0     | Europe          | Southern Europe | !NA             | !NA             | !NA             | NA              | Missing         |\n",
       "| Algeria         | 1960            | 148.2           | 47.50           | 7.65            | 11124892        | 13828152297     | Africa          | Northern Africa | !NA             | !NA             | !NA             | !NA             | Not Missing     |\n",
       "| Angola          | 1960            | 208.0           | 35.98           | 7.32            |  5270844        |           0     | Africa          | Middle Africa   | !NA             | !NA             | !NA             | NA              | Missing         |\n",
       "\n"
      ],
      "text/plain": [
       "  country year infant_mortality life_expectancy fertility population\n",
       "1 Albania 1960 115.4            62.87           6.19       1636054  \n",
       "2 Algeria 1960 148.2            47.50           7.65      11124892  \n",
       "3 Angola  1960 208.0            35.98           7.32       5270844  \n",
       "  gdp         continent region          infant_mortality_NA fertility_NA\n",
       "1           0 Europe    Southern Europe !NA                 !NA         \n",
       "2 13828152297 Africa    Northern Africa !NA                 !NA         \n",
       "3           0 Africa    Middle Africa   !NA                 !NA         \n",
       "  population_NA gdp_NA any_missing\n",
       "1 !NA           NA     Missing    \n",
       "2 !NA           !NA    Not Missing\n",
       "3 !NA           NA     Missing    "
      ]
     },
     "metadata": {},
     "output_type": "display_data"
    }
   ],
   "source": [
    "gap_zero <- gapminderall %>%\n",
    "    bind_shadow(only_miss=TRUE) %>%\n",
    "    add_label_shadow() %>%\n",
    "    impute_const(fertility~0) %>%\n",
    "    impute_const(population~0) %>%\n",
    "    impute_const(infant_mortality~0) %>%\n",
    "    impute_const(gdp~0)\n",
    "head(gap_zero, 3)\n",
    "# miss_var_summary(gap_zero)"
   ]
  },
  {
   "cell_type": "markdown",
   "metadata": {},
   "source": [
    "**Replacing all NAs with mean**"
   ]
  },
  {
   "cell_type": "code",
   "execution_count": 12,
   "metadata": {},
   "outputs": [
    {
     "name": "stderr",
     "output_type": "stream",
     "text": [
      "Warning message in mean.default(x, na.rm = TRUE):\n",
      "\"argument is not numeric or logical: returning NA\"Warning message in mean.default(x, na.rm = TRUE):\n",
      "\"argument is not numeric or logical: returning NA\"Warning message in mean.default(x, na.rm = TRUE):\n",
      "\"argument is not numeric or logical: returning NA\""
     ]
    },
    {
     "data": {
      "text/html": [
       "<table>\n",
       "<thead><tr><th scope=col>country</th><th scope=col>year</th><th scope=col>infant_mortality</th><th scope=col>life_expectancy</th><th scope=col>fertility</th><th scope=col>population</th><th scope=col>gdp</th><th scope=col>continent</th><th scope=col>region</th></tr></thead>\n",
       "<tbody>\n",
       "\t<tr><td>Albania        </td><td>1960           </td><td>115.4          </td><td>62.87          </td><td>6.19           </td><td> 1636054       </td><td>155913472931   </td><td>Europe         </td><td>Southern Europe</td></tr>\n",
       "\t<tr><td>Algeria        </td><td>1960           </td><td>148.2          </td><td>47.50          </td><td>7.65           </td><td>11124892       </td><td> 13828152297   </td><td>Africa         </td><td>Northern Africa</td></tr>\n",
       "\t<tr><td>Angola         </td><td>1960           </td><td>208.0          </td><td>35.98          </td><td>7.32           </td><td> 5270844       </td><td>155913472931   </td><td>Africa         </td><td>Middle Africa  </td></tr>\n",
       "</tbody>\n",
       "</table>\n"
      ],
      "text/latex": [
       "\\begin{tabular}{r|lllllllll}\n",
       " country & year & infant\\_mortality & life\\_expectancy & fertility & population & gdp & continent & region\\\\\n",
       "\\hline\n",
       "\t Albania         & 1960            & 115.4           & 62.87           & 6.19            &  1636054        & 155913472931    & Europe          & Southern Europe\\\\\n",
       "\t Algeria         & 1960            & 148.2           & 47.50           & 7.65            & 11124892        &  13828152297    & Africa          & Northern Africa\\\\\n",
       "\t Angola          & 1960            & 208.0           & 35.98           & 7.32            &  5270844        & 155913472931    & Africa          & Middle Africa  \\\\\n",
       "\\end{tabular}\n"
      ],
      "text/markdown": [
       "\n",
       "| country | year | infant_mortality | life_expectancy | fertility | population | gdp | continent | region |\n",
       "|---|---|---|---|---|---|---|---|---|\n",
       "| Albania         | 1960            | 115.4           | 62.87           | 6.19            |  1636054        | 155913472931    | Europe          | Southern Europe |\n",
       "| Algeria         | 1960            | 148.2           | 47.50           | 7.65            | 11124892        |  13828152297    | Africa          | Northern Africa |\n",
       "| Angola          | 1960            | 208.0           | 35.98           | 7.32            |  5270844        | 155913472931    | Africa          | Middle Africa   |\n",
       "\n"
      ],
      "text/plain": [
       "  country year infant_mortality life_expectancy fertility population\n",
       "1 Albania 1960 115.4            62.87           6.19       1636054  \n",
       "2 Algeria 1960 148.2            47.50           7.65      11124892  \n",
       "3 Angola  1960 208.0            35.98           7.32       5270844  \n",
       "  gdp          continent region         \n",
       "1 155913472931 Europe    Southern Europe\n",
       "2  13828152297 Africa    Northern Africa\n",
       "3 155913472931 Africa    Middle Africa  "
      ]
     },
     "metadata": {},
     "output_type": "display_data"
    }
   ],
   "source": [
    "gap_mean <- gapminderall %>%\n",
    "    impute_mean_all()\n",
    "head(gap_mean, 3)\n",
    "# miss_var_summary(gap_mean)"
   ]
  },
  {
   "cell_type": "markdown",
   "metadata": {},
   "source": [
    "#### Replacing all NAs with median"
   ]
  },
  {
   "cell_type": "code",
   "execution_count": 13,
   "metadata": {},
   "outputs": [
    {
     "data": {
      "text/html": [
       "<table>\n",
       "<thead><tr><th scope=col>country</th><th scope=col>year</th><th scope=col>infant_mortality</th><th scope=col>life_expectancy</th><th scope=col>fertility</th><th scope=col>population</th><th scope=col>gdp</th><th scope=col>continent</th><th scope=col>region</th></tr></thead>\n",
       "<tbody>\n",
       "\t<tr><td>Albania        </td><td>1960           </td><td>115.4          </td><td>62.87          </td><td>6.19           </td><td> 1636054       </td><td> 9498095348    </td><td>Europe         </td><td>Southern Europe</td></tr>\n",
       "\t<tr><td>Algeria        </td><td>1960           </td><td>148.2          </td><td>47.50          </td><td>7.65           </td><td>11124892       </td><td>13828152297    </td><td>Africa         </td><td>Northern Africa</td></tr>\n",
       "\t<tr><td>Angola         </td><td>1960           </td><td>208.0          </td><td>35.98          </td><td>7.32           </td><td> 5270844       </td><td> 9498095348    </td><td>Africa         </td><td>Middle Africa  </td></tr>\n",
       "</tbody>\n",
       "</table>\n"
      ],
      "text/latex": [
       "\\begin{tabular}{r|lllllllll}\n",
       " country & year & infant\\_mortality & life\\_expectancy & fertility & population & gdp & continent & region\\\\\n",
       "\\hline\n",
       "\t Albania         & 1960            & 115.4           & 62.87           & 6.19            &  1636054        &  9498095348     & Europe          & Southern Europe\\\\\n",
       "\t Algeria         & 1960            & 148.2           & 47.50           & 7.65            & 11124892        & 13828152297     & Africa          & Northern Africa\\\\\n",
       "\t Angola          & 1960            & 208.0           & 35.98           & 7.32            &  5270844        &  9498095348     & Africa          & Middle Africa  \\\\\n",
       "\\end{tabular}\n"
      ],
      "text/markdown": [
       "\n",
       "| country | year | infant_mortality | life_expectancy | fertility | population | gdp | continent | region |\n",
       "|---|---|---|---|---|---|---|---|---|\n",
       "| Albania         | 1960            | 115.4           | 62.87           | 6.19            |  1636054        |  9498095348     | Europe          | Southern Europe |\n",
       "| Algeria         | 1960            | 148.2           | 47.50           | 7.65            | 11124892        | 13828152297     | Africa          | Northern Africa |\n",
       "| Angola          | 1960            | 208.0           | 35.98           | 7.32            |  5270844        |  9498095348     | Africa          | Middle Africa   |\n",
       "\n"
      ],
      "text/plain": [
       "  country year infant_mortality life_expectancy fertility population\n",
       "1 Albania 1960 115.4            62.87           6.19       1636054  \n",
       "2 Algeria 1960 148.2            47.50           7.65      11124892  \n",
       "3 Angola  1960 208.0            35.98           7.32       5270844  \n",
       "  gdp         continent region         \n",
       "1  9498095348 Europe    Southern Europe\n",
       "2 13828152297 Africa    Northern Africa\n",
       "3  9498095348 Africa    Middle Africa  "
      ]
     },
     "metadata": {},
     "output_type": "display_data"
    }
   ],
   "source": [
    "gap_median <- gapminderall %>%\n",
    "    impute_median_all()\n",
    "head(gap_median, 3)"
   ]
  },
  {
   "cell_type": "markdown",
   "metadata": {},
   "source": [
    "#### Replacing all NAs with linear imputation\n",
    "\n",
    "We do this with the `simputation` package."
   ]
  },
  {
   "cell_type": "code",
   "execution_count": 14,
   "metadata": {},
   "outputs": [
    {
     "data": {
      "text/html": [
       "<table>\n",
       "<thead><tr><th scope=col>country</th><th scope=col>year</th><th scope=col>infant_mortality</th><th scope=col>life_expectancy</th><th scope=col>fertility</th><th scope=col>population</th><th scope=col>gdp</th><th scope=col>continent</th><th scope=col>region</th><th scope=col>infant_mortality_NA</th><th scope=col>fertility_NA</th><th scope=col>population_NA</th><th scope=col>gdp_NA</th><th scope=col>any_missing</th></tr></thead>\n",
       "<tbody>\n",
       "\t<tr><td>Albania        </td><td>1960           </td><td>115.4          </td><td>62.87          </td><td>6.19           </td><td> 1636054       </td><td> 163717886350  </td><td>Europe         </td><td>Southern Europe</td><td>!NA            </td><td>!NA            </td><td>!NA            </td><td>NA             </td><td>Missing        </td></tr>\n",
       "\t<tr><td>Algeria        </td><td>1960           </td><td>148.2          </td><td>47.50          </td><td>7.65           </td><td>11124892       </td><td>  13828152297  </td><td>Africa         </td><td>Northern Africa</td><td>!NA            </td><td>!NA            </td><td>!NA            </td><td>!NA            </td><td>Not Missing    </td></tr>\n",
       "\t<tr><td>Angola         </td><td>1960           </td><td>208.0          </td><td>35.98          </td><td>7.32           </td><td> 5270844       </td><td>-218486732820  </td><td>Africa         </td><td>Middle Africa  </td><td>!NA            </td><td>!NA            </td><td>!NA            </td><td>NA             </td><td>Missing        </td></tr>\n",
       "</tbody>\n",
       "</table>\n"
      ],
      "text/latex": [
       "\\begin{tabular}{r|llllllllllllll}\n",
       " country & year & infant\\_mortality & life\\_expectancy & fertility & population & gdp & continent & region & infant\\_mortality\\_NA & fertility\\_NA & population\\_NA & gdp\\_NA & any\\_missing\\\\\n",
       "\\hline\n",
       "\t Albania         & 1960            & 115.4           & 62.87           & 6.19            &  1636054        &  163717886350   & Europe          & Southern Europe & !NA             & !NA             & !NA             & NA              & Missing        \\\\\n",
       "\t Algeria         & 1960            & 148.2           & 47.50           & 7.65            & 11124892        &   13828152297   & Africa          & Northern Africa & !NA             & !NA             & !NA             & !NA             & Not Missing    \\\\\n",
       "\t Angola          & 1960            & 208.0           & 35.98           & 7.32            &  5270844        & -218486732820   & Africa          & Middle Africa   & !NA             & !NA             & !NA             & NA              & Missing        \\\\\n",
       "\\end{tabular}\n"
      ],
      "text/markdown": [
       "\n",
       "| country | year | infant_mortality | life_expectancy | fertility | population | gdp | continent | region | infant_mortality_NA | fertility_NA | population_NA | gdp_NA | any_missing |\n",
       "|---|---|---|---|---|---|---|---|---|---|---|---|---|---|\n",
       "| Albania         | 1960            | 115.4           | 62.87           | 6.19            |  1636054        |  163717886350   | Europe          | Southern Europe | !NA             | !NA             | !NA             | NA              | Missing         |\n",
       "| Algeria         | 1960            | 148.2           | 47.50           | 7.65            | 11124892        |   13828152297   | Africa          | Northern Africa | !NA             | !NA             | !NA             | !NA             | Not Missing     |\n",
       "| Angola          | 1960            | 208.0           | 35.98           | 7.32            |  5270844        | -218486732820   | Africa          | Middle Africa   | !NA             | !NA             | !NA             | NA              | Missing         |\n",
       "\n"
      ],
      "text/plain": [
       "  country year infant_mortality life_expectancy fertility population\n",
       "1 Albania 1960 115.4            62.87           6.19       1636054  \n",
       "2 Algeria 1960 148.2            47.50           7.65      11124892  \n",
       "3 Angola  1960 208.0            35.98           7.32       5270844  \n",
       "  gdp           continent region          infant_mortality_NA fertility_NA\n",
       "1  163717886350 Europe    Southern Europe !NA                 !NA         \n",
       "2   13828152297 Africa    Northern Africa !NA                 !NA         \n",
       "3 -218486732820 Africa    Middle Africa   !NA                 !NA         \n",
       "  population_NA gdp_NA any_missing\n",
       "1 !NA           NA     Missing    \n",
       "2 !NA           !NA    Not Missing\n",
       "3 !NA           NA     Missing    "
      ]
     },
     "metadata": {},
     "output_type": "display_data"
    }
   ],
   "source": [
    "gap_lm <- gapminderall %>%\n",
    "    bind_shadow(only_miss=TRUE) %>%\n",
    "    add_label_shadow() %>%\n",
    "    impute_lm(fertility ~ life_expectancy) %>%\n",
    "    impute_lm(population ~ life_expectancy + fertility + year) %>%\n",
    "    impute_lm(infant_mortality ~ life_expectancy + fertility) %>%\n",
    "    impute_lm(gdp ~ life_expectancy + year)\n",
    "head(gap_lm, 3)"
   ]
  },
  {
   "cell_type": "markdown",
   "metadata": {},
   "source": [
    "### Outliers\n",
    "\n",
    "The options to deal with outliers is similar to that of missing values:\n",
    "* **Keep the outlier**\n",
    "* **Drop the outlier** - Using `filter()`\n",
    "* **Cap the outlier** - Using `mutate()` and `ifelse()`; or `pmin()` or `pmax()`\n",
    "* **Impute the outlier** - Using `mutate()` and `ifelse()` to impute the mean / median"
   ]
  },
  {
   "cell_type": "markdown",
   "metadata": {},
   "source": [
    "### Correlation Considerations\n",
    "\n",
    "> \"Correlation does not imply causation\" - Dr. Herbert West\n",
    "\n",
    "These include:\n",
    "* **Spurious correlation** - This is when two variables are statistically related but not directly causally related. We have to be careful not to over-interpret associations between variables.\n",
    "* **Outliers** - Correlations can sometimes be driven by a few outliers. It is important to identify outliers when exploring the data.\n",
    "* **Confounders** - Confounding occurs when an extraneous $x$ variable that is not of direct interest to the study has an influence on the response $y$ and must therefore be taken into account or controlled for. If not, incorrect results may be obtained.\n",
    "    * Note that, as you include more variables, you lessen the bias but run the risk of introducing confounding variables. This will cause collinearity which increases the variance and reduces the precision of the estimates.\n",
    "    * There is no formal statistical test to determine if confounding has occurred. We need to use judgement in conjunction with graphical evidence to make an informed decision.\n",
    "    * For a small number of confounders, we could use stratification which is a method of sampling from a population which can be partitioned into subpopulations.\n",
    "    * For large number of confounders, regression modelling allows the analysis to control for them.\n",
    "* **Simpson's Paradox** - This is when the sign of the correlation flips when comparing the entire population and specific subsets of the population. It is most easily explained with an example, see the visual below. For the entire population (males and females), the correlation is positive. However, once we subset the population by gender, the correlations within each subset is negative.\n",
    "\n",
    "<img src='https://www.researchgate.net/profile/Rogier-Kievit/publication/256074671/figure/fig1/AS:203083998076929@1425430406422/Example-of-Simpsons-Paradox-Despite-the-fact-that-there-exists-a-negative-relationship.png' width=50% />\n",
    "\n",
    "#### Outliers\n",
    "\n",
    "Looking at outliers a bit more closesly, let's create a hundred values each from $N(100,1)$ and $N(80,1)$, and standardise all values except the 10th value such that they now come from the $N(0,1)$ distribution. We plot the two vectors to see for easier reference"
   ]
  },
  {
   "cell_type": "code",
   "execution_count": 15,
   "metadata": {},
   "outputs": [
    {
     "data": {
      "image/png": "[encoded data removed]",
      "text/plain": [
       "plot without title"
      ]
     },
     "metadata": {},
     "output_type": "display_data"
    }
   ],
   "source": [
    "set.seed(123)\n",
    "x <- rnorm(100, 100, 1) # 100 values from X ~ N(100, 1)\n",
    "y <- rnorm(100, 80, 1) # 100 values from Y ~ N(80, 1)\n",
    "\n",
    "# Standardising every value except the 10th value\n",
    "x[-10] <- scale(x)[-10]\n",
    "y[-10] <- scale(y)[-10]\n",
    "temp <- data.frame(cbind(x, y))\n",
    "\n",
    "options(repr.plot.width = 6, repr.plot.height = 3)\n",
    "all <- temp %>%\n",
    "    ggplot(aes(x, y)) +\n",
    "    geom_point(shape=21) +\n",
    "    ggtitle('All')\n",
    "standardised <- temp[-10,] %>%\n",
    "    ggplot(aes(x, y)) +\n",
    "    geom_point(shape=21) +\n",
    "    ggtitle('Standardised')\n",
    "grid.arrange(all, standardised, ncol=2)"
   ]
  },
  {
   "cell_type": "code",
   "execution_count": 16,
   "metadata": {},
   "outputs": [
    {
     "name": "stdout",
     "output_type": "stream",
     "text": [
      "[1] 0.99\n",
      "[1] -0.04\n"
     ]
    }
   ],
   "source": [
    "print(round(cor(x, y),2))\n",
    "print(round(cor(x[-10], y[-10]),2))"
   ]
  },
  {
   "cell_type": "markdown",
   "metadata": {},
   "source": [
    "Now, let's take a look at the two sets of correlations above:\n",
    "* If we include all values, the correlation is: 0.99\n",
    "* If we include only the standardised values, the correlation is: -0.04\n",
    "\n",
    "This shows that the correlation is clearly **driven by the outlier**. Without the outlier, the values are almost perfectly uncorrelated. This is precisely the reason we need to be weary of outliers and be sure to identify them when exploring the data."
   ]
  },
  {
   "cell_type": "code",
   "execution_count": 17,
   "metadata": {},
   "outputs": [
    {
     "data": {
      "image/png": "[encoded data removed]",
      "text/plain": [
       "plot without title"
      ]
     },
     "metadata": {},
     "output_type": "display_data"
    }
   ],
   "source": [
    "options(repr.plot.width = 3, repr.plot.height = 3)\n",
    "temp %>%\n",
    "    ggplot(aes(rank(x), rank(y))) +\n",
    "    geom_point(shape=21)"
   ]
  },
  {
   "cell_type": "markdown",
   "metadata": {},
   "source": [
    "### Variable / Feature Engineering\n",
    "\n",
    "Feature engineering is the process of transforming raw data into features that better represent the underlying problem to the predictive models, resulting in improved model accuracy on unseen data.\n",
    "\n",
    "Some examples of issues concerning variables / features including when we have:\n",
    "\n",
    "| Issue | Solution\n",
    "| :---- | :-------\n",
    "| A categorical variable that has been encoded as a numeric variable. | We can recode variables as factors using the base R function: `factor(vector, order=TRUE, levels=c(...))` or `as.factor(vector)`\n",
    "| Factors with levels that are counted differently but should be the same. | As R is case-sensitive, male vs MALE will be counted separately. We can inspect the data using `table()`, then `mutate()` a new column that resolves the discrepancy.\n",
    "| Algorithms (such as logistic regression and support vector machines) unable to handle categorical variables | We convert the variable to $n$ dummy numerical variables, with each variable taking a value of 0 or 1. This is called **[one-hot encoding](#one-hot)**.<br><br>Meanwhile, in regression, one variable is treated as the *reference category* (think back to STAT3175). This means that the variable does not need to be encoded. This is called **dummy encoding**.<img src='https://www.googleapis.com/download/storage/v1/b/kaggle-forum-message-attachments/o/inbox%2F5315434%2Fa9886ea90db74aad0b2f86d2686c337b%2Fohe-vs-dummy.png?generation=1601465979026694&alt=media' width=80%>\n",
    "| Categorical variables with high cardinality | Variables with high cardinality add complexity to the model, can lead to overfitting, and is taxing on computing resources. For example, post codes have high cardinality. That level of granularity may not be needed, and so post codes can be grouped to regions to reduce the complexity of the model.<br><br>Another popular method is called **[binning encoding](#binning)**. This involves combining classes for both nominal and ordinal categorical variables that are similar. After binning, one-hot encoding can be used to transform the categorical variables to dummy variables with values of 1 or 0.\n",
    "| High number of features/variables in the dataset | This is similar to the high cardinality issue above. When we have a high number of features/variables in the dataset, we may end up with issues such as mediocre performance, long training times, and overfitting. Some ways to reduce complexity by removing variables are: Dimension reduction techniques such as **[principal component analysis](#pca)** (PCA), domain knowledge, **[subset selection](#subset-selection)**, and **[shrinkage techniques](#shrinkage)**.\n",
    "\n",
    "\n",
    "<!-- https://miro.medium.com/max/1400/1*ggtP4a5YaRx6l09KQaYOnw.png -->\n",
    "\n",
    "#### One-hot Encoding <a class='anchor' id='one-hot'></a>\n",
    "\n",
    "Here's an example of how we can apply one-hot encoding - using `mutate()` and `ifelse()` - to the 'continent' column in gapminder:"
   ]
  },
  {
   "cell_type": "code",
   "execution_count": 18,
   "metadata": {},
   "outputs": [
    {
     "data": {
      "text/html": [
       "<table>\n",
       "<thead><tr><th scope=col>country</th><th scope=col>year</th><th scope=col>infant_mortality</th><th scope=col>life_expectancy</th><th scope=col>fertility</th><th scope=col>population</th><th scope=col>gdp</th><th scope=col>continent</th><th scope=col>region</th><th scope=col>Europe</th><th scope=col>Africa</th><th scope=col>Americas</th><th scope=col>Asia</th><th scope=col>Oceania</th></tr></thead>\n",
       "<tbody>\n",
       "\t<tr><td>Albania        </td><td>1960           </td><td>115.4          </td><td>62.87          </td><td>6.19           </td><td> 1636054       </td><td>         NA    </td><td>Europe         </td><td>Southern Europe</td><td>1              </td><td>0              </td><td>0              </td><td>0              </td><td>0              </td></tr>\n",
       "\t<tr><td>Algeria        </td><td>1960           </td><td>148.2          </td><td>47.50          </td><td>7.65           </td><td>11124892       </td><td>13828152297    </td><td>Africa         </td><td>Northern Africa</td><td>0              </td><td>1              </td><td>0              </td><td>0              </td><td>0              </td></tr>\n",
       "\t<tr><td>Angola         </td><td>1960           </td><td>208.0          </td><td>35.98          </td><td>7.32           </td><td> 5270844       </td><td>         NA    </td><td>Africa         </td><td>Middle Africa  </td><td>0              </td><td>1              </td><td>0              </td><td>0              </td><td>0              </td></tr>\n",
       "</tbody>\n",
       "</table>\n"
      ],
      "text/latex": [
       "\\begin{tabular}{r|llllllllllllll}\n",
       " country & year & infant\\_mortality & life\\_expectancy & fertility & population & gdp & continent & region & Europe & Africa & Americas & Asia & Oceania\\\\\n",
       "\\hline\n",
       "\t Albania         & 1960            & 115.4           & 62.87           & 6.19            &  1636054        &          NA     & Europe          & Southern Europe & 1               & 0               & 0               & 0               & 0              \\\\\n",
       "\t Algeria         & 1960            & 148.2           & 47.50           & 7.65            & 11124892        & 13828152297     & Africa          & Northern Africa & 0               & 1               & 0               & 0               & 0              \\\\\n",
       "\t Angola          & 1960            & 208.0           & 35.98           & 7.32            &  5270844        &          NA     & Africa          & Middle Africa   & 0               & 1               & 0               & 0               & 0              \\\\\n",
       "\\end{tabular}\n"
      ],
      "text/markdown": [
       "\n",
       "| country | year | infant_mortality | life_expectancy | fertility | population | gdp | continent | region | Europe | Africa | Americas | Asia | Oceania |\n",
       "|---|---|---|---|---|---|---|---|---|---|---|---|---|---|\n",
       "| Albania         | 1960            | 115.4           | 62.87           | 6.19            |  1636054        |          NA     | Europe          | Southern Europe | 1               | 0               | 0               | 0               | 0               |\n",
       "| Algeria         | 1960            | 148.2           | 47.50           | 7.65            | 11124892        | 13828152297     | Africa          | Northern Africa | 0               | 1               | 0               | 0               | 0               |\n",
       "| Angola          | 1960            | 208.0           | 35.98           | 7.32            |  5270844        |          NA     | Africa          | Middle Africa   | 0               | 1               | 0               | 0               | 0               |\n",
       "\n"
      ],
      "text/plain": [
       "  country year infant_mortality life_expectancy fertility population\n",
       "1 Albania 1960 115.4            62.87           6.19       1636054  \n",
       "2 Algeria 1960 148.2            47.50           7.65      11124892  \n",
       "3 Angola  1960 208.0            35.98           7.32       5270844  \n",
       "  gdp         continent region          Europe Africa Americas Asia Oceania\n",
       "1          NA Europe    Southern Europe 1      0      0        0    0      \n",
       "2 13828152297 Africa    Northern Africa 0      1      0        0    0      \n",
       "3          NA Africa    Middle Africa   0      1      0        0    0      "
      ]
     },
     "metadata": {},
     "output_type": "display_data"
    }
   ],
   "source": [
    "gap_oneHot <- gapminderall %>%\n",
    "    mutate(Europe = ifelse(continent=='Europe', 1, 0)) %>%\n",
    "    mutate(Africa = ifelse(continent=='Africa', 1, 0)) %>%\n",
    "    mutate(Americas = ifelse(continent=='Americas', 1, 0)) %>%\n",
    "    mutate(Asia = ifelse(continent=='Asia', 1, 0)) %>%\n",
    "    mutate(Oceania = ifelse(continent=='Oceania', 1, 0))\n",
    "head(gap_oneHot, 3)"
   ]
  },
  {
   "cell_type": "markdown",
   "metadata": {},
   "source": [
    "#### Binning Encoding <a class='anchor' id='binning'></a>\n",
    "\n",
    "Here's an example of how we can apply binning encoding - using `mutate()` and `case_when()`. But first, let's take a look at the different regions using `unique(gapminderall$country)`, then group them by a higher-level, that is, by continent."
   ]
  },
  {
   "cell_type": "code",
   "execution_count": 19,
   "metadata": {},
   "outputs": [
    {
     "data": {
      "text/html": [
       "<table>\n",
       "<thead><tr><th scope=col>continent</th><th scope=col>region</th><th scope=col>continent_new</th></tr></thead>\n",
       "<tbody>\n",
       "\t<tr><td>Europe         </td><td>Southern Europe</td><td>Europe         </td></tr>\n",
       "\t<tr><td>Africa         </td><td>Northern Africa</td><td>Africa         </td></tr>\n",
       "\t<tr><td>Africa         </td><td>Middle Africa  </td><td>Africa         </td></tr>\n",
       "</tbody>\n",
       "</table>\n"
      ],
      "text/latex": [
       "\\begin{tabular}{r|lll}\n",
       " continent & region & continent\\_new\\\\\n",
       "\\hline\n",
       "\t Europe          & Southern Europe & Europe         \\\\\n",
       "\t Africa          & Northern Africa & Africa         \\\\\n",
       "\t Africa          & Middle Africa   & Africa         \\\\\n",
       "\\end{tabular}\n"
      ],
      "text/markdown": [
       "\n",
       "| continent | region | continent_new |\n",
       "|---|---|---|\n",
       "| Europe          | Southern Europe | Europe          |\n",
       "| Africa          | Northern Africa | Africa          |\n",
       "| Africa          | Middle Africa   | Africa          |\n",
       "\n"
      ],
      "text/plain": [
       "  continent region          continent_new\n",
       "1 Europe    Southern Europe Europe       \n",
       "2 Africa    Northern Africa Africa       \n",
       "3 Africa    Middle Africa   Africa       "
      ]
     },
     "metadata": {},
     "output_type": "display_data"
    }
   ],
   "source": [
    "Europe <- c('Southern Europe', 'Eastern Europe', 'Western Europe', 'Northern Europe')\n",
    "Africa <- c('Northern Africa', 'Middle Africa', 'Western Africa', 'Southern Africa', 'Eastern Africa')\n",
    "Americas <- c('South America', 'Central America', 'Northern America', 'Caribbean')\n",
    "Asia <- c('Western Asia', 'Southern Asia', 'South-Eastern Asia', 'Eastern Asia', 'Central Asia')\n",
    "Oceania <- c('Australia and New Zealand', 'Melanesia', 'Polynesia', 'Micronesia')\n",
    "\n",
    "gapminder_group <- gapminderall %>%\n",
    "    mutate(continent_new = case_when(region %in% Europe ~ 'Europe',\n",
    "                                     region %in% Africa ~ 'Africa',\n",
    "                                     region %in% Americas ~ 'Americas',\n",
    "                                     region %in% Asia ~ 'Asia',\n",
    "                                     region %in% Oceania ~ 'Oceania')) %>%\n",
    "    select(continent, region, continent_new)\n",
    "\n",
    "head(gapminder_group, 3)"
   ]
  },
  {
   "cell_type": "markdown",
   "metadata": {},
   "source": [
    "This example is quite neat in that we have a general idea of how regions are 'binned' into continents. However, say that we did not know how to group regions into continents. We could try to group using a **data driven method**. For example, we could use life expectancy as the deciding factor for grouping regions. This is how we would do that:\n",
    "\n",
    "1. Split `life_expectancy` into ranges of 0-50 years, and 50+ years."
   ]
  },
  {
   "cell_type": "code",
   "execution_count": 20,
   "metadata": {},
   "outputs": [
    {
     "data": {
      "text/html": [
       "<table>\n",
       "<thead><tr><th scope=col>country</th><th scope=col>year</th><th scope=col>infant_mortality</th><th scope=col>life_expectancy</th><th scope=col>fertility</th><th scope=col>population</th><th scope=col>gdp</th><th scope=col>continent</th><th scope=col>region</th><th scope=col>lifeExpRange</th></tr></thead>\n",
       "<tbody>\n",
       "\t<tr><td>Albania        </td><td>1960           </td><td>115.4          </td><td>62.87          </td><td>6.19           </td><td> 1636054       </td><td>         NA    </td><td>Europe         </td><td>Southern Europe</td><td>life50over     </td></tr>\n",
       "\t<tr><td>Algeria        </td><td>1960           </td><td>148.2          </td><td>47.50          </td><td>7.65           </td><td>11124892       </td><td>13828152297    </td><td>Africa         </td><td>Northern Africa</td><td>life50under    </td></tr>\n",
       "\t<tr><td>Angola         </td><td>1960           </td><td>208.0          </td><td>35.98          </td><td>7.32           </td><td> 5270844       </td><td>         NA    </td><td>Africa         </td><td>Middle Africa  </td><td>life50under    </td></tr>\n",
       "</tbody>\n",
       "</table>\n"
      ],
      "text/latex": [
       "\\begin{tabular}{r|llllllllll}\n",
       " country & year & infant\\_mortality & life\\_expectancy & fertility & population & gdp & continent & region & lifeExpRange\\\\\n",
       "\\hline\n",
       "\t Albania         & 1960            & 115.4           & 62.87           & 6.19            &  1636054        &          NA     & Europe          & Southern Europe & life50over     \\\\\n",
       "\t Algeria         & 1960            & 148.2           & 47.50           & 7.65            & 11124892        & 13828152297     & Africa          & Northern Africa & life50under    \\\\\n",
       "\t Angola          & 1960            & 208.0           & 35.98           & 7.32            &  5270844        &          NA     & Africa          & Middle Africa   & life50under    \\\\\n",
       "\\end{tabular}\n"
      ],
      "text/markdown": [
       "\n",
       "| country | year | infant_mortality | life_expectancy | fertility | population | gdp | continent | region | lifeExpRange |\n",
       "|---|---|---|---|---|---|---|---|---|---|\n",
       "| Albania         | 1960            | 115.4           | 62.87           | 6.19            |  1636054        |          NA     | Europe          | Southern Europe | life50over      |\n",
       "| Algeria         | 1960            | 148.2           | 47.50           | 7.65            | 11124892        | 13828152297     | Africa          | Northern Africa | life50under     |\n",
       "| Angola          | 1960            | 208.0           | 35.98           | 7.32            |  5270844        |          NA     | Africa          | Middle Africa   | life50under     |\n",
       "\n"
      ],
      "text/plain": [
       "  country year infant_mortality life_expectancy fertility population\n",
       "1 Albania 1960 115.4            62.87           6.19       1636054  \n",
       "2 Algeria 1960 148.2            47.50           7.65      11124892  \n",
       "3 Angola  1960 208.0            35.98           7.32       5270844  \n",
       "  gdp         continent region          lifeExpRange\n",
       "1          NA Europe    Southern Europe life50over  \n",
       "2 13828152297 Africa    Northern Africa life50under \n",
       "3          NA Africa    Middle Africa   life50under "
      ]
     },
     "metadata": {},
     "output_type": "display_data"
    }
   ],
   "source": [
    "gapminder_lifegroup <- gapminderall %>%\n",
    "    mutate(lifeExpRange = case_when(life_expectancy <= 50 ~ 'life50under',\n",
    "                                    life_expectancy > 50 ~ 'life50over'))\n",
    "head(gapminder_lifegroup, 3)"
   ]
  },
  {
   "cell_type": "markdown",
   "metadata": {},
   "source": [
    "2. Create a proportion table of the frequencies between `region` and `lifeExpRange`, and convert it to a tibble."
   ]
  },
  {
   "cell_type": "code",
   "execution_count": 21,
   "metadata": {},
   "outputs": [
    {
     "data": {
      "text/html": [
       "<table>\n",
       "<thead><tr><th scope=col>region</th><th scope=col>lifeExpRange</th><th scope=col>n</th></tr></thead>\n",
       "<tbody>\n",
       "\t<tr><td>Australia and New Zealand</td><td>life50over               </td><td>1.0000000                </td></tr>\n",
       "\t<tr><td>Caribbean                </td><td>life50over               </td><td>0.9730094                </td></tr>\n",
       "\t<tr><td>Central America          </td><td>life50over               </td><td>0.9758772                </td></tr>\n",
       "</tbody>\n",
       "</table>\n"
      ],
      "text/latex": [
       "\\begin{tabular}{r|lll}\n",
       " region & lifeExpRange & n\\\\\n",
       "\\hline\n",
       "\t Australia and New Zealand & life50over                & 1.0000000                \\\\\n",
       "\t Caribbean                 & life50over                & 0.9730094                \\\\\n",
       "\t Central America           & life50over                & 0.9758772                \\\\\n",
       "\\end{tabular}\n"
      ],
      "text/markdown": [
       "\n",
       "| region | lifeExpRange | n |\n",
       "|---|---|---|\n",
       "| Australia and New Zealand | life50over                | 1.0000000                 |\n",
       "| Caribbean                 | life50over                | 0.9730094                 |\n",
       "| Central America           | life50over                | 0.9758772                 |\n",
       "\n"
      ],
      "text/plain": [
       "  region                    lifeExpRange n        \n",
       "1 Australia and New Zealand life50over   1.0000000\n",
       "2 Caribbean                 life50over   0.9730094\n",
       "3 Central America           life50over   0.9758772"
      ]
     },
     "metadata": {},
     "output_type": "display_data"
    }
   ],
   "source": [
    "prop_table <- gapminder_lifegroup %>%\n",
    "    select(region, lifeExpRange) %>%\n",
    "    table() %>%\n",
    "    prop.table(1)\n",
    "prop_tibble <- as_tibble(prop_table)\n",
    "head(prop_tibble, 3)"
   ]
  },
  {
   "cell_type": "markdown",
   "metadata": {},
   "source": [
    "3. Filter the rows where `lifeExpRange=='life50over` and rename `n` to `proportion`."
   ]
  },
  {
   "cell_type": "code",
   "execution_count": 22,
   "metadata": {},
   "outputs": [
    {
     "data": {
      "text/html": [
       "<table>\n",
       "<thead><tr><th scope=col>region</th><th scope=col>lifeExpRange</th><th scope=col>proportion</th></tr></thead>\n",
       "<tbody>\n",
       "\t<tr><td>Australia and New Zealand</td><td>life50over               </td><td>1.0000000                </td></tr>\n",
       "\t<tr><td>Caribbean                </td><td>life50over               </td><td>0.9730094                </td></tr>\n",
       "\t<tr><td>Central America          </td><td>life50over               </td><td>0.9758772                </td></tr>\n",
       "</tbody>\n",
       "</table>\n"
      ],
      "text/latex": [
       "\\begin{tabular}{r|lll}\n",
       " region & lifeExpRange & proportion\\\\\n",
       "\\hline\n",
       "\t Australia and New Zealand & life50over                & 1.0000000                \\\\\n",
       "\t Caribbean                 & life50over                & 0.9730094                \\\\\n",
       "\t Central America           & life50over                & 0.9758772                \\\\\n",
       "\\end{tabular}\n"
      ],
      "text/markdown": [
       "\n",
       "| region | lifeExpRange | proportion |\n",
       "|---|---|---|\n",
       "| Australia and New Zealand | life50over                | 1.0000000                 |\n",
       "| Caribbean                 | life50over                | 0.9730094                 |\n",
       "| Central America           | life50over                | 0.9758772                 |\n",
       "\n"
      ],
      "text/plain": [
       "  region                    lifeExpRange proportion\n",
       "1 Australia and New Zealand life50over   1.0000000 \n",
       "2 Caribbean                 life50over   0.9730094 \n",
       "3 Central America           life50over   0.9758772 "
      ]
     },
     "metadata": {},
     "output_type": "display_data"
    }
   ],
   "source": [
    "prop_tibble2 <- prop_tibble %>%\n",
    "    filter(lifeExpRange == 'life50over') %>%\n",
    "    rename(proportion=n)\n",
    "head(prop_tibble2, 3)"
   ]
  },
  {
   "cell_type": "markdown",
   "metadata": {},
   "source": [
    "4. Join the proportion tibble (prop_tibble2) with the original data set (gapminderall)."
   ]
  },
  {
   "cell_type": "code",
   "execution_count": 23,
   "metadata": {},
   "outputs": [
    {
     "data": {
      "text/html": [
       "<table>\n",
       "<thead><tr><th scope=col>country</th><th scope=col>year</th><th scope=col>infant_mortality</th><th scope=col>life_expectancy</th><th scope=col>fertility</th><th scope=col>population</th><th scope=col>gdp</th><th scope=col>continent</th><th scope=col>region</th><th scope=col>lifeExpRange</th><th scope=col>proportion</th></tr></thead>\n",
       "<tbody>\n",
       "\t<tr><td>Albania        </td><td>1960           </td><td>115.4          </td><td>62.87          </td><td>6.19           </td><td> 1636054       </td><td>         NA    </td><td>Europe         </td><td>Southern Europe</td><td>life50over     </td><td>1.0000000      </td></tr>\n",
       "\t<tr><td>Algeria        </td><td>1960           </td><td>148.2          </td><td>47.50          </td><td>7.65           </td><td>11124892       </td><td>13828152297    </td><td>Africa         </td><td>Northern Africa</td><td>life50over     </td><td>0.9181287      </td></tr>\n",
       "\t<tr><td>Angola         </td><td>1960           </td><td>208.0          </td><td>35.98          </td><td>7.32           </td><td> 5270844       </td><td>         NA    </td><td>Africa         </td><td>Middle Africa  </td><td>life50over     </td><td>0.5570175      </td></tr>\n",
       "</tbody>\n",
       "</table>\n"
      ],
      "text/latex": [
       "\\begin{tabular}{r|lllllllllll}\n",
       " country & year & infant\\_mortality & life\\_expectancy & fertility & population & gdp & continent & region & lifeExpRange & proportion\\\\\n",
       "\\hline\n",
       "\t Albania         & 1960            & 115.4           & 62.87           & 6.19            &  1636054        &          NA     & Europe          & Southern Europe & life50over      & 1.0000000      \\\\\n",
       "\t Algeria         & 1960            & 148.2           & 47.50           & 7.65            & 11124892        & 13828152297     & Africa          & Northern Africa & life50over      & 0.9181287      \\\\\n",
       "\t Angola          & 1960            & 208.0           & 35.98           & 7.32            &  5270844        &          NA     & Africa          & Middle Africa   & life50over      & 0.5570175      \\\\\n",
       "\\end{tabular}\n"
      ],
      "text/markdown": [
       "\n",
       "| country | year | infant_mortality | life_expectancy | fertility | population | gdp | continent | region | lifeExpRange | proportion |\n",
       "|---|---|---|---|---|---|---|---|---|---|---|\n",
       "| Albania         | 1960            | 115.4           | 62.87           | 6.19            |  1636054        |          NA     | Europe          | Southern Europe | life50over      | 1.0000000       |\n",
       "| Algeria         | 1960            | 148.2           | 47.50           | 7.65            | 11124892        | 13828152297     | Africa          | Northern Africa | life50over      | 0.9181287       |\n",
       "| Angola          | 1960            | 208.0           | 35.98           | 7.32            |  5270844        |          NA     | Africa          | Middle Africa   | life50over      | 0.5570175       |\n",
       "\n"
      ],
      "text/plain": [
       "  country year infant_mortality life_expectancy fertility population\n",
       "1 Albania 1960 115.4            62.87           6.19       1636054  \n",
       "2 Algeria 1960 148.2            47.50           7.65      11124892  \n",
       "3 Angola  1960 208.0            35.98           7.32       5270844  \n",
       "  gdp         continent region          lifeExpRange proportion\n",
       "1          NA Europe    Southern Europe life50over   1.0000000 \n",
       "2 13828152297 Africa    Northern Africa life50over   0.9181287 \n",
       "3          NA Africa    Middle Africa   life50over   0.5570175 "
      ]
     },
     "metadata": {},
     "output_type": "display_data"
    }
   ],
   "source": [
    "gapminderall_lifegroup <- left_join(gapminderall, prop_tibble2, by='region')\n",
    "head(gapminderall_lifegroup, 3)"
   ]
  },
  {
   "cell_type": "markdown",
   "metadata": {},
   "source": [
    "5. Create a new column with three levels of life expectancy (LE):\n",
    "* Low LE: < 60%\n",
    "* Mid LE: 60% - 80%\n",
    "* High LE: > 80%"
   ]
  },
  {
   "cell_type": "code",
   "execution_count": 24,
   "metadata": {},
   "outputs": [
    {
     "data": {
      "text/html": [
       "<table>\n",
       "<thead><tr><th scope=col>country</th><th scope=col>year</th><th scope=col>infant_mortality</th><th scope=col>life_expectancy</th><th scope=col>fertility</th><th scope=col>population</th><th scope=col>gdp</th><th scope=col>continent</th><th scope=col>region</th><th scope=col>lifeExpRange</th><th scope=col>proportion</th><th scope=col>regionGroups</th></tr></thead>\n",
       "<tbody>\n",
       "\t<tr><td>Albania        </td><td>1960           </td><td>115.4          </td><td>62.87          </td><td>6.19           </td><td> 1636054       </td><td>         NA    </td><td>Europe         </td><td>Southern Europe</td><td>life50over     </td><td>1.0000000      </td><td>highLE         </td></tr>\n",
       "\t<tr><td>Algeria        </td><td>1960           </td><td>148.2          </td><td>47.50          </td><td>7.65           </td><td>11124892       </td><td>13828152297    </td><td>Africa         </td><td>Northern Africa</td><td>life50over     </td><td>0.9181287      </td><td>highLE         </td></tr>\n",
       "\t<tr><td>Angola         </td><td>1960           </td><td>208.0          </td><td>35.98          </td><td>7.32           </td><td> 5270844       </td><td>         NA    </td><td>Africa         </td><td>Middle Africa  </td><td>life50over     </td><td>0.5570175      </td><td>lowLE          </td></tr>\n",
       "</tbody>\n",
       "</table>\n"
      ],
      "text/latex": [
       "\\begin{tabular}{r|llllllllllll}\n",
       " country & year & infant\\_mortality & life\\_expectancy & fertility & population & gdp & continent & region & lifeExpRange & proportion & regionGroups\\\\\n",
       "\\hline\n",
       "\t Albania         & 1960            & 115.4           & 62.87           & 6.19            &  1636054        &          NA     & Europe          & Southern Europe & life50over      & 1.0000000       & highLE         \\\\\n",
       "\t Algeria         & 1960            & 148.2           & 47.50           & 7.65            & 11124892        & 13828152297     & Africa          & Northern Africa & life50over      & 0.9181287       & highLE         \\\\\n",
       "\t Angola          & 1960            & 208.0           & 35.98           & 7.32            &  5270844        &          NA     & Africa          & Middle Africa   & life50over      & 0.5570175       & lowLE          \\\\\n",
       "\\end{tabular}\n"
      ],
      "text/markdown": [
       "\n",
       "| country | year | infant_mortality | life_expectancy | fertility | population | gdp | continent | region | lifeExpRange | proportion | regionGroups |\n",
       "|---|---|---|---|---|---|---|---|---|---|---|---|\n",
       "| Albania         | 1960            | 115.4           | 62.87           | 6.19            |  1636054        |          NA     | Europe          | Southern Europe | life50over      | 1.0000000       | highLE          |\n",
       "| Algeria         | 1960            | 148.2           | 47.50           | 7.65            | 11124892        | 13828152297     | Africa          | Northern Africa | life50over      | 0.9181287       | highLE          |\n",
       "| Angola          | 1960            | 208.0           | 35.98           | 7.32            |  5270844        |          NA     | Africa          | Middle Africa   | life50over      | 0.5570175       | lowLE           |\n",
       "\n"
      ],
      "text/plain": [
       "  country year infant_mortality life_expectancy fertility population\n",
       "1 Albania 1960 115.4            62.87           6.19       1636054  \n",
       "2 Algeria 1960 148.2            47.50           7.65      11124892  \n",
       "3 Angola  1960 208.0            35.98           7.32       5270844  \n",
       "  gdp         continent region          lifeExpRange proportion regionGroups\n",
       "1          NA Europe    Southern Europe life50over   1.0000000  highLE      \n",
       "2 13828152297 Africa    Northern Africa life50over   0.9181287  highLE      \n",
       "3          NA Africa    Middle Africa   life50over   0.5570175  lowLE       "
      ]
     },
     "metadata": {},
     "output_type": "display_data"
    }
   ],
   "source": [
    "gapminderall_lifegroup <- gapminderall_lifegroup %>%\n",
    "    mutate(regionGroups = case_when(proportion<0.6 ~ 'lowLE',\n",
    "                                    proportion>=0.6 & proportion<0.8 ~ 'midLE',\n",
    "                                    proportion>=0.8 ~ 'highLE'))\n",
    "head(gapminderall_lifegroup, 3)"
   ]
  },
  {
   "cell_type": "markdown",
   "metadata": {},
   "source": [
    "6. Finally, we can one-hot encode this."
   ]
  },
  {
   "cell_type": "code",
   "execution_count": 25,
   "metadata": {},
   "outputs": [
    {
     "data": {
      "text/html": [
       "<table>\n",
       "<thead><tr><th scope=col>country</th><th scope=col>region</th><th scope=col>year</th><th scope=col>life_expectancy</th><th scope=col>lowLE</th><th scope=col>midLE</th><th scope=col>highLE</th></tr></thead>\n",
       "<tbody>\n",
       "\t<tr><td>Albania        </td><td>Southern Europe</td><td>1960           </td><td>62.87          </td><td>0              </td><td>0              </td><td>1              </td></tr>\n",
       "\t<tr><td>Algeria        </td><td>Northern Africa</td><td>1960           </td><td>47.50          </td><td>0              </td><td>0              </td><td>1              </td></tr>\n",
       "\t<tr><td>Angola         </td><td>Middle Africa  </td><td>1960           </td><td>35.98          </td><td>1              </td><td>0              </td><td>0              </td></tr>\n",
       "</tbody>\n",
       "</table>\n"
      ],
      "text/latex": [
       "\\begin{tabular}{r|lllllll}\n",
       " country & region & year & life\\_expectancy & lowLE & midLE & highLE\\\\\n",
       "\\hline\n",
       "\t Albania         & Southern Europe & 1960            & 62.87           & 0               & 0               & 1              \\\\\n",
       "\t Algeria         & Northern Africa & 1960            & 47.50           & 0               & 0               & 1              \\\\\n",
       "\t Angola          & Middle Africa   & 1960            & 35.98           & 1               & 0               & 0              \\\\\n",
       "\\end{tabular}\n"
      ],
      "text/markdown": [
       "\n",
       "| country | region | year | life_expectancy | lowLE | midLE | highLE |\n",
       "|---|---|---|---|---|---|---|\n",
       "| Albania         | Southern Europe | 1960            | 62.87           | 0               | 0               | 1               |\n",
       "| Algeria         | Northern Africa | 1960            | 47.50           | 0               | 0               | 1               |\n",
       "| Angola          | Middle Africa   | 1960            | 35.98           | 1               | 0               | 0               |\n",
       "\n"
      ],
      "text/plain": [
       "  country region          year life_expectancy lowLE midLE highLE\n",
       "1 Albania Southern Europe 1960 62.87           0     0     1     \n",
       "2 Algeria Northern Africa 1960 47.50           0     0     1     \n",
       "3 Angola  Middle Africa   1960 35.98           1     0     0     "
      ]
     },
     "metadata": {},
     "output_type": "display_data"
    }
   ],
   "source": [
    "gapminderall_lifegroup <- gapminderall_lifegroup %>%\n",
    "    mutate(lowLE = ifelse(regionGroups=='lowLE', 1, 0)) %>%\n",
    "    mutate(midLE = ifelse(regionGroups=='midLE', 1, 0)) %>%\n",
    "    mutate(highLE = ifelse(regionGroups=='highLE', 1, 0))\n",
    "gapminderall_lifegroup %>%\n",
    "    select(country, region, year, life_expectancy, lowLE, midLE, highLE) %>%\n",
    "    head(3)"
   ]
  },
  {
   "cell_type": "markdown",
   "metadata": {},
   "source": [
    "#### Principal Component Analysis <a class='anchor' id='pca'></a>\n",
    "\n",
    "* Principal component analysis (PCA) is a method for dimension reduction.\n",
    "* PCA is a statistical procedure that allows you to summarise the variables in a large dataset by means of a smaller set of summary variables called principal components (i.e. PC1, PC2, etc), dropping the 'least important' variables/features.\n",
    "* This method is more appropriate for numeric rather than categorical variables."
   ]
  },
  {
   "cell_type": "code",
   "execution_count": 26,
   "metadata": {},
   "outputs": [
    {
     "data": {
      "text/plain": [
       "Importance of components:\n",
       "                          PC1    PC2    PC3    PC4    PC5\n",
       "Standard deviation     1.5031 1.1213 0.8485 0.7816 0.3905\n",
       "Proportion of Variance 0.4519 0.2515 0.1440 0.1222 0.0305\n",
       "Cumulative Proportion  0.4519 0.7033 0.8473 0.9695 1.0000"
      ]
     },
     "metadata": {},
     "output_type": "display_data"
    }
   ],
   "source": [
    "gapminder_allOmit <- na.omit(gapminderall)\n",
    "\n",
    "# We select year, infant_mortality, fertility, population, gdp\n",
    "gapminder_allPCA <- prcomp(gapminder_allOmit[,c(2,3,5,6,7)], center=TRUE, scale.=TRUE)\n",
    "\n",
    "summary(gapminder_allPCA)"
   ]
  },
  {
   "cell_type": "code",
   "execution_count": 27,
   "metadata": {},
   "outputs": [
    {
     "name": "stdout",
     "output_type": "stream",
     "text": [
      "[1] 7288    5\n"
     ]
    },
    {
     "data": {
      "text/html": [
       "<table>\n",
       "<thead><tr><th scope=col>PC1</th><th scope=col>PC2</th><th scope=col>PC3</th><th scope=col>PC4</th><th scope=col>PC5</th></tr></thead>\n",
       "<tbody>\n",
       "\t<tr><td>-3.2331022</td><td>0.62721184</td><td>0.5584271 </td><td>-0.2008268</td><td>-0.1122064</td></tr>\n",
       "\t<tr><td>-0.6928250</td><td>0.26869033</td><td>1.2839172 </td><td>-1.4174465</td><td>-0.3430209</td></tr>\n",
       "\t<tr><td>-0.3022031</td><td>0.06662155</td><td>1.4614497 </td><td>-1.5511111</td><td> 0.3661073</td></tr>\n",
       "</tbody>\n",
       "</table>\n"
      ],
      "text/latex": [
       "\\begin{tabular}{r|lllll}\n",
       " PC1 & PC2 & PC3 & PC4 & PC5\\\\\n",
       "\\hline\n",
       "\t -3.2331022 & 0.62721184 & 0.5584271  & -0.2008268 & -0.1122064\\\\\n",
       "\t -0.6928250 & 0.26869033 & 1.2839172  & -1.4174465 & -0.3430209\\\\\n",
       "\t -0.3022031 & 0.06662155 & 1.4614497  & -1.5511111 &  0.3661073\\\\\n",
       "\\end{tabular}\n"
      ],
      "text/markdown": [
       "\n",
       "| PC1 | PC2 | PC3 | PC4 | PC5 |\n",
       "|---|---|---|---|---|\n",
       "| -3.2331022 | 0.62721184 | 0.5584271  | -0.2008268 | -0.1122064 |\n",
       "| -0.6928250 | 0.26869033 | 1.2839172  | -1.4174465 | -0.3430209 |\n",
       "| -0.3022031 | 0.06662155 | 1.4614497  | -1.5511111 |  0.3661073 |\n",
       "\n"
      ],
      "text/plain": [
       "  PC1        PC2        PC3       PC4        PC5       \n",
       "1 -3.2331022 0.62721184 0.5584271 -0.2008268 -0.1122064\n",
       "2 -0.6928250 0.26869033 1.2839172 -1.4174465 -0.3430209\n",
       "3 -0.3022031 0.06662155 1.4614497 -1.5511111  0.3661073"
      ]
     },
     "metadata": {},
     "output_type": "display_data"
    }
   ],
   "source": [
    "gapminder_allPCAVals <- as_tibble(gapminder_allPCA$x)\n",
    "print(dim(gapminder_allPCAVals))\n",
    "head(gapminder_allPCAVals, 3)"
   ]
  },
  {
   "cell_type": "code",
   "execution_count": 28,
   "metadata": {
    "scrolled": true
   },
   "outputs": [
    {
     "data": {
      "text/html": [
       "<table>\n",
       "<thead><tr><th></th><th scope=col>life_expectancy</th><th scope=col>PC1</th><th scope=col>PC2</th><th scope=col>PC3</th><th scope=col>PC4</th></tr></thead>\n",
       "<tbody>\n",
       "\t<tr><th scope=row>life_expectancy</th><td> 1.0000000   </td><td> 8.595873e-01</td><td>-1.411630e-01</td><td> 1.895904e-01</td><td>-2.015372e-01</td></tr>\n",
       "\t<tr><th scope=row>PC1</th><td> 0.8595873   </td><td> 1.000000e+00</td><td>-3.459032e-16</td><td>-3.524540e-16</td><td>-1.202235e-16</td></tr>\n",
       "\t<tr><th scope=row>PC2</th><td>-0.1411630   </td><td>-3.459032e-16</td><td> 1.000000e+00</td><td>-2.733926e-16</td><td> 3.648154e-16</td></tr>\n",
       "\t<tr><th scope=row>PC3</th><td> 0.1895904   </td><td>-3.524540e-16</td><td>-2.733926e-16</td><td> 1.000000e+00</td><td>-6.061845e-17</td></tr>\n",
       "\t<tr><th scope=row>PC4</th><td>-0.2015372   </td><td>-1.202235e-16</td><td> 3.648154e-16</td><td>-6.061845e-17</td><td> 1.000000e+00</td></tr>\n",
       "</tbody>\n",
       "</table>\n"
      ],
      "text/latex": [
       "\\begin{tabular}{r|lllll}\n",
       "  & life\\_expectancy & PC1 & PC2 & PC3 & PC4\\\\\n",
       "\\hline\n",
       "\tlife\\_expectancy &  1.0000000    &  8.595873e-01 & -1.411630e-01 &  1.895904e-01 & -2.015372e-01\\\\\n",
       "\tPC1 &  0.8595873    &  1.000000e+00 & -3.459032e-16 & -3.524540e-16 & -1.202235e-16\\\\\n",
       "\tPC2 & -0.1411630    & -3.459032e-16 &  1.000000e+00 & -2.733926e-16 &  3.648154e-16\\\\\n",
       "\tPC3 &  0.1895904    & -3.524540e-16 & -2.733926e-16 &  1.000000e+00 & -6.061845e-17\\\\\n",
       "\tPC4 & -0.2015372    & -1.202235e-16 &  3.648154e-16 & -6.061845e-17 &  1.000000e+00\\\\\n",
       "\\end{tabular}\n"
      ],
      "text/markdown": [
       "\n",
       "| <!--/--> | life_expectancy | PC1 | PC2 | PC3 | PC4 |\n",
       "|---|---|---|---|---|---|\n",
       "| life_expectancy |  1.0000000    |  8.595873e-01 | -1.411630e-01 |  1.895904e-01 | -2.015372e-01 |\n",
       "| PC1 |  0.8595873    |  1.000000e+00 | -3.459032e-16 | -3.524540e-16 | -1.202235e-16 |\n",
       "| PC2 | -0.1411630    | -3.459032e-16 |  1.000000e+00 | -2.733926e-16 |  3.648154e-16 |\n",
       "| PC3 |  0.1895904    | -3.524540e-16 | -2.733926e-16 |  1.000000e+00 | -6.061845e-17 |\n",
       "| PC4 | -0.2015372    | -1.202235e-16 |  3.648154e-16 | -6.061845e-17 |  1.000000e+00 |\n",
       "\n"
      ],
      "text/plain": [
       "                life_expectancy PC1           PC2           PC3          \n",
       "life_expectancy  1.0000000       8.595873e-01 -1.411630e-01  1.895904e-01\n",
       "PC1              0.8595873       1.000000e+00 -3.459032e-16 -3.524540e-16\n",
       "PC2             -0.1411630      -3.459032e-16  1.000000e+00 -2.733926e-16\n",
       "PC3              0.1895904      -3.524540e-16 -2.733926e-16  1.000000e+00\n",
       "PC4             -0.2015372      -1.202235e-16  3.648154e-16 -6.061845e-17\n",
       "                PC4          \n",
       "life_expectancy -2.015372e-01\n",
       "PC1             -1.202235e-16\n",
       "PC2              3.648154e-16\n",
       "PC3             -6.061845e-17\n",
       "PC4              1.000000e+00"
      ]
     },
     "metadata": {},
     "output_type": "display_data"
    }
   ],
   "source": [
    "# We bind the gapminder_allOmit with the PCA values above\n",
    "gapminder_allPCA <- bind_cols(gapminder_allOmit, gapminder_allPCAVals)\n",
    "\n",
    "# Then we select the columns we're after, that is, life_expectancy and PC1 through to PC4\n",
    "gapminder_allPCA <- gapminder_allPCA[,c(4, 10:13)]\n",
    "\n",
    "# Finally, we look at the correlations between the chosen variables\n",
    "cor(gapminder_allPCA)"
   ]
  },
  {
   "cell_type": "markdown",
   "metadata": {},
   "source": [
    "#### Subset Selection <a class='anchor' id='subset-selection'></a>\n",
    "\n",
    "You can think back to STAT3175, and you'll find yourself recalling these concepts:\n",
    "\n",
    "* **Forward selection** - Involves starting with the intercept model and at each step, we add one variable whose addition gives the most improvement to the model fit (or equivalently, according to the criterion i.e. AIC or BIC)\n",
    "* **Backward selection** - Involves starting with all variables and at each step, we remove one whose loss gives the most insignificant deterioration of the model fit (or equivalently, according to the chosen criterion i.e. AIC or BIC)\n",
    "* **Stepwise selection** - This is a combination of forward and backward selection where at each step, we add or remove one variable.\n",
    "\n",
    "#### Shrinkage Techniques <a class='anchor' id='shrinkage'></a>\n",
    "\n",
    "These include LASSO and ridge regression which will be covered in later weeks."
   ]
  },
  {
   "cell_type": "markdown",
   "metadata": {},
   "source": [
    "### Imbalanced Data\n",
    "\n",
    "Imbalanced data occurs when classes are not represented equally, that is, there are clear **minority classes** and **majority classes**. For example, we may have a binary classification system with 100 rows of which 80 rows are 'Class A' and 20 rows are 'Class B'. This is an imbalanced dataset.\n",
    "\n",
    "There are a few methods to treat imbalanced datasets:\n",
    "* **[Under-sampling](#under-sampling)** - We decrease the number of samples of the majority class.\n",
    "* **[Over-sampling](#over-sampling)** - We increase the number of samples of the minority class.\n",
    "* **[Synthetic Data Generation](#sdg)** - For example, Synthetic Minotiry Over-sampling (SMOTE) which creates synthetic observations of the minority class."
   ]
  },
  {
   "cell_type": "code",
   "execution_count": 30,
   "metadata": {},
   "outputs": [
    {
     "data": {
      "text/html": [
       "<table>\n",
       "<thead><tr><th scope=col>Time</th><th scope=col>V1</th><th scope=col>V2</th><th scope=col>V3</th><th scope=col>V4</th><th scope=col>V5</th><th scope=col>V6</th><th scope=col>V7</th><th scope=col>V8</th><th scope=col>V9</th><th scope=col>...</th><th scope=col>V22</th><th scope=col>V23</th><th scope=col>V24</th><th scope=col>V25</th><th scope=col>V26</th><th scope=col>V27</th><th scope=col>V28</th><th scope=col>Amount</th><th scope=col>Class</th><th scope=col>Id</th></tr></thead>\n",
       "<tbody>\n",
       "\t<tr><td> 73         </td><td> 1.1622809  </td><td>1.2481783   </td><td>-1.5813171  </td><td>1.4750242   </td><td> 1.13835706 </td><td>-1.02037340 </td><td> 0.63838729 </td><td>-0.13676225 </td><td>-0.8055049  </td><td>...         </td><td>-0.2271498  </td><td>-0.1991849  </td><td>-0.289757395</td><td> 0.7762436  </td><td>-0.2839502  </td><td> 0.056746815</td><td> 0.08470646 </td><td> 1.00       </td><td>0           </td><td>1           </td></tr>\n",
       "\t<tr><td>128         </td><td>-0.5497161  </td><td>0.9076652   </td><td> 1.5979489  </td><td>1.2989778   </td><td> 0.58799340 </td><td> 0.03237592 </td><td> 0.75425241 </td><td>-0.30661365 </td><td>-0.2692968  </td><td>...         </td><td> 0.4177062  </td><td>-0.2652176  </td><td> 0.129560503</td><td>-0.2282406  </td><td>-0.3047804  </td><td>-0.190977590</td><td>-0.08708063 </td><td>10.00       </td><td>0           </td><td>2           </td></tr>\n",
       "\t<tr><td>155         </td><td> 1.1719535  </td><td>0.3112133   </td><td> 0.3136051  </td><td>0.5192304   </td><td>-0.05803211 </td><td>-0.25876868 </td><td>-0.04384281 </td><td> 0.03959889 </td><td>-0.3442269  </td><td>...         </td><td>-0.5419163  </td><td> 0.1374911  </td><td>-0.001739462</td><td> 0.1391213  </td><td> 0.1043759  </td><td>-0.005414212</td><td> 0.01872801 </td><td> 1.29       </td><td>0           </td><td>3           </td></tr>\n",
       "</tbody>\n",
       "</table>\n"
      ],
      "text/latex": [
       "\\begin{tabular}{r|llllllllllllllllllllllllllllllll}\n",
       " Time & V1 & V2 & V3 & V4 & V5 & V6 & V7 & V8 & V9 & ... & V22 & V23 & V24 & V25 & V26 & V27 & V28 & Amount & Class & Id\\\\\n",
       "\\hline\n",
       "\t  73          &  1.1622809   & 1.2481783    & -1.5813171   & 1.4750242    &  1.13835706  & -1.02037340  &  0.63838729  & -0.13676225  & -0.8055049   & ...          & -0.2271498   & -0.1991849   & -0.289757395 &  0.7762436   & -0.2839502   &  0.056746815 &  0.08470646  &  1.00        & 0            & 1           \\\\\n",
       "\t 128          & -0.5497161   & 0.9076652    &  1.5979489   & 1.2989778    &  0.58799340  &  0.03237592  &  0.75425241  & -0.30661365  & -0.2692968   & ...          &  0.4177062   & -0.2652176   &  0.129560503 & -0.2282406   & -0.3047804   & -0.190977590 & -0.08708063  & 10.00        & 0            & 2           \\\\\n",
       "\t 155          &  1.1719535   & 0.3112133    &  0.3136051   & 0.5192304    & -0.05803211  & -0.25876868  & -0.04384281  &  0.03959889  & -0.3442269   & ...          & -0.5419163   &  0.1374911   & -0.001739462 &  0.1391213   &  0.1043759   & -0.005414212 &  0.01872801  &  1.29        & 0            & 3           \\\\\n",
       "\\end{tabular}\n"
      ],
      "text/markdown": [
       "\n",
       "| Time | V1 | V2 | V3 | V4 | V5 | V6 | V7 | V8 | V9 | ... | V22 | V23 | V24 | V25 | V26 | V27 | V28 | Amount | Class | Id |\n",
       "|---|---|---|---|---|---|---|---|---|---|---|---|---|---|---|---|---|---|---|---|---|\n",
       "|  73          |  1.1622809   | 1.2481783    | -1.5813171   | 1.4750242    |  1.13835706  | -1.02037340  |  0.63838729  | -0.13676225  | -0.8055049   | ...          | -0.2271498   | -0.1991849   | -0.289757395 |  0.7762436   | -0.2839502   |  0.056746815 |  0.08470646  |  1.00        | 0            | 1            |\n",
       "| 128          | -0.5497161   | 0.9076652    |  1.5979489   | 1.2989778    |  0.58799340  |  0.03237592  |  0.75425241  | -0.30661365  | -0.2692968   | ...          |  0.4177062   | -0.2652176   |  0.129560503 | -0.2282406   | -0.3047804   | -0.190977590 | -0.08708063  | 10.00        | 0            | 2            |\n",
       "| 155          |  1.1719535   | 0.3112133    |  0.3136051   | 0.5192304    | -0.05803211  | -0.25876868  | -0.04384281  |  0.03959889  | -0.3442269   | ...          | -0.5419163   |  0.1374911   | -0.001739462 |  0.1391213   |  0.1043759   | -0.005414212 |  0.01872801  |  1.29        | 0            | 3            |\n",
       "\n"
      ],
      "text/plain": [
       "  Time V1         V2        V3         V4        V5          V6         \n",
       "1  73   1.1622809 1.2481783 -1.5813171 1.4750242  1.13835706 -1.02037340\n",
       "2 128  -0.5497161 0.9076652  1.5979489 1.2989778  0.58799340  0.03237592\n",
       "3 155   1.1719535 0.3112133  0.3136051 0.5192304 -0.05803211 -0.25876868\n",
       "  V7          V8          V9         ... V22        V23        V24         \n",
       "1  0.63838729 -0.13676225 -0.8055049 ... -0.2271498 -0.1991849 -0.289757395\n",
       "2  0.75425241 -0.30661365 -0.2692968 ...  0.4177062 -0.2652176  0.129560503\n",
       "3 -0.04384281  0.03959889 -0.3442269 ... -0.5419163  0.1374911 -0.001739462\n",
       "  V25        V26        V27          V28         Amount Class Id\n",
       "1  0.7762436 -0.2839502  0.056746815  0.08470646  1.00  0     1 \n",
       "2 -0.2282406 -0.3047804 -0.190977590 -0.08708063 10.00  0     2 \n",
       "3  0.1391213  0.1043759 -0.005414212  0.01872801  1.29  0     3 "
      ]
     },
     "metadata": {},
     "output_type": "display_data"
    }
   ],
   "source": [
    "library('ROSE')\n",
    "library('smotefamily')\n",
    "\n",
    "creditcard <- read_csv('data/Case Study 3 - Big Bank/creditcardcut.csv', col_types=cols())\n",
    "head(creditcard, 3)"
   ]
  },
  {
   "cell_type": "code",
   "execution_count": 31,
   "metadata": {},
   "outputs": [
    {
     "data": {
      "text/plain": [
       "\n",
       "   0    1 \n",
       "6551  337 "
      ]
     },
     "metadata": {},
     "output_type": "display_data"
    },
    {
     "data": {
      "text/plain": [
       "\n",
       "         0          1 \n",
       "0.95107433 0.04892567 "
      ]
     },
     "metadata": {},
     "output_type": "display_data"
    }
   ],
   "source": [
    "# We set the seed to ensure reproducibility\n",
    "set.seed(123)\n",
    "\n",
    "# Based on the number of rows in the tibble, this picks 70% of the values at random\n",
    "idx <- sort(sample(nrow(creditcard), nrow(creditcard)*0.7))\n",
    "\n",
    "# Allocate each group of rows to train and test subsets\n",
    "creditcard_train <- creditcard[idx,]\n",
    "creditcard_test <- creditcard[-idx,]\n",
    "\n",
    "# Then we just take a look at the proportions\n",
    "table(creditcard_train$Class)\n",
    "prop.table(table(creditcard_train$Class))"
   ]
  },
  {
   "cell_type": "markdown",
   "metadata": {},
   "source": [
    "#### Under-sampling <a class='anchor' id='under-sampling'></a>"
   ]
  },
  {
   "cell_type": "code",
   "execution_count": 32,
   "metadata": {
    "scrolled": false
   },
   "outputs": [
    {
     "data": {
      "text/plain": [
       "\n",
       "  0   1 \n",
       "0.5 0.5 "
      ]
     },
     "metadata": {},
     "output_type": "display_data"
    }
   ],
   "source": [
    "# There are 337 fraud cases, so when we run ovun.sample,\n",
    "# we want N (the desired sample size of the resulting data set)\n",
    "# to be 337 / 0.5 (since there are two levels in Class)\n",
    "n_new <- 337 / 0.5\n",
    "\n",
    "# We apply the under-sampling\n",
    "undersampling <- ovun.sample(Class ~ .,\n",
    "                             data = creditcard_train,\n",
    "                             method = 'under',\n",
    "                             N = n_new,\n",
    "                             seed = 123)\n",
    "\n",
    "# Note that while undersampling is an ovun.sample class, undersampling$data is a data.frame class.\n",
    "undersampling_train <- undersampling$data\n",
    "\n",
    "## And as expected, this shows 0.5/0.5 which indicates we now have a balanced training dataset\n",
    "prop.table(table(undersampling_train$Class))"
   ]
  },
  {
   "cell_type": "markdown",
   "metadata": {},
   "source": [
    "#### Over-sampling <a class='anchor' id='over-sampling'></a>"
   ]
  },
  {
   "cell_type": "code",
   "execution_count": 33,
   "metadata": {},
   "outputs": [
    {
     "data": {
      "text/plain": [
       "\n",
       "  0   1 \n",
       "0.5 0.5 "
      ]
     },
     "metadata": {},
     "output_type": "display_data"
    }
   ],
   "source": [
    "n_new <- 6551 / 0.5\n",
    "oversampling <- ovun.sample(Class ~ .,\n",
    "                            data = creditcard_train,\n",
    "                            method = 'over',\n",
    "                            N = n_new,\n",
    "                            seed = 123)\n",
    "oversampling_train <- oversampling$data\n",
    "prop.table(table(oversampling_train$Class))"
   ]
  },
  {
   "cell_type": "markdown",
   "metadata": {},
   "source": [
    "####  Both under-sampling and over-sampling"
   ]
  },
  {
   "cell_type": "code",
   "execution_count": 34,
   "metadata": {},
   "outputs": [
    {
     "data": {
      "text/plain": [
       "\n",
       "     0      1 \n",
       "0.5057 0.4943 "
      ]
     },
     "metadata": {},
     "output_type": "display_data"
    }
   ],
   "source": [
    "bisampling <- ovun.sample(Class ~ .,\n",
    "                          data = creditcard_train,\n",
    "                          method = 'both',\n",
    "                          N = 10000,\n",
    "                          p = 0.5,\n",
    "                          seed = 123)\n",
    "bisampling_train <- bisampling$data\n",
    "prop.table(table(bisampling_train$Class))"
   ]
  },
  {
   "cell_type": "markdown",
   "metadata": {},
   "source": [
    "#### Synthetic Data Generation <a class='anchor' id='sdg'></a>"
   ]
  },
  {
   "cell_type": "code",
   "execution_count": 35,
   "metadata": {
    "scrolled": false
   },
   "outputs": [
    {
     "data": {
      "text/plain": [
       "\n",
       "   0    1 \n",
       "6551  337 "
      ]
     },
     "metadata": {},
     "output_type": "display_data"
    },
    {
     "data": {
      "text/plain": [
       "\n",
       "   0    1 \n",
       "6551 6403 "
      ]
     },
     "metadata": {},
     "output_type": "display_data"
    },
    {
     "data": {
      "text/plain": [
       "\n",
       "        0         1 \n",
       "0.5057125 0.4942875 "
      ]
     },
     "metadata": {},
     "output_type": "display_data"
    }
   ],
   "source": [
    "# n0 is the number of legit cases\n",
    "# n1 is the number of fraud cases\n",
    "# r0 is the desired % of legit cases\n",
    "table(creditcard_train$Class)\n",
    "n0 <- 6551; n1 <- 337; r0 <- 0.5\n",
    "\n",
    "# ntimes is the desired value of the dup_size parameter in SMOTE()\n",
    "ntimes <- ((1-r0)/r0) * (n0/n1) - 1\n",
    "\n",
    "smote_output <- SMOTE(X = creditcard_train[, -c(1,31,32)],\n",
    "                      target = creditcard_train$Class,\n",
    "                      K = 5,\n",
    "                      dup_size = ntimes)\n",
    "\n",
    "# The data frame is stored in $data\n",
    "smote_train <- smote_output$data\n",
    "colnames(smote_train)[30] <- 'Class'\n",
    "\n",
    "# We can see that the proportion is close to 0.5/0.5 so the training set is now balanced\n",
    "table(smote_train$Class)\n",
    "prop.table(table(smote_train$Class))"
   ]
  },
  {
   "cell_type": "markdown",
   "metadata": {},
   "source": [
    "## Practice Questions\n",
    "\n",
    "### Question 1"
   ]
  },
  {
   "cell_type": "code",
   "execution_count": 36,
   "metadata": {},
   "outputs": [
    {
     "data": {
      "text/html": [
       "<ol class=list-inline>\n",
       "\t<li>1350</li>\n",
       "\t<li>7</li>\n",
       "</ol>\n"
      ],
      "text/latex": [
       "\\begin{enumerate*}\n",
       "\\item 1350\n",
       "\\item 7\n",
       "\\end{enumerate*}\n"
      ],
      "text/markdown": [
       "1. 1350\n",
       "2. 7\n",
       "\n",
       "\n"
      ],
      "text/plain": [
       "[1] 1350    7"
      ]
     },
     "metadata": {},
     "output_type": "display_data"
    },
    {
     "data": {
      "text/html": [
       "<table>\n",
       "<thead><tr><th scope=col>country</th><th scope=col>continent</th><th scope=col>year</th><th scope=col>lifeExp</th><th scope=col>pop</th><th scope=col>gdpPercap</th><th scope=col>key</th></tr></thead>\n",
       "<tbody>\n",
       "\t<tr><td>Albania     </td><td>Europe      </td><td>1962        </td><td>64.82       </td><td>1728137     </td><td>2312.889    </td><td>Albania_1962</td></tr>\n",
       "\t<tr><td>Albania     </td><td>Europe      </td><td>1967        </td><td>66.22       </td><td>1984060     </td><td>2760.197    </td><td>Albania_1967</td></tr>\n",
       "\t<tr><td>Albania     </td><td>Europe      </td><td>1972        </td><td>67.69       </td><td>2263554     </td><td>3313.422    </td><td>Albania_1972</td></tr>\n",
       "\t<tr><td>Albania     </td><td>Europe      </td><td>1977        </td><td>68.93       </td><td>2509048     </td><td>3533.004    </td><td>Albania_1977</td></tr>\n",
       "\t<tr><td>Albania     </td><td>Europe      </td><td>1982        </td><td>70.42       </td><td>2780097     </td><td>3630.881    </td><td>Albania_1982</td></tr>\n",
       "\t<tr><td>Albania     </td><td>Europe      </td><td>1987        </td><td>72.00       </td><td>3075321     </td><td>3738.933    </td><td>Albania_1987</td></tr>\n",
       "</tbody>\n",
       "</table>\n"
      ],
      "text/latex": [
       "\\begin{tabular}{r|lllllll}\n",
       " country & continent & year & lifeExp & pop & gdpPercap & key\\\\\n",
       "\\hline\n",
       "\t Albania        & Europe         & 1962           & 64.82          & 1728137        & 2312.889       & Albania\\_1962\\\\\n",
       "\t Albania        & Europe         & 1967           & 66.22          & 1984060        & 2760.197       & Albania\\_1967\\\\\n",
       "\t Albania        & Europe         & 1972           & 67.69          & 2263554        & 3313.422       & Albania\\_1972\\\\\n",
       "\t Albania        & Europe         & 1977           & 68.93          & 2509048        & 3533.004       & Albania\\_1977\\\\\n",
       "\t Albania        & Europe         & 1982           & 70.42          & 2780097        & 3630.881       & Albania\\_1982\\\\\n",
       "\t Albania        & Europe         & 1987           & 72.00          & 3075321        & 3738.933       & Albania\\_1987\\\\\n",
       "\\end{tabular}\n"
      ],
      "text/markdown": [
       "\n",
       "| country | continent | year | lifeExp | pop | gdpPercap | key |\n",
       "|---|---|---|---|---|---|---|\n",
       "| Albania      | Europe       | 1962         | 64.82        | 1728137      | 2312.889     | Albania_1962 |\n",
       "| Albania      | Europe       | 1967         | 66.22        | 1984060      | 2760.197     | Albania_1967 |\n",
       "| Albania      | Europe       | 1972         | 67.69        | 2263554      | 3313.422     | Albania_1972 |\n",
       "| Albania      | Europe       | 1977         | 68.93        | 2509048      | 3533.004     | Albania_1977 |\n",
       "| Albania      | Europe       | 1982         | 70.42        | 2780097      | 3630.881     | Albania_1982 |\n",
       "| Albania      | Europe       | 1987         | 72.00        | 3075321      | 3738.933     | Albania_1987 |\n",
       "\n"
      ],
      "text/plain": [
       "  country continent year lifeExp pop     gdpPercap key         \n",
       "1 Albania Europe    1962 64.82   1728137 2312.889  Albania_1962\n",
       "2 Albania Europe    1967 66.22   1984060 2760.197  Albania_1967\n",
       "3 Albania Europe    1972 67.69   2263554 3313.422  Albania_1972\n",
       "4 Albania Europe    1977 68.93   2509048 3533.004  Albania_1977\n",
       "5 Albania Europe    1982 70.42   2780097 3630.881  Albania_1982\n",
       "6 Albania Europe    1987 72.00   3075321 3738.933  Albania_1987"
      ]
     },
     "metadata": {},
     "output_type": "display_data"
    }
   ],
   "source": [
    "gapminder <- gapminder %>%\n",
    "    mutate(key = paste0(country, '_', year))\n",
    "gapall <- gapminderall %>%\n",
    "    mutate(key = paste0(country, '_', year))\n",
    "join <- semi_join(gapminder, gapall, by='key')\n",
    "dim(join)\n",
    "head(join)"
   ]
  },
  {
   "cell_type": "code",
   "execution_count": 37,
   "metadata": {},
   "outputs": [
    {
     "data": {
      "image/png": "[encoded data removed]",
      "text/plain": [
       "plot without title"
      ]
     },
     "metadata": {},
     "output_type": "display_data"
    }
   ],
   "source": [
    "gap <- gapminderall %>%\n",
    "    select(fertility, life_expectancy) %>%\n",
    "    bind_shadow(only_miss=TRUE) %>%\n",
    "    add_label_shadow() %>%\n",
    "    mutate(fertility_mean=fertility, fertility_lm=fertility) %>%\n",
    "    impute_proxy(fertility_mean ~ mean(fertility_mean, na.rm=TRUE)) %>%\n",
    "    impute_lm(fertility_lm ~ life_expectancy)\n",
    "\n",
    "options(repr.plot.width=7, repr.plot.height=4)\n",
    "mean <- gap %>%\n",
    "    ggplot(aes(x=fertility_mean, y=life_expectancy, colour=any_missing)) +\n",
    "    geom_point(shape=21) +\n",
    "    ggtitle('Mean Imputation') +\n",
    "    theme(legend.position='none', plot.title=element_text(size=11, face='bold'))\n",
    "lm <- gap %>%\n",
    "    ggplot(aes(x=fertility_lm, y=life_expectancy, colour=any_missing)) +\n",
    "    geom_point(shape=21) +\n",
    "    ggtitle('Linear Imputation') +\n",
    "    theme(legend.position='none', plot.title=element_text(size=11, face='bold'))\n",
    "grid.arrange(mean, lm, ncol=2)"
   ]
  },
  {
   "cell_type": "markdown",
   "metadata": {},
   "source": [
    "### Question 2"
   ]
  },
  {
   "cell_type": "code",
   "execution_count": 38,
   "metadata": {},
   "outputs": [
    {
     "name": "stdout",
     "output_type": "stream",
     "text": [
      "Observations: 678,013\n",
      "Variables: 12\n",
      "$ IDpol      \u001b[3m\u001b[38;5;246m<dbl>\u001b[39m\u001b[23m 1, 3, 5, 10, 11, 13, 15, 17, 18, 21, 25, 27, 30, 32, 35,...\n",
      "$ ClaimNb    \u001b[3m\u001b[38;5;246m<dbl>\u001b[39m\u001b[23m 1, 1, 1, 1, 1, 1, 1, 1, 1, 1, 1, 1, 1, 1, 1, 1, 1, 1, 1,...\n",
      "$ Exposure   \u001b[3m\u001b[38;5;246m<dbl>\u001b[39m\u001b[23m 0.10, 0.77, 0.75, 0.09, 0.84, 0.52, 0.45, 0.27, 0.71, 0....\n",
      "$ Area       \u001b[3m\u001b[38;5;246m<chr>\u001b[39m\u001b[23m \"D\", \"D\", \"B\", \"B\", \"B\", \"E\", \"E\", \"C\", \"C\", \"B\", \"B\", \"...\n",
      "$ VehPower   \u001b[3m\u001b[38;5;246m<dbl>\u001b[39m\u001b[23m 5, 5, 6, 7, 7, 6, 6, 7, 7, 7, 7, 7, 4, 4, 4, 9, 6, 6, 6,...\n",
      "$ VehAge     \u001b[3m\u001b[38;5;246m<dbl>\u001b[39m\u001b[23m 0, 0, 2, 0, 0, 2, 2, 0, 0, 0, 0, 0, 1, 0, 9, 0, 2, 2, 2,...\n",
      "$ DrivAge    \u001b[3m\u001b[38;5;246m<dbl>\u001b[39m\u001b[23m 55, 55, 52, 46, 46, 38, 38, 33, 33, 41, 41, 56, 27, 27, ...\n",
      "$ BonusMalus \u001b[3m\u001b[38;5;246m<dbl>\u001b[39m\u001b[23m 50, 50, 50, 50, 50, 50, 50, 68, 68, 50, 50, 50, 90, 90, ...\n",
      "$ VehBrand   \u001b[3m\u001b[38;5;246m<chr>\u001b[39m\u001b[23m \"B12\", \"B12\", \"B12\", \"B12\", \"B12\", \"B12\", \"B12\", \"B12\", ...\n",
      "$ VehGas     \u001b[3m\u001b[38;5;246m<chr>\u001b[39m\u001b[23m \"Regular\", \"Regular\", \"Diesel\", \"Diesel\", \"Diesel\", \"Reg...\n",
      "$ Density    \u001b[3m\u001b[38;5;246m<dbl>\u001b[39m\u001b[23m 1217, 1217, 54, 76, 76, 3003, 3003, 137, 137, 60, 60, 17...\n",
      "$ Region     \u001b[3m\u001b[38;5;246m<chr>\u001b[39m\u001b[23m \"R82\", \"R82\", \"R22\", \"R72\", \"R72\", \"R31\", \"R31\", \"R91\", ...\n"
     ]
    },
    {
     "data": {
      "text/html": [
       "<table>\n",
       "<thead><tr><th scope=col>IDpol</th><th scope=col>ClaimNb</th><th scope=col>Exposure</th><th scope=col>Area</th><th scope=col>VehPower</th><th scope=col>VehAge</th><th scope=col>DrivAge</th><th scope=col>BonusMalus</th><th scope=col>VehBrand</th><th scope=col>VehGas</th><th scope=col>Density</th><th scope=col>Region</th><th scope=col>logDen</th><th scope=col>logDenGroup</th></tr></thead>\n",
       "<tbody>\n",
       "\t<tr><td>1       </td><td>1       </td><td>0.10    </td><td>D       </td><td>5       </td><td>0       </td><td>55      </td><td>50      </td><td>B12     </td><td>Regular </td><td>1217    </td><td>R82     </td><td>7.104144</td><td>8       </td></tr>\n",
       "\t<tr><td>3       </td><td>1       </td><td>0.77    </td><td>D       </td><td>5       </td><td>0       </td><td>55      </td><td>50      </td><td>B12     </td><td>Regular </td><td>1217    </td><td>R82     </td><td>7.104144</td><td>8       </td></tr>\n",
       "\t<tr><td>5       </td><td>1       </td><td>0.75    </td><td>B       </td><td>6       </td><td>2       </td><td>52      </td><td>50      </td><td>B12     </td><td>Diesel  </td><td>  54    </td><td>R22     </td><td>3.988984</td><td>4       </td></tr>\n",
       "</tbody>\n",
       "</table>\n"
      ],
      "text/latex": [
       "\\begin{tabular}{r|llllllllllllll}\n",
       " IDpol & ClaimNb & Exposure & Area & VehPower & VehAge & DrivAge & BonusMalus & VehBrand & VehGas & Density & Region & logDen & logDenGroup\\\\\n",
       "\\hline\n",
       "\t 1        & 1        & 0.10     & D        & 5        & 0        & 55       & 50       & B12      & Regular  & 1217     & R82      & 7.104144 & 8       \\\\\n",
       "\t 3        & 1        & 0.77     & D        & 5        & 0        & 55       & 50       & B12      & Regular  & 1217     & R82      & 7.104144 & 8       \\\\\n",
       "\t 5        & 1        & 0.75     & B        & 6        & 2        & 52       & 50       & B12      & Diesel   &   54     & R22      & 3.988984 & 4       \\\\\n",
       "\\end{tabular}\n"
      ],
      "text/markdown": [
       "\n",
       "| IDpol | ClaimNb | Exposure | Area | VehPower | VehAge | DrivAge | BonusMalus | VehBrand | VehGas | Density | Region | logDen | logDenGroup |\n",
       "|---|---|---|---|---|---|---|---|---|---|---|---|---|---|\n",
       "| 1        | 1        | 0.10     | D        | 5        | 0        | 55       | 50       | B12      | Regular  | 1217     | R82      | 7.104144 | 8        |\n",
       "| 3        | 1        | 0.77     | D        | 5        | 0        | 55       | 50       | B12      | Regular  | 1217     | R82      | 7.104144 | 8        |\n",
       "| 5        | 1        | 0.75     | B        | 6        | 2        | 52       | 50       | B12      | Diesel   |   54     | R22      | 3.988984 | 4        |\n",
       "\n"
      ],
      "text/plain": [
       "  IDpol ClaimNb Exposure Area VehPower VehAge DrivAge BonusMalus VehBrand\n",
       "1 1     1       0.10     D    5        0      55      50         B12     \n",
       "2 3     1       0.77     D    5        0      55      50         B12     \n",
       "3 5     1       0.75     B    6        2      52      50         B12     \n",
       "  VehGas  Density Region logDen   logDenGroup\n",
       "1 Regular 1217    R82    7.104144 8          \n",
       "2 Regular 1217    R82    7.104144 8          \n",
       "3 Diesel    54    R22    3.988984 4          "
      ]
     },
     "metadata": {},
     "output_type": "display_data"
    }
   ],
   "source": [
    "casMotor <- read_csv('data/Case Study 2 - CAS Motor/freMTPL2freq.csv', col_types=cols())\n",
    "glimpse(casMotor)\n",
    "casMotor <- casMotor %>%\n",
    "    mutate(logDen = log(Density)) %>%\n",
    "    mutate(logDenGroup = ifelse(floor(logDen+1) <= 10, floor(logDen+1), 10))\n",
    "head(casMotor, 3)"
   ]
  },
  {
   "cell_type": "code",
   "execution_count": 39,
   "metadata": {},
   "outputs": [
    {
     "data": {
      "image/png": "[encoded data removed]",
      "text/plain": [
       "plot without title"
      ]
     },
     "metadata": {},
     "output_type": "display_data"
    }
   ],
   "source": [
    "options(repr.plot.width=3, repr.plot.height=3)\n",
    "casMotor %>%\n",
    "    ggplot(aes(logDenGroup, Exposure)) +\n",
    "    geom_col()"
   ]
  },
  {
   "cell_type": "code",
   "execution_count": 40,
   "metadata": {
    "scrolled": false
   },
   "outputs": [
    {
     "data": {
      "image/png": "[encoded data removed]",
      "text/plain": [
       "plot without title"
      ]
     },
     "metadata": {},
     "output_type": "display_data"
    }
   ],
   "source": [
    "options(repr.plot.width=5, repr.plot.height=4)\n",
    "vehBrand_byArea <- casMotor %>%\n",
    "    group_by(VehBrand, Area) %>%\n",
    "    summarise(count=table(Area)) %>%\n",
    "    mutate(pcByArea=count/sum(count)) # This is how much % an area contributes to the VehBrand\n",
    "# head(vehBrand_byArea)\n",
    "vehBrand_byArea %>%\n",
    "    ggplot(aes(x=VehBrand, y=pcByArea, fill=Area)) +\n",
    "    geom_col() +\n",
    "    xlab('Vehicle Brand') +\n",
    "    ylab('Relative Frequency')"
   ]
  },
  {
   "cell_type": "code",
   "execution_count": 41,
   "metadata": {},
   "outputs": [
    {
     "data": {
      "image/png": "[encoded data removed]",
      "text/plain": [
       "plot without title"
      ]
     },
     "metadata": {},
     "output_type": "display_data"
    }
   ],
   "source": [
    "vehBrand_byPower <- casMotor %>%\n",
    "    group_by(VehBrand, VehPower) %>%\n",
    "    summarise(count=table(VehPower)) %>%\n",
    "    mutate(pcByVehPower=count/sum(count))\n",
    "# head(vehBrand_byPower)\n",
    "vehBrand_byPower %>%\n",
    "    ggplot(aes(x=VehBrand, y=pcByVehPower, fill=VehPower)) +\n",
    "    geom_col()"
   ]
  },
  {
   "cell_type": "code",
   "execution_count": 42,
   "metadata": {},
   "outputs": [
    {
     "data": {
      "image/png": "[encoded data removed]",
      "text/plain": [
       "plot without title"
      ]
     },
     "metadata": {},
     "output_type": "display_data"
    }
   ],
   "source": [
    "vehBrand_byAge <- casMotor %>%\n",
    "    group_by(VehBrand, VehAge) %>%\n",
    "    summarise(count=table(VehAge)) %>%\n",
    "    mutate(pcByVehAge=count/sum(count))\n",
    "# head(vehBrand_byAge)\n",
    "vehBrand_byAge %>%\n",
    "    filter(VehAge <= 10) %>%\n",
    "    ggplot(aes(x=VehBrand, y=pcByVehAge, fill=VehAge)) +\n",
    "    geom_col()"
   ]
  },
  {
   "cell_type": "code",
   "execution_count": 43,
   "metadata": {},
   "outputs": [
    {
     "data": {
      "image/png": "[encoded data removed]",
      "text/plain": [
       "plot without title"
      ]
     },
     "metadata": {},
     "output_type": "display_data"
    }
   ],
   "source": [
    "casMotor$DriverAgeGroup <- ceiling(casMotor$DrivAge/20)*20\n",
    "vehBrand_byDriverAgeGroup <- casMotor %>%\n",
    "    group_by(VehBrand, DriverAgeGroup) %>%\n",
    "    summarise(count=table(DriverAgeGroup)) %>%\n",
    "    mutate(pcByDriverAgeGroup=count/sum(count))\n",
    "# head(vehBrand_byDriverAgeGroup)\n",
    "vehBrand_byDriverAgeGroup %>%\n",
    "    ggplot(aes(x=VehBrand, y=pcByDriverAgeGroup, fill=DriverAgeGroup)) +\n",
    "    geom_col()"
   ]
  },
  {
   "cell_type": "code",
   "execution_count": 44,
   "metadata": {},
   "outputs": [
    {
     "data": {
      "image/png": "[encoded data removed]",
      "text/plain": [
       "plot without title"
      ]
     },
     "metadata": {},
     "output_type": "display_data"
    }
   ],
   "source": [
    "vehBrand_byGas <- casMotor %>%\n",
    "    group_by(VehBrand, VehGas) %>%\n",
    "    summarise(count=table(VehGas)) %>%\n",
    "    mutate(pcByVehGas=count/sum(count))\n",
    "# head(vehBrand_byGas)\n",
    "vehBrand_byGas %>%\n",
    "    ggplot(aes(x=VehBrand, y=pcByVehGas, fill=VehGas)) +\n",
    "    geom_col()"
   ]
  },
  {
   "cell_type": "markdown",
   "metadata": {},
   "source": [
    "### Question 3"
   ]
  },
  {
   "cell_type": "code",
   "execution_count": 49,
   "metadata": {},
   "outputs": [],
   "source": [
    "bank <- read_csv('data/Case Study 3 - Big Bank/creditcardcut.csv', col_types=cols())\n",
    "\n",
    "set.seed(123)\n",
    "idx <- sort(sample(nrow(bank), nrow(bank)*0.6))\n",
    "bank_train <- bank[idx,]\n",
    "bank_test <- bank[-idx,]"
   ]
  },
  {
   "cell_type": "markdown",
   "metadata": {},
   "source": [
    "## Resources\n",
    "* [Rounding numbers in R](https://www.dummies.com/programming/r/how-to-round-off-numbers-in-r/)"
   ]
  }
 ],
 "metadata": {
  "kernelspec": {
   "display_name": "R",
   "language": "R",
   "name": "ir"
  },
  "language_info": {
   "codemirror_mode": "r",
   "file_extension": ".r",
   "mimetype": "text/x-r-source",
   "name": "R",
   "pygments_lexer": "r",
   "version": "3.6.1"
  }
 },
 "nbformat": 4,
 "nbformat_minor": 4
}
