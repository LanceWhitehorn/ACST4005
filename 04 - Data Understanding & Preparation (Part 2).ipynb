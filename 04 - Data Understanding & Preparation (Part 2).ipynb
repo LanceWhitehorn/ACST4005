{
 "cells": [
  {
   "cell_type": "markdown",
   "metadata": {},
   "source": [
    "# Week 4 - Data Understanding and Preparation (Part 2)\n",
    "\n",
    "## Notes"
   ]
  },
  {
   "cell_type": "markdown",
   "metadata": {},
   "source": [
    "> \"The greatest value of a picture is when it forces us to notice what we never expected to see\" - John W. Tukey"
   ]
  },
  {
   "cell_type": "code",
   "execution_count": 42,
   "metadata": {},
   "outputs": [
    {
     "data": {
      "text/html": [
       "<table>\n",
       "<thead><tr><th scope=col>country</th><th scope=col>continent</th><th scope=col>year</th><th scope=col>lifeExp</th><th scope=col>pop</th><th scope=col>gdpPercap</th></tr></thead>\n",
       "<tbody>\n",
       "\t<tr><td>Afghanistan</td><td>Asia       </td><td>1952       </td><td>28.801     </td><td> 8425333   </td><td>779.4453   </td></tr>\n",
       "\t<tr><td>Afghanistan</td><td>Asia       </td><td>1957       </td><td>30.332     </td><td> 9240934   </td><td>820.8530   </td></tr>\n",
       "\t<tr><td>Afghanistan</td><td>Asia       </td><td>1962       </td><td>31.997     </td><td>10267083   </td><td>853.1007   </td></tr>\n",
       "</tbody>\n",
       "</table>\n"
      ],
      "text/latex": [
       "\\begin{tabular}{r|llllll}\n",
       " country & continent & year & lifeExp & pop & gdpPercap\\\\\n",
       "\\hline\n",
       "\t Afghanistan & Asia        & 1952        & 28.801      &  8425333    & 779.4453   \\\\\n",
       "\t Afghanistan & Asia        & 1957        & 30.332      &  9240934    & 820.8530   \\\\\n",
       "\t Afghanistan & Asia        & 1962        & 31.997      & 10267083    & 853.1007   \\\\\n",
       "\\end{tabular}\n"
      ],
      "text/markdown": [
       "\n",
       "| country | continent | year | lifeExp | pop | gdpPercap |\n",
       "|---|---|---|---|---|---|\n",
       "| Afghanistan | Asia        | 1952        | 28.801      |  8425333    | 779.4453    |\n",
       "| Afghanistan | Asia        | 1957        | 30.332      |  9240934    | 820.8530    |\n",
       "| Afghanistan | Asia        | 1962        | 31.997      | 10267083    | 853.1007    |\n",
       "\n"
      ],
      "text/plain": [
       "  country     continent year lifeExp pop      gdpPercap\n",
       "1 Afghanistan Asia      1952 28.801   8425333 779.4453 \n",
       "2 Afghanistan Asia      1957 30.332   9240934 820.8530 \n",
       "3 Afghanistan Asia      1962 31.997  10267083 853.1007 "
      ]
     },
     "metadata": {},
     "output_type": "display_data"
    }
   ],
   "source": [
    "# Clear all the variables in the workspace\n",
    "rm(list=ls())\n",
    "\n",
    "# Importing the relevant libraries\n",
    "suppressWarnings(library('gapminder'))\n",
    "suppressWarnings(library('ggplot2'))\n",
    "suppressWarnings(library('gridExtra'))\n",
    "suppressWarnings(library('ggrepel'))\n",
    "suppressWarnings(library('ggthemes'))\n",
    "suppressWarnings(library('readr'))\n",
    "suppressWarnings(library('dplyr'))\n",
    "suppressWarnings(library('stringr'))\n",
    "\n",
    "data(gapminder)\n",
    "head(gapminder, 3)"
   ]
  },
  {
   "cell_type": "code",
   "execution_count": 2,
   "metadata": {},
   "outputs": [
    {
     "name": "stdout",
     "output_type": "stream",
     "text": [
      "Observations: 1,704\n",
      "Variables: 6\n",
      "$ country   \u001b[3m\u001b[38;5;246m<fct>\u001b[39m\u001b[23m Afghanistan, Afghanistan, Afghanistan, Afghanistan, Afgha...\n",
      "$ continent \u001b[3m\u001b[38;5;246m<fct>\u001b[39m\u001b[23m Asia, Asia, Asia, Asia, Asia, Asia, Asia, Asia, Asia, Asi...\n",
      "$ year      \u001b[3m\u001b[38;5;246m<int>\u001b[39m\u001b[23m 1952, 1957, 1962, 1967, 1972, 1977, 1982, 1987, 1992, 199...\n",
      "$ lifeExp   \u001b[3m\u001b[38;5;246m<dbl>\u001b[39m\u001b[23m 28.801, 30.332, 31.997, 34.020, 36.088, 38.438, 39.854, 4...\n",
      "$ pop       \u001b[3m\u001b[38;5;246m<int>\u001b[39m\u001b[23m 8425333, 9240934, 10267083, 11537966, 13079460, 14880372,...\n",
      "$ gdpPercap \u001b[3m\u001b[38;5;246m<dbl>\u001b[39m\u001b[23m 779.4453, 820.8530, 853.1007, 836.1971, 739.9811, 786.113...\n"
     ]
    }
   ],
   "source": [
    "glimpse(gapminder)"
   ]
  },
  {
   "cell_type": "markdown",
   "metadata": {},
   "source": [
    "Now, because I can't install the `janitor` package on Jupyter, I use the method below to clean column names. What this does is converts everything to lower case and replaces spaces for underscores."
   ]
  },
  {
   "cell_type": "code",
   "execution_count": 3,
   "metadata": {},
   "outputs": [],
   "source": [
    "# colnames(gapminder) <- colnames(gapminder) %>% tolower() %>% str_replace_all(' ', '_')"
   ]
  },
  {
   "cell_type": "markdown",
   "metadata": {},
   "source": [
    "There are many different types of techniques we use to visualise data. However, it is ultimately dependent on the **variable type**. If you already know how to code each graph type, here's a quick summary.\n",
    "\n",
    "For categorical:\n",
    "* Frequency count\n",
    "* Bar plot\n",
    "\n",
    "For numeric:\n",
    "* Frequency histogram/polygon\n",
    "* Variations (smooth density, cumulative frequency)\n",
    "* Box-and-whisker plot\n",
    "\n",
    "For categorical/discrete and continuous:\n",
    "* 2 variable box plot\n",
    "* 2 variable column plot\n",
    "\n",
    "For continuous and continuous:\n",
    "* Scatter plot / Correlation plot\n",
    "* Regression line plot\n",
    "\n",
    "---\n",
    "\n",
    "### Categorical\n",
    "* Frequency count\n",
    "* Bar plot"
   ]
  },
  {
   "cell_type": "code",
   "execution_count": 4,
   "metadata": {},
   "outputs": [
    {
     "data": {
      "image/png": "[encoded data removed]",
      "text/plain": [
       "plot without title"
      ]
     },
     "metadata": {},
     "output_type": "display_data"
    }
   ],
   "source": [
    "options(repr.plot.width = 3, repr.plot.height = 3)\n",
    "\n",
    "barplot <- gapminder %>%\n",
    "    filter(year==1952) %>%\n",
    "    ggplot(aes(continent)) +\n",
    "    geom_bar()\n",
    "barplot"
   ]
  },
  {
   "cell_type": "markdown",
   "metadata": {},
   "source": [
    "### Numeric\n",
    "* Frequency histogram/polygon\n",
    "* Variations (smooth density, cumulative frequency)\n",
    "* Box-and-whisker plot"
   ]
  },
  {
   "cell_type": "code",
   "execution_count": 5,
   "metadata": {},
   "outputs": [
    {
     "data": {
      "image/png": "[encoded data removed]",
      "text/plain": [
       "plot without title"
      ]
     },
     "metadata": {},
     "output_type": "display_data"
    }
   ],
   "source": [
    "options(repr.plot.width = 6, repr.plot.height = 2.5)\n",
    "\n",
    "histogram <- gapminder %>%\n",
    "    filter(year==1952) %>%\n",
    "    ggplot(aes(gdpPercap)) +\n",
    "    geom_histogram(binwidth=5000)\n",
    "\n",
    "freqpoly <- gapminder %>%\n",
    "    filter(year==1952) %>%\n",
    "    ggplot(aes(gdpPercap)) +\n",
    "    geom_freqpoly(binwidth=5000)\n",
    "\n",
    "grid.arrange(histogram, freqpoly, ncol=2)"
   ]
  },
  {
   "cell_type": "code",
   "execution_count": 6,
   "metadata": {},
   "outputs": [
    {
     "data": {
      "image/png": "[encoded data removed]",
      "text/plain": [
       "plot without title"
      ]
     },
     "metadata": {},
     "output_type": "display_data"
    }
   ],
   "source": [
    "options(repr.plot.width = 6, repr.plot.height = 2.5)\n",
    "\n",
    "smoothDensity <- gapminder %>%\n",
    "    filter(year==1952) %>%\n",
    "    ggplot(aes(gdpPercap)) +\n",
    "    geom_density()\n",
    "\n",
    "ecdf <- gapminder %>%\n",
    "    filter(year==1952) %>%\n",
    "    ggplot(aes(gdpPercap)) +\n",
    "    stat_ecdf()\n",
    "\n",
    "grid.arrange(smoothDensity, ecdf, ncol=2)"
   ]
  },
  {
   "cell_type": "code",
   "execution_count": 7,
   "metadata": {},
   "outputs": [
    {
     "data": {
      "text/html": [
       "<table>\n",
       "<thead><tr><th scope=col>country</th><th scope=col>continent</th><th scope=col>year</th><th scope=col>lifeExp</th><th scope=col>pop</th><th scope=col>gdpPercap</th></tr></thead>\n",
       "<tbody>\n",
       "\t<tr><td>Kuwait  </td><td>Asia    </td><td>1952    </td><td>55.565  </td><td>160000  </td><td>108382.4</td></tr>\n",
       "</tbody>\n",
       "</table>\n"
      ],
      "text/latex": [
       "\\begin{tabular}{r|llllll}\n",
       " country & continent & year & lifeExp & pop & gdpPercap\\\\\n",
       "\\hline\n",
       "\t Kuwait   & Asia     & 1952     & 55.565   & 160000   & 108382.4\\\\\n",
       "\\end{tabular}\n"
      ],
      "text/markdown": [
       "\n",
       "| country | continent | year | lifeExp | pop | gdpPercap |\n",
       "|---|---|---|---|---|---|\n",
       "| Kuwait   | Asia     | 1952     | 55.565   | 160000   | 108382.4 |\n",
       "\n"
      ],
      "text/plain": [
       "  country continent year lifeExp pop    gdpPercap\n",
       "1 Kuwait  Asia      1952 55.565  160000 108382.4 "
      ]
     },
     "metadata": {},
     "output_type": "display_data"
    },
    {
     "data": {
      "image/png": "[encoded data removed]",
      "text/plain": [
       "plot without title"
      ]
     },
     "metadata": {},
     "output_type": "display_data"
    }
   ],
   "source": [
    "options(repr.plot.width = 8, repr.plot.height = 2.5)\n",
    "\n",
    "box1 <- gapminder %>%\n",
    "    filter(year==1952) %>%\n",
    "    ggplot(aes(x=year, y=gdpPercap)) +\n",
    "    geom_boxplot() +\n",
    "    coord_flip()\n",
    "\n",
    "# We can clearly see an outlier. So let's take a look at this point more closely.\n",
    "gapminder %>% filter(year==1952, gdpPercap>30000)\n",
    "\n",
    "# After removing this outlier:\n",
    "box2 <- gapminder %>%\n",
    "    filter(year==1952, gdpPercap<30000) %>%\n",
    "    ggplot(aes(x=year, y=gdpPercap)) +\n",
    "    geom_boxplot() +\n",
    "    coord_flip()\n",
    "\n",
    "grid.arrange(box1, box2, ncol=2)"
   ]
  },
  {
   "cell_type": "markdown",
   "metadata": {},
   "source": [
    "### Categorical/discrete and continuous\n",
    "* 2 variable box plot\n",
    "* 2 variable column plot"
   ]
  },
  {
   "cell_type": "code",
   "execution_count": 8,
   "metadata": {},
   "outputs": [
    {
     "data": {
      "image/png": "[encoded data removed]",
      "text/plain": [
       "plot without title"
      ]
     },
     "metadata": {},
     "output_type": "display_data"
    }
   ],
   "source": [
    "options(repr.plot.width = 5, repr.plot.height = 2.5)\n",
    "\n",
    "gapminder %>%\n",
    "    filter(year==1952) %>%\n",
    "    ggplot(aes(x=continent, y=lifeExp, col=continent)) +\n",
    "    geom_boxplot()"
   ]
  },
  {
   "cell_type": "code",
   "execution_count": 9,
   "metadata": {},
   "outputs": [
    {
     "data": {
      "image/png": "[encoded data removed]",
      "text/plain": [
       "plot without title"
      ]
     },
     "metadata": {},
     "output_type": "display_data"
    }
   ],
   "source": [
    "gapminder %>%\n",
    "    filter(year==1952) %>%\n",
    "    ggplot(aes(x=continent, y=lifeExp)) +\n",
    "    geom_violin()"
   ]
  },
  {
   "cell_type": "code",
   "execution_count": 10,
   "metadata": {},
   "outputs": [
    {
     "data": {
      "image/png": "[encoded data removed]",
      "text/plain": [
       "plot without title"
      ]
     },
     "metadata": {},
     "output_type": "display_data"
    }
   ],
   "source": [
    "options(repr.plot.width = 3, repr.plot.height = 2.5)\n",
    "\n",
    "gapminder %>%\n",
    "    filter(year==1952) %>%\n",
    "    ggplot(aes(x=continent, y=lifeExp)) +\n",
    "    geom_col()"
   ]
  },
  {
   "cell_type": "code",
   "execution_count": 11,
   "metadata": {},
   "outputs": [
    {
     "data": {
      "image/png": "[encoded data removed]",
      "text/plain": [
       "plot without title"
      ]
     },
     "metadata": {},
     "output_type": "display_data"
    }
   ],
   "source": [
    "options(repr.plot.width = 3, repr.plot.height = 2.5)\n",
    "\n",
    "gapminder %>%\n",
    "    filter(year==1952) %>%\n",
    "    ggplot(aes(x=continent, y=lifeExp)) +\n",
    "    geom_point() +\n",
    "    geom_jitter(alpha=0.4)"
   ]
  },
  {
   "cell_type": "markdown",
   "metadata": {},
   "source": [
    "### Continuous and continuous\n",
    "* Scatter plot / Correlation plot\n",
    "* Regression line plot"
   ]
  },
  {
   "cell_type": "code",
   "execution_count": 12,
   "metadata": {},
   "outputs": [
    {
     "name": "stderr",
     "output_type": "stream",
     "text": [
      "`geom_smooth()` using method = 'loess' and formula 'y ~ x'\n"
     ]
    },
    {
     "data": {
      "image/png": "[encoded data removed]",
      "text/plain": [
       "plot without title"
      ]
     },
     "metadata": {},
     "output_type": "display_data"
    }
   ],
   "source": [
    "options(repr.plot.width = 6, repr.plot.height = 2.5)\n",
    "\n",
    "scatter <- gapminder %>%\n",
    "    filter(year==1952, gdpPercap<30000) %>%\n",
    "    ggplot(aes(x=gdpPercap, y=lifeExp)) +\n",
    "    geom_point(alpha=0.5)\n",
    "\n",
    "regLine <- gapminder %>%\n",
    "    filter(year==1952, gdpPercap<30000) %>%\n",
    "    ggplot(aes(x=gdpPercap, y=lifeExp)) +\n",
    "    geom_point(alpha=0.5) +\n",
    "    geom_smooth(color='dodgerblue4')\n",
    "\n",
    "grid.arrange(scatter, regLine, ncol=2)"
   ]
  },
  {
   "cell_type": "code",
   "execution_count": 13,
   "metadata": {},
   "outputs": [
    {
     "data": {
      "image/png": "[encoded data removed]",
      "text/plain": [
       "plot without title"
      ]
     },
     "metadata": {},
     "output_type": "display_data"
    }
   ],
   "source": [
    "options(repr.plot.width = 3, repr.plot.height = 2.5)\n",
    "\n",
    "gapminder %>%\n",
    "    filter(country=='Australia') %>%\n",
    "    ggplot(aes(x=year, y=lifeExp)) +\n",
    "    geom_line()"
   ]
  },
  {
   "cell_type": "code",
   "execution_count": 14,
   "metadata": {},
   "outputs": [
    {
     "data": {
      "image/png": "[encoded data removed]",
      "text/plain": [
       "plot without title"
      ]
     },
     "metadata": {},
     "output_type": "display_data"
    }
   ],
   "source": [
    "options(repr.plot.width = 5, repr.plot.height = 5)\n",
    "\n",
    "pairs(gapminder[,3:6])"
   ]
  },
  {
   "cell_type": "code",
   "execution_count": 15,
   "metadata": {},
   "outputs": [
    {
     "name": "stderr",
     "output_type": "stream",
     "text": [
      "corrplot 0.84 loaded\n"
     ]
    },
    {
     "data": {
      "image/png": "[encoded data removed]",
      "text/plain": [
       "Plot with title \"\""
      ]
     },
     "metadata": {},
     "output_type": "display_data"
    }
   ],
   "source": [
    "options(repr.plot.width = 5, repr.plot.height = 5)\n",
    "\n",
    "suppressWarnings(library('corrplot'))\n",
    "corrplot(cor(gapminder[,3:6], use='pairwise.complete.obs'))"
   ]
  },
  {
   "cell_type": "markdown",
   "metadata": {},
   "source": [
    "---\n",
    "\n",
    "### Grouping"
   ]
  },
  {
   "cell_type": "code",
   "execution_count": 16,
   "metadata": {},
   "outputs": [
    {
     "data": {
      "image/png": "[encoded data removed]",
      "text/plain": [
       "plot without title"
      ]
     },
     "metadata": {},
     "output_type": "display_data"
    }
   ],
   "source": [
    "options(repr.plot.width = 6, repr.plot.height = 3)\n",
    "\n",
    "allLifeExp <- gapminder %>%\n",
    "    ggplot(aes(x=year, y=lifeExp, group=country, colour=country)) +\n",
    "    geom_line(show.legend=FALSE)\n",
    "\n",
    "ausGap <- gapminder %>% filter(country=='Australia')\n",
    "\n",
    "ausLifeExp <- ggplot() +\n",
    "    geom_line(data=gapminder, aes(x=year, y=lifeExp, group=country)) +\n",
    "    geom_line(data=ausGap, aes(x=year, y=lifeExp), colour='red')\n",
    "\n",
    "grid.arrange(allLifeExp, ausLifeExp, ncol=2)"
   ]
  },
  {
   "cell_type": "code",
   "execution_count": 17,
   "metadata": {},
   "outputs": [
    {
     "data": {
      "image/png": "[encoded data removed]",
      "text/plain": [
       "plot without title"
      ]
     },
     "metadata": {},
     "output_type": "display_data"
    }
   ],
   "source": [
    "options(repr.plot.width = 3, repr.plot.height = 3)\n",
    "\n",
    "gapminder %>% ggplot(aes(continent), fill=as.factor(country)) +\n",
    "    geom_bar(show.legend=FALSE)"
   ]
  },
  {
   "cell_type": "markdown",
   "metadata": {},
   "source": [
    "---\n",
    "\n",
    "### Scaling"
   ]
  },
  {
   "cell_type": "code",
   "execution_count": 18,
   "metadata": {},
   "outputs": [
    {
     "data": {
      "image/png": "[encoded data removed]",
      "text/plain": [
       "plot without title"
      ]
     },
     "metadata": {},
     "output_type": "display_data"
    }
   ],
   "source": [
    "gapminder %>%\n",
    "    ggplot(aes(x=gdpPercap, y=lifeExp)) +\n",
    "    geom_point(size=0.25) +\n",
    "    scale_x_log10() +\n",
    "    xlab('log(gdpPercap)')"
   ]
  },
  {
   "cell_type": "markdown",
   "metadata": {},
   "source": [
    "---\n",
    "\n",
    "### Faceting\n",
    "\n",
    "The facet approach partitions a plot into a matrix of panels. Each panel shows a different subset of the data."
   ]
  },
  {
   "cell_type": "code",
   "execution_count": 19,
   "metadata": {},
   "outputs": [
    {
     "data": {
      "image/png": "[encoded data removed]",
      "text/plain": [
       "plot without title"
      ]
     },
     "metadata": {},
     "output_type": "display_data"
    }
   ],
   "source": [
    "options(repr.plot.width = 10, repr.plot.height = 3)\n",
    "\n",
    "gapminder %>% \n",
    "    ggplot(aes(x=year, y=lifeExp, group=country)) +\n",
    "    geom_line() +\n",
    "    facet_grid(. ~ continent) # This is row by column"
   ]
  },
  {
   "cell_type": "markdown",
   "metadata": {},
   "source": [
    "Below we compare the use of `grid.arrange()` vs `facet_grid()`. Notice that using `grid.arrange()`, we have two different sets of axes. Whereas when using `facet_grid()`, all graphs share the same set of axes making it easier to compare values. This is similar to `sharex=True` or `sharey=True` in Python."
   ]
  },
  {
   "cell_type": "code",
   "execution_count": 20,
   "metadata": {},
   "outputs": [
    {
     "data": {
      "image/png": "[encoded data removed]",
      "text/plain": [
       "plot without title"
      ]
     },
     "metadata": {},
     "output_type": "display_data"
    }
   ],
   "source": [
    "options(repr.plot.width = 5, repr.plot.height = 2.5)\n",
    "\n",
    "ausGap <- gapminder %>%\n",
    "    filter(country=='Australia') %>%\n",
    "    ggplot(aes(x=year, y=lifeExp)) +\n",
    "    geom_line()\n",
    "\n",
    "usGap <- gapminder %>%\n",
    "    filter(country=='United States') %>%\n",
    "    ggplot(aes(x=year, y=lifeExp)) +\n",
    "    geom_line()\n",
    "\n",
    "grid.arrange(ausGap, usGap, ncol=2)"
   ]
  },
  {
   "cell_type": "code",
   "execution_count": 21,
   "metadata": {},
   "outputs": [
    {
     "data": {
      "image/png": "[encoded data removed]",
      "text/plain": [
       "plot without title"
      ]
     },
     "metadata": {},
     "output_type": "display_data"
    }
   ],
   "source": [
    "gapminder %>%\n",
    "    filter(country %in% c('Australia', 'United States')) %>%\n",
    "    ggplot(aes(x=year, y=lifeExp)) +\n",
    "    geom_line() +\n",
    "    facet_grid(. ~ country)"
   ]
  },
  {
   "cell_type": "markdown",
   "metadata": {},
   "source": [
    "---\n",
    "\n",
    "### Themes"
   ]
  },
  {
   "cell_type": "code",
   "execution_count": 22,
   "metadata": {},
   "outputs": [
    {
     "data": {
      "image/png": "[encoded data removed]",
      "text/plain": [
       "plot without title"
      ]
     },
     "metadata": {},
     "output_type": "display_data"
    }
   ],
   "source": [
    "options(repr.plot.width = 4, repr.plot.height = 4)\n",
    "\n",
    "gapminder %>%\n",
    "    filter(year==1952, country %in% c('Australia', 'United States', 'United Kingdom', 'Japan')) %>%\n",
    "    ggplot(aes(x=gdpPercap, y=lifeExp, label=country)) +\n",
    "    geom_text_repel() +\n",
    "    geom_point() +\n",
    "    xlab('GDP per Capita') +\n",
    "    ylab('Life Expectancy') +\n",
    "    ggtitle('Plot of Life Expectancy vs GDP for AU, UK, US, JP') +\n",
    "    theme(plot.title=element_text(size=12, face='bold'))"
   ]
  },
  {
   "cell_type": "markdown",
   "metadata": {},
   "source": [
    "---\n",
    "\n",
    "### `dplyr` verbs"
   ]
  },
  {
   "cell_type": "code",
   "execution_count": 23,
   "metadata": {},
   "outputs": [
    {
     "data": {
      "text/html": [
       "<table>\n",
       "<thead><tr><th scope=col>country</th><th scope=col>year</th><th scope=col>infant_mortality</th><th scope=col>life_expectancy</th><th scope=col>fertility</th><th scope=col>population</th><th scope=col>gdp</th><th scope=col>continent</th><th scope=col>region</th></tr></thead>\n",
       "<tbody>\n",
       "\t<tr><td>Albania            </td><td>1960               </td><td>115.40             </td><td>62.87              </td><td>6.19               </td><td> 1636054           </td><td>          NA       </td><td>Europe             </td><td>Southern Europe    </td></tr>\n",
       "\t<tr><td>Algeria            </td><td>1960               </td><td>148.20             </td><td>47.50              </td><td>7.65               </td><td>11124892           </td><td> 13828152297       </td><td>Africa             </td><td>Northern Africa    </td></tr>\n",
       "\t<tr><td>Angola             </td><td>1960               </td><td>208.00             </td><td>35.98              </td><td>7.32               </td><td> 5270844           </td><td>          NA       </td><td>Africa             </td><td>Middle Africa      </td></tr>\n",
       "\t<tr><td>Antigua and Barbuda</td><td>1960               </td><td>    NA             </td><td>62.97              </td><td>4.43               </td><td>   54681           </td><td>          NA       </td><td>Americas           </td><td>Caribbean          </td></tr>\n",
       "\t<tr><td>Argentina          </td><td>1960               </td><td> 59.87             </td><td>65.39              </td><td>3.11               </td><td>20619075           </td><td>108000000000       </td><td>Americas           </td><td>South America      </td></tr>\n",
       "\t<tr><td>Armenia            </td><td>1960               </td><td>    NA             </td><td>66.86              </td><td>4.55               </td><td> 1867396           </td><td>          NA       </td><td>Asia               </td><td>Western Asia       </td></tr>\n",
       "</tbody>\n",
       "</table>\n"
      ],
      "text/latex": [
       "\\begin{tabular}{r|lllllllll}\n",
       " country & year & infant\\_mortality & life\\_expectancy & fertility & population & gdp & continent & region\\\\\n",
       "\\hline\n",
       "\t Albania             & 1960                & 115.40              & 62.87               & 6.19                &  1636054            &           NA        & Europe              & Southern Europe    \\\\\n",
       "\t Algeria             & 1960                & 148.20              & 47.50               & 7.65                & 11124892            &  13828152297        & Africa              & Northern Africa    \\\\\n",
       "\t Angola              & 1960                & 208.00              & 35.98               & 7.32                &  5270844            &           NA        & Africa              & Middle Africa      \\\\\n",
       "\t Antigua and Barbuda & 1960                &     NA              & 62.97               & 4.43                &    54681            &           NA        & Americas            & Caribbean          \\\\\n",
       "\t Argentina           & 1960                &  59.87              & 65.39               & 3.11                & 20619075            & 108000000000        & Americas            & South America      \\\\\n",
       "\t Armenia             & 1960                &     NA              & 66.86               & 4.55                &  1867396            &           NA        & Asia                & Western Asia       \\\\\n",
       "\\end{tabular}\n"
      ],
      "text/markdown": [
       "\n",
       "| country | year | infant_mortality | life_expectancy | fertility | population | gdp | continent | region |\n",
       "|---|---|---|---|---|---|---|---|---|\n",
       "| Albania             | 1960                | 115.40              | 62.87               | 6.19                |  1636054            |           NA        | Europe              | Southern Europe     |\n",
       "| Algeria             | 1960                | 148.20              | 47.50               | 7.65                | 11124892            |  13828152297        | Africa              | Northern Africa     |\n",
       "| Angola              | 1960                | 208.00              | 35.98               | 7.32                |  5270844            |           NA        | Africa              | Middle Africa       |\n",
       "| Antigua and Barbuda | 1960                |     NA              | 62.97               | 4.43                |    54681            |           NA        | Americas            | Caribbean           |\n",
       "| Argentina           | 1960                |  59.87              | 65.39               | 3.11                | 20619075            | 108000000000        | Americas            | South America       |\n",
       "| Armenia             | 1960                |     NA              | 66.86               | 4.55                |  1867396            |           NA        | Asia                | Western Asia        |\n",
       "\n"
      ],
      "text/plain": [
       "  country             year infant_mortality life_expectancy fertility\n",
       "1 Albania             1960 115.40           62.87           6.19     \n",
       "2 Algeria             1960 148.20           47.50           7.65     \n",
       "3 Angola              1960 208.00           35.98           7.32     \n",
       "4 Antigua and Barbuda 1960     NA           62.97           4.43     \n",
       "5 Argentina           1960  59.87           65.39           3.11     \n",
       "6 Armenia             1960     NA           66.86           4.55     \n",
       "  population gdp          continent region         \n",
       "1  1636054             NA Europe    Southern Europe\n",
       "2 11124892    13828152297 Africa    Northern Africa\n",
       "3  5270844             NA Africa    Middle Africa  \n",
       "4    54681             NA Americas  Caribbean      \n",
       "5 20619075   108000000000 Americas  South America  \n",
       "6  1867396             NA Asia      Western Asia   "
      ]
     },
     "metadata": {},
     "output_type": "display_data"
    },
    {
     "name": "stdout",
     "output_type": "stream",
     "text": [
      "Observations: 10,545\n",
      "Variables: 9\n",
      "$ country          \u001b[3m\u001b[38;5;246m<chr>\u001b[39m\u001b[23m \"Albania\", \"Algeria\", \"Angola\", \"Antigua and Barbu...\n",
      "$ year             \u001b[3m\u001b[38;5;246m<dbl>\u001b[39m\u001b[23m 1960, 1960, 1960, 1960, 1960, 1960, 1960, 1960, 19...\n",
      "$ infant_mortality \u001b[3m\u001b[38;5;246m<dbl>\u001b[39m\u001b[23m 115.40, 148.20, 208.00, NA, 59.87, NA, NA, 20.30, ...\n",
      "$ life_expectancy  \u001b[3m\u001b[38;5;246m<dbl>\u001b[39m\u001b[23m 62.87, 47.50, 35.98, 62.97, 65.39, 66.86, 65.66, 7...\n",
      "$ fertility        \u001b[3m\u001b[38;5;246m<dbl>\u001b[39m\u001b[23m 6.19, 7.65, 7.32, 4.43, 3.11, 4.55, 4.82, 3.45, 2....\n",
      "$ population       \u001b[3m\u001b[38;5;246m<dbl>\u001b[39m\u001b[23m 1636054, 11124892, 5270844, 54681, 20619075, 18673...\n",
      "$ gdp              \u001b[3m\u001b[38;5;246m<dbl>\u001b[39m\u001b[23m NA, 13828152297, NA, NA, 108000000000, NA, NA, 966...\n",
      "$ continent        \u001b[3m\u001b[38;5;246m<chr>\u001b[39m\u001b[23m \"Europe\", \"Africa\", \"Africa\", \"Americas\", \"America...\n",
      "$ region           \u001b[3m\u001b[38;5;246m<chr>\u001b[39m\u001b[23m \"Southern Europe\", \"Northern Africa\", \"Middle Afri...\n"
     ]
    }
   ],
   "source": [
    "gapminderall <- read_csv('data/01/Case Study 1 - Gapminder/gapminderall.csv', col_types=cols())\n",
    "head(gapminderall)\n",
    "glimpse(gapminderall)"
   ]
  },
  {
   "cell_type": "markdown",
   "metadata": {},
   "source": [
    "#### `mutate()`, `filter()`, and `arrange()`:"
   ]
  },
  {
   "cell_type": "code",
   "execution_count": 24,
   "metadata": {},
   "outputs": [
    {
     "data": {
      "text/html": [
       "<table>\n",
       "<thead><tr><th scope=col>country</th><th scope=col>year</th><th scope=col>infant_mortality</th><th scope=col>life_expectancy</th><th scope=col>fertility</th><th scope=col>population</th><th scope=col>gdp</th><th scope=col>continent</th><th scope=col>region</th><th scope=col>gdpPerCapita</th></tr></thead>\n",
       "<tbody>\n",
       "\t<tr><td>Australia                </td><td>2007                     </td><td>4.5                      </td><td>81.235                   </td><td>1.92                     </td><td>20434176                 </td><td>7.04e+11                 </td><td>Oceania                  </td><td>Australia and New Zealand</td><td>34452.09                 </td></tr>\n",
       "\t<tr><td>Australia                </td><td>2002                     </td><td>5.0                      </td><td>80.370                   </td><td>1.76                     </td><td>19546792                 </td><td>6.00e+11                 </td><td>Oceania                  </td><td>Australia and New Zealand</td><td>30695.57                 </td></tr>\n",
       "\t<tr><td>Australia                </td><td>1997                     </td><td>5.4                      </td><td>78.830                   </td><td>1.78                     </td><td>18565243                 </td><td>5.01e+11                 </td><td>Oceania                  </td><td>Australia and New Zealand</td><td>26985.91                 </td></tr>\n",
       "\t<tr><td>Australia                </td><td>2011                     </td><td>3.8                      </td><td>82.200                   </td><td>1.88                     </td><td>22542371                 </td><td>5.73e+11                 </td><td>Oceania                  </td><td>Australia and New Zealand</td><td>25418.80                 </td></tr>\n",
       "\t<tr><td>Australia                </td><td>2008                     </td><td>4.4                      </td><td>81.600                   </td><td>1.96                     </td><td>21370348                 </td><td>5.43e+11                 </td><td>Oceania                  </td><td>Australia and New Zealand</td><td>25409.04                 </td></tr>\n",
       "\t<tr><td>Australia                </td><td>2010                     </td><td>4.1                      </td><td>82.000                   </td><td>1.89                     </td><td>22162863                 </td><td>5.63e+11                 </td><td>Oceania                  </td><td>Australia and New Zealand</td><td>25402.86                 </td></tr>\n",
       "</tbody>\n",
       "</table>\n"
      ],
      "text/latex": [
       "\\begin{tabular}{r|llllllllll}\n",
       " country & year & infant\\_mortality & life\\_expectancy & fertility & population & gdp & continent & region & gdpPerCapita\\\\\n",
       "\\hline\n",
       "\t Australia                 & 2007                      & 4.5                       & 81.235                    & 1.92                      & 20434176                  & 7.04e+11                  & Oceania                   & Australia and New Zealand & 34452.09                 \\\\\n",
       "\t Australia                 & 2002                      & 5.0                       & 80.370                    & 1.76                      & 19546792                  & 6.00e+11                  & Oceania                   & Australia and New Zealand & 30695.57                 \\\\\n",
       "\t Australia                 & 1997                      & 5.4                       & 78.830                    & 1.78                      & 18565243                  & 5.01e+11                  & Oceania                   & Australia and New Zealand & 26985.91                 \\\\\n",
       "\t Australia                 & 2011                      & 3.8                       & 82.200                    & 1.88                      & 22542371                  & 5.73e+11                  & Oceania                   & Australia and New Zealand & 25418.80                 \\\\\n",
       "\t Australia                 & 2008                      & 4.4                       & 81.600                    & 1.96                      & 21370348                  & 5.43e+11                  & Oceania                   & Australia and New Zealand & 25409.04                 \\\\\n",
       "\t Australia                 & 2010                      & 4.1                       & 82.000                    & 1.89                      & 22162863                  & 5.63e+11                  & Oceania                   & Australia and New Zealand & 25402.86                 \\\\\n",
       "\\end{tabular}\n"
      ],
      "text/markdown": [
       "\n",
       "| country | year | infant_mortality | life_expectancy | fertility | population | gdp | continent | region | gdpPerCapita |\n",
       "|---|---|---|---|---|---|---|---|---|---|\n",
       "| Australia                 | 2007                      | 4.5                       | 81.235                    | 1.92                      | 20434176                  | 7.04e+11                  | Oceania                   | Australia and New Zealand | 34452.09                  |\n",
       "| Australia                 | 2002                      | 5.0                       | 80.370                    | 1.76                      | 19546792                  | 6.00e+11                  | Oceania                   | Australia and New Zealand | 30695.57                  |\n",
       "| Australia                 | 1997                      | 5.4                       | 78.830                    | 1.78                      | 18565243                  | 5.01e+11                  | Oceania                   | Australia and New Zealand | 26985.91                  |\n",
       "| Australia                 | 2011                      | 3.8                       | 82.200                    | 1.88                      | 22542371                  | 5.73e+11                  | Oceania                   | Australia and New Zealand | 25418.80                  |\n",
       "| Australia                 | 2008                      | 4.4                       | 81.600                    | 1.96                      | 21370348                  | 5.43e+11                  | Oceania                   | Australia and New Zealand | 25409.04                  |\n",
       "| Australia                 | 2010                      | 4.1                       | 82.000                    | 1.89                      | 22162863                  | 5.63e+11                  | Oceania                   | Australia and New Zealand | 25402.86                  |\n",
       "\n"
      ],
      "text/plain": [
       "  country   year infant_mortality life_expectancy fertility population gdp     \n",
       "1 Australia 2007 4.5              81.235          1.92      20434176   7.04e+11\n",
       "2 Australia 2002 5.0              80.370          1.76      19546792   6.00e+11\n",
       "3 Australia 1997 5.4              78.830          1.78      18565243   5.01e+11\n",
       "4 Australia 2011 3.8              82.200          1.88      22542371   5.73e+11\n",
       "5 Australia 2008 4.4              81.600          1.96      21370348   5.43e+11\n",
       "6 Australia 2010 4.1              82.000          1.89      22162863   5.63e+11\n",
       "  continent region                    gdpPerCapita\n",
       "1 Oceania   Australia and New Zealand 34452.09    \n",
       "2 Oceania   Australia and New Zealand 30695.57    \n",
       "3 Oceania   Australia and New Zealand 26985.91    \n",
       "4 Oceania   Australia and New Zealand 25418.80    \n",
       "5 Oceania   Australia and New Zealand 25409.04    \n",
       "6 Oceania   Australia and New Zealand 25402.86    "
      ]
     },
     "metadata": {},
     "output_type": "display_data"
    }
   ],
   "source": [
    "aus <- gapminderall %>%\n",
    "    mutate(gdpPerCapita = gdp / population) %>%\n",
    "    filter(country=='Australia') %>%\n",
    "    arrange(desc(gdpPerCapita))\n",
    "head(aus)"
   ]
  },
  {
   "cell_type": "markdown",
   "metadata": {},
   "source": [
    "#### `summarise()`:\n",
    "\n",
    "Note: By filtering, we avoid having to use the `na.rm=TRUE` argument which makes our code neater."
   ]
  },
  {
   "cell_type": "code",
   "execution_count": 25,
   "metadata": {},
   "outputs": [
    {
     "data": {
      "text/html": [
       "<table>\n",
       "<thead><tr><th scope=col>unique</th></tr></thead>\n",
       "<tbody>\n",
       "\t<tr><td>185</td></tr>\n",
       "</tbody>\n",
       "</table>\n"
      ],
      "text/latex": [
       "\\begin{tabular}{r|l}\n",
       " unique\\\\\n",
       "\\hline\n",
       "\t 185\\\\\n",
       "\\end{tabular}\n"
      ],
      "text/markdown": [
       "\n",
       "| unique |\n",
       "|---|\n",
       "| 185 |\n",
       "\n"
      ],
      "text/plain": [
       "  unique\n",
       "1 185   "
      ]
     },
     "metadata": {},
     "output_type": "display_data"
    }
   ],
   "source": [
    "gapminderall %>% summarise(unique=n_distinct(country))"
   ]
  },
  {
   "cell_type": "code",
   "execution_count": 26,
   "metadata": {},
   "outputs": [
    {
     "data": {
      "text/html": [
       "<table>\n",
       "<thead><tr><th scope=col>mean</th><th scope=col>sd</th></tr></thead>\n",
       "<tbody>\n",
       "\t<tr><td>17743.2 </td><td>5808.273</td></tr>\n",
       "</tbody>\n",
       "</table>\n"
      ],
      "text/latex": [
       "\\begin{tabular}{r|ll}\n",
       " mean & sd\\\\\n",
       "\\hline\n",
       "\t 17743.2  & 5808.273\\\\\n",
       "\\end{tabular}\n"
      ],
      "text/markdown": [
       "\n",
       "| mean | sd |\n",
       "|---|---|\n",
       "| 17743.2  | 5808.273 |\n",
       "\n"
      ],
      "text/plain": [
       "  mean    sd      \n",
       "1 17743.2 5808.273"
      ]
     },
     "metadata": {},
     "output_type": "display_data"
    }
   ],
   "source": [
    "aus %>%\n",
    "    filter(!is.na(gdpPerCapita)) %>%\n",
    "    summarise(mean=mean(gdpPerCapita), sd=sd(gdpPerCapita))"
   ]
  },
  {
   "cell_type": "markdown",
   "metadata": {},
   "source": [
    "#### `pull()`:\n",
    "\n",
    "Literally 'pulls' the raw data and returns it in a way that can be used in further operations. You'll notice that without `pull()`, `meanPop` is a data frame while with it, it becomes a numeric which allows us to do further operations."
   ]
  },
  {
   "cell_type": "code",
   "execution_count": 27,
   "metadata": {},
   "outputs": [
    {
     "data": {
      "text/html": [
       "<ol class=list-inline>\n",
       "\t<li>'tbl_df'</li>\n",
       "\t<li>'tbl'</li>\n",
       "\t<li>'data.frame'</li>\n",
       "</ol>\n"
      ],
      "text/latex": [
       "\\begin{enumerate*}\n",
       "\\item 'tbl\\_df'\n",
       "\\item 'tbl'\n",
       "\\item 'data.frame'\n",
       "\\end{enumerate*}\n"
      ],
      "text/markdown": [
       "1. 'tbl_df'\n",
       "2. 'tbl'\n",
       "3. 'data.frame'\n",
       "\n",
       "\n"
      ],
      "text/plain": [
       "[1] \"tbl_df\"     \"tbl\"        \"data.frame\""
      ]
     },
     "metadata": {},
     "output_type": "display_data"
    },
    {
     "data": {
      "text/html": [
       "<table>\n",
       "<thead><tr><th scope=col>meanPop</th></tr></thead>\n",
       "<tbody>\n",
       "\t<tr><td>26984007</td></tr>\n",
       "</tbody>\n",
       "</table>\n"
      ],
      "text/latex": [
       "\\begin{tabular}{r|l}\n",
       " meanPop\\\\\n",
       "\\hline\n",
       "\t 26984007\\\\\n",
       "\\end{tabular}\n"
      ],
      "text/markdown": [
       "\n",
       "| meanPop |\n",
       "|---|\n",
       "| 26984007 |\n",
       "\n"
      ],
      "text/plain": [
       "  meanPop \n",
       "1 26984007"
      ]
     },
     "metadata": {},
     "output_type": "display_data"
    }
   ],
   "source": [
    "meanPop <- gapminderall %>%\n",
    "    filter(!is.na(population)) %>%\n",
    "    summarise(meanPop=mean(population))\n",
    "class(meanPop)\n",
    "meanPop"
   ]
  },
  {
   "cell_type": "code",
   "execution_count": 28,
   "metadata": {},
   "outputs": [
    {
     "data": {
      "text/html": [
       "'numeric'"
      ],
      "text/latex": [
       "'numeric'"
      ],
      "text/markdown": [
       "'numeric'"
      ],
      "text/plain": [
       "[1] \"numeric\""
      ]
     },
     "metadata": {},
     "output_type": "display_data"
    },
    {
     "data": {
      "text/html": [
       "26984006.5695946"
      ],
      "text/latex": [
       "26984006.5695946"
      ],
      "text/markdown": [
       "26984006.5695946"
      ],
      "text/plain": [
       "[1] 26984007"
      ]
     },
     "metadata": {},
     "output_type": "display_data"
    }
   ],
   "source": [
    "meanPop <- gapminderall %>%\n",
    "    filter(!is.na(population)) %>%\n",
    "    summarise(meanPop=mean(population)) %>%\n",
    "    pull()\n",
    "class(meanPop)\n",
    "meanPop"
   ]
  },
  {
   "cell_type": "code",
   "execution_count": 29,
   "metadata": {},
   "outputs": [
    {
     "data": {
      "text/html": [
       "<table>\n",
       "<thead><tr><th scope=col>country</th><th scope=col>year</th><th scope=col>infant_mortality</th><th scope=col>life_expectancy</th><th scope=col>fertility</th><th scope=col>population</th><th scope=col>gdp</th><th scope=col>continent</th><th scope=col>region</th><th scope=col>gdpOverMeanPop</th></tr></thead>\n",
       "<tbody>\n",
       "\t<tr><td>Algeria                  </td><td>1960                     </td><td>148.20                   </td><td>47.50                    </td><td>7.65                     </td><td>11124892                 </td><td> 13828152297             </td><td>Africa                   </td><td>Northern Africa          </td><td> 512.4573                </td></tr>\n",
       "\t<tr><td>Argentina                </td><td>1960                     </td><td> 59.87                   </td><td>65.39                    </td><td>3.11                     </td><td>20619075                 </td><td>108000000000             </td><td>Americas                 </td><td>South America            </td><td>4002.3708                </td></tr>\n",
       "\t<tr><td>Australia                </td><td>1960                     </td><td> 20.30                   </td><td>70.87                    </td><td>3.45                     </td><td>10292328                 </td><td> 96677859364             </td><td>Oceania                  </td><td>Australia and New Zealand</td><td>3582.7837                </td></tr>\n",
       "</tbody>\n",
       "</table>\n"
      ],
      "text/latex": [
       "\\begin{tabular}{r|llllllllll}\n",
       " country & year & infant\\_mortality & life\\_expectancy & fertility & population & gdp & continent & region & gdpOverMeanPop\\\\\n",
       "\\hline\n",
       "\t Algeria                   & 1960                      & 148.20                    & 47.50                     & 7.65                      & 11124892                  &  13828152297              & Africa                    & Northern Africa           &  512.4573                \\\\\n",
       "\t Argentina                 & 1960                      &  59.87                    & 65.39                     & 3.11                      & 20619075                  & 108000000000              & Americas                  & South America             & 4002.3708                \\\\\n",
       "\t Australia                 & 1960                      &  20.30                    & 70.87                     & 3.45                      & 10292328                  &  96677859364              & Oceania                   & Australia and New Zealand & 3582.7837                \\\\\n",
       "\\end{tabular}\n"
      ],
      "text/markdown": [
       "\n",
       "| country | year | infant_mortality | life_expectancy | fertility | population | gdp | continent | region | gdpOverMeanPop |\n",
       "|---|---|---|---|---|---|---|---|---|---|\n",
       "| Algeria                   | 1960                      | 148.20                    | 47.50                     | 7.65                      | 11124892                  |  13828152297              | Africa                    | Northern Africa           |  512.4573                 |\n",
       "| Argentina                 | 1960                      |  59.87                    | 65.39                     | 3.11                      | 20619075                  | 108000000000              | Americas                  | South America             | 4002.3708                 |\n",
       "| Australia                 | 1960                      |  20.30                    | 70.87                     | 3.45                      | 10292328                  |  96677859364              | Oceania                   | Australia and New Zealand | 3582.7837                 |\n",
       "\n"
      ],
      "text/plain": [
       "  country   year infant_mortality life_expectancy fertility population\n",
       "1 Algeria   1960 148.20           47.50           7.65      11124892  \n",
       "2 Argentina 1960  59.87           65.39           3.11      20619075  \n",
       "3 Australia 1960  20.30           70.87           3.45      10292328  \n",
       "  gdp          continent region                    gdpOverMeanPop\n",
       "1  13828152297 Africa    Northern Africa            512.4573     \n",
       "2 108000000000 Americas  South America             4002.3708     \n",
       "3  96677859364 Oceania   Australia and New Zealand 3582.7837     "
      ]
     },
     "metadata": {},
     "output_type": "display_data"
    }
   ],
   "source": [
    "gapTemp <- gapminderall %>%\n",
    "    filter(!is.na(gdp)) %>%\n",
    "    mutate(gdpOverMeanPop = gdp / meanPop)\n",
    "head(gapTemp, 3)"
   ]
  },
  {
   "cell_type": "markdown",
   "metadata": {},
   "source": [
    "#### `group_by()`:"
   ]
  },
  {
   "cell_type": "code",
   "execution_count": 30,
   "metadata": {},
   "outputs": [
    {
     "data": {
      "text/html": [
       "<table>\n",
       "<thead><tr><th scope=col>continent</th><th scope=col>average</th></tr></thead>\n",
       "<tbody>\n",
       "\t<tr><td>Africa      </td><td> 12653648774</td></tr>\n",
       "\t<tr><td>Americas    </td><td>276732547728</td></tr>\n",
       "\t<tr><td>Asia        </td><td>188487927587</td></tr>\n",
       "\t<tr><td>Europe      </td><td>237024871163</td></tr>\n",
       "\t<tr><td>Oceania     </td><td> 40006048234</td></tr>\n",
       "</tbody>\n",
       "</table>\n"
      ],
      "text/latex": [
       "\\begin{tabular}{r|ll}\n",
       " continent & average\\\\\n",
       "\\hline\n",
       "\t Africa       &  12653648774\\\\\n",
       "\t Americas     & 276732547728\\\\\n",
       "\t Asia         & 188487927587\\\\\n",
       "\t Europe       & 237024871163\\\\\n",
       "\t Oceania      &  40006048234\\\\\n",
       "\\end{tabular}\n"
      ],
      "text/markdown": [
       "\n",
       "| continent | average |\n",
       "|---|---|\n",
       "| Africa       |  12653648774 |\n",
       "| Americas     | 276732547728 |\n",
       "| Asia         | 188487927587 |\n",
       "| Europe       | 237024871163 |\n",
       "| Oceania      |  40006048234 |\n",
       "\n"
      ],
      "text/plain": [
       "  continent average     \n",
       "1 Africa     12653648774\n",
       "2 Americas  276732547728\n",
       "3 Asia      188487927587\n",
       "4 Europe    237024871163\n",
       "5 Oceania    40006048234"
      ]
     },
     "metadata": {},
     "output_type": "display_data"
    }
   ],
   "source": [
    "gapminderall %>%\n",
    "    group_by(continent) %>%\n",
    "    filter(!is.na(gdp)) %>%\n",
    "    summarise(average=mean(gdp))"
   ]
  },
  {
   "cell_type": "code",
   "execution_count": 31,
   "metadata": {},
   "outputs": [
    {
     "name": "stdout",
     "output_type": "stream",
     "text": [
      "[1] \"gapDuplicate has 10547 rows which is 2 more than gapminderall since we copies two rows.\"\n",
      "[1] \"The duplicated rows are:\"\n"
     ]
    },
    {
     "data": {
      "text/html": [
       "<table>\n",
       "<thead><tr><th scope=col>country</th><th scope=col>year</th><th scope=col>infant_mortality</th><th scope=col>life_expectancy</th><th scope=col>fertility</th><th scope=col>population</th><th scope=col>gdp</th><th scope=col>continent</th><th scope=col>region</th></tr></thead>\n",
       "<tbody>\n",
       "\t<tr><td>Angola       </td><td>1960         </td><td>208.00       </td><td>35.98        </td><td>7.32         </td><td> 5270844     </td><td>      NA     </td><td>Africa       </td><td>Middle Africa</td></tr>\n",
       "\t<tr><td>Argentina    </td><td>1960         </td><td> 59.87       </td><td>65.39        </td><td>3.11         </td><td>20619075     </td><td>1.08e+11     </td><td>Americas     </td><td>South America</td></tr>\n",
       "</tbody>\n",
       "</table>\n"
      ],
      "text/latex": [
       "\\begin{tabular}{r|lllllllll}\n",
       " country & year & infant\\_mortality & life\\_expectancy & fertility & population & gdp & continent & region\\\\\n",
       "\\hline\n",
       "\t Angola        & 1960          & 208.00        & 35.98         & 7.32          &  5270844      &       NA      & Africa        & Middle Africa\\\\\n",
       "\t Argentina     & 1960          &  59.87        & 65.39         & 3.11          & 20619075      & 1.08e+11      & Americas      & South America\\\\\n",
       "\\end{tabular}\n"
      ],
      "text/markdown": [
       "\n",
       "| country | year | infant_mortality | life_expectancy | fertility | population | gdp | continent | region |\n",
       "|---|---|---|---|---|---|---|---|---|\n",
       "| Angola        | 1960          | 208.00        | 35.98         | 7.32          |  5270844      |       NA      | Africa        | Middle Africa |\n",
       "| Argentina     | 1960          |  59.87        | 65.39         | 3.11          | 20619075      | 1.08e+11      | Americas      | South America |\n",
       "\n"
      ],
      "text/plain": [
       "  country   year infant_mortality life_expectancy fertility population gdp     \n",
       "1 Angola    1960 208.00           35.98           7.32       5270844         NA\n",
       "2 Argentina 1960  59.87           65.39           3.11      20619075   1.08e+11\n",
       "  continent region       \n",
       "1 Africa    Middle Africa\n",
       "2 Americas  South America"
      ]
     },
     "metadata": {},
     "output_type": "display_data"
    },
    {
     "name": "stdout",
     "output_type": "stream",
     "text": [
      "[1] \"clean has 10545 rows.\"\n"
     ]
    }
   ],
   "source": [
    " # Copies rows 4 and 5 to the bottom\n",
    "gapDuplicate <- rbind(gapminderall, gapminderall[c(3,5),])\n",
    "print(paste('gapDuplicate has', dim(gapDuplicate)[1], 'rows which is 2 more than gapminderall since we copies two rows.'))\n",
    "\n",
    "# Now, these are the rows that are duplicated\n",
    "print('The duplicated rows are:')\n",
    "duplicates <- gapDuplicate[duplicated(gapDuplicate),]\n",
    "duplicates\n",
    "clean <- gapDuplicate[!duplicated(gapDuplicate),]\n",
    "print(paste('clean has', dim(clean)[1], 'rows.'))"
   ]
  },
  {
   "cell_type": "markdown",
   "metadata": {},
   "source": [
    "## Practice Questions\n",
    "\n",
    "### Question 1"
   ]
  },
  {
   "cell_type": "code",
   "execution_count": 32,
   "metadata": {},
   "outputs": [
    {
     "data": {
      "text/html": [
       "<table>\n",
       "<thead><tr><th scope=col>country</th><th scope=col>year</th><th scope=col>infant_mortality</th></tr></thead>\n",
       "<tbody>\n",
       "\t<tr><td>Korea, Rep. </td><td>2015        </td><td> 2.9        </td></tr>\n",
       "\t<tr><td>Malaysia    </td><td>2015        </td><td> 6.0        </td></tr>\n",
       "\t<tr><td>Pakistan    </td><td>2015        </td><td>65.8        </td></tr>\n",
       "\t<tr><td>Poland      </td><td>2015        </td><td> 4.5        </td></tr>\n",
       "\t<tr><td>Russia      </td><td>2015        </td><td> 8.2        </td></tr>\n",
       "\t<tr><td>South Africa</td><td>2015        </td><td>33.6        </td></tr>\n",
       "\t<tr><td>Sri Lanka   </td><td>2015        </td><td> 8.4        </td></tr>\n",
       "\t<tr><td>Thailand    </td><td>2015        </td><td>10.5        </td></tr>\n",
       "\t<tr><td>Turkey      </td><td>2015        </td><td>11.6        </td></tr>\n",
       "\t<tr><td>Vietnam     </td><td>2015        </td><td>17.3        </td></tr>\n",
       "</tbody>\n",
       "</table>\n"
      ],
      "text/latex": [
       "\\begin{tabular}{r|lll}\n",
       " country & year & infant\\_mortality\\\\\n",
       "\\hline\n",
       "\t Korea, Rep.  & 2015         &  2.9        \\\\\n",
       "\t Malaysia     & 2015         &  6.0        \\\\\n",
       "\t Pakistan     & 2015         & 65.8        \\\\\n",
       "\t Poland       & 2015         &  4.5        \\\\\n",
       "\t Russia       & 2015         &  8.2        \\\\\n",
       "\t South Africa & 2015         & 33.6        \\\\\n",
       "\t Sri Lanka    & 2015         &  8.4        \\\\\n",
       "\t Thailand     & 2015         & 10.5        \\\\\n",
       "\t Turkey       & 2015         & 11.6        \\\\\n",
       "\t Vietnam      & 2015         & 17.3        \\\\\n",
       "\\end{tabular}\n"
      ],
      "text/markdown": [
       "\n",
       "| country | year | infant_mortality |\n",
       "|---|---|---|\n",
       "| Korea, Rep.  | 2015         |  2.9         |\n",
       "| Malaysia     | 2015         |  6.0         |\n",
       "| Pakistan     | 2015         | 65.8         |\n",
       "| Poland       | 2015         |  4.5         |\n",
       "| Russia       | 2015         |  8.2         |\n",
       "| South Africa | 2015         | 33.6         |\n",
       "| Sri Lanka    | 2015         |  8.4         |\n",
       "| Thailand     | 2015         | 10.5         |\n",
       "| Turkey       | 2015         | 11.6         |\n",
       "| Vietnam      | 2015         | 17.3         |\n",
       "\n"
      ],
      "text/plain": [
       "   country      year infant_mortality\n",
       "1  Korea, Rep.  2015  2.9            \n",
       "2  Malaysia     2015  6.0            \n",
       "3  Pakistan     2015 65.8            \n",
       "4  Poland       2015  4.5            \n",
       "5  Russia       2015  8.2            \n",
       "6  South Africa 2015 33.6            \n",
       "7  Sri Lanka    2015  8.4            \n",
       "8  Thailand     2015 10.5            \n",
       "9  Turkey       2015 11.6            \n",
       "10 Vietnam      2015 17.3            "
      ]
     },
     "metadata": {},
     "output_type": "display_data"
    }
   ],
   "source": [
    "gapminderall %>%\n",
    "    select(country, year, infant_mortality) %>%\n",
    "    filter(country %in% c('Turkey', 'Sri Lanka', 'Korea, Rep.',\n",
    "                          'Poland', 'Malaysia', 'Russia', 'Pakistan',\n",
    "                          'Vietnam', 'Thailand', 'South Africa')) %>%\n",
    "    filter(year==2015)"
   ]
  },
  {
   "cell_type": "code",
   "execution_count": 33,
   "metadata": {},
   "outputs": [
    {
     "data": {
      "image/png": "[encoded data removed]",
      "text/plain": [
       "plot without title"
      ]
     },
     "metadata": {},
     "output_type": "display_data"
    }
   ],
   "source": [
    "gapminderall %>%\n",
    "    filter(year==1960) %>%\n",
    "    ggplot(aes(x=fertility, y=life_expectancy, colour=continent)) +\n",
    "    geom_point() +\n",
    "    ggtitle('1960') +\n",
    "    theme(plot.title=element_text(size=12, face='bold'))"
   ]
  },
  {
   "cell_type": "code",
   "execution_count": 34,
   "metadata": {},
   "outputs": [
    {
     "name": "stderr",
     "output_type": "stream",
     "text": [
      "Warning message:\n",
      "\"Removed 1 rows containing missing values (geom_point).\""
     ]
    },
    {
     "data": {
      "image/png": "[encoded data removed]",
      "text/plain": [
       "plot without title"
      ]
     },
     "metadata": {},
     "output_type": "display_data"
    }
   ],
   "source": [
    "gapminderall %>%\n",
    "    filter(year==1960 | year==2015) %>%\n",
    "    ggplot(aes(x=fertility, y=life_expectancy, colour=continent)) +\n",
    "    geom_point() +\n",
    "    facet_grid(continent~year)"
   ]
  },
  {
   "cell_type": "markdown",
   "metadata": {},
   "source": [
    "#### Analysis\n",
    "\n",
    "* Between 1960 and 2015, every continent has experiences a general shift towards the upper left corner of the graph.\n",
    "* This indicates modern families are having less children and living longer.\n",
    "* This is ultimately unsurprising."
   ]
  },
  {
   "cell_type": "code",
   "execution_count": 35,
   "metadata": {},
   "outputs": [
    {
     "name": "stderr",
     "output_type": "stream",
     "text": [
      "Warning message:\n",
      "\"Removed 1 rows containing missing values (geom_point).\""
     ]
    },
    {
     "data": {
      "image/png": "[encoded data removed]",
      "text/plain": [
       "plot without title"
      ]
     },
     "metadata": {},
     "output_type": "display_data"
    }
   ],
   "source": [
    "gapminderall %>%\n",
    "    filter(year %in% c(1960,2015)) %>%\n",
    "    ggplot(aes(x=fertility, y=life_expectancy, colour=year)) +\n",
    "    geom_point() +\n",
    "    facet_grid(.~year)"
   ]
  },
  {
   "cell_type": "code",
   "execution_count": 36,
   "metadata": {},
   "outputs": [
    {
     "data": {
      "image/png": "[encoded data removed]",
      "text/plain": [
       "plot without title"
      ]
     },
     "metadata": {},
     "output_type": "display_data"
    }
   ],
   "source": [
    "gapminderall %>%\n",
    "    filter(continent %in% c('Asia', 'Europe')) %>%\n",
    "    filter(year %in% c(1962, 1980, 1990, 2000, 2015)) %>%\n",
    "    ggplot(aes(x=fertility, y=life_expectancy, colour=continent)) +\n",
    "    geom_point() +\n",
    "    facet_wrap(.~year)"
   ]
  },
  {
   "cell_type": "markdown",
   "metadata": {},
   "source": [
    "### Question 2"
   ]
  },
  {
   "cell_type": "code",
   "execution_count": 38,
   "metadata": {},
   "outputs": [
    {
     "data": {
      "text/html": [
       "<table>\n",
       "<thead><tr><th scope=col>IDpol</th><th scope=col>ClaimNb</th><th scope=col>Exposure</th><th scope=col>Area</th><th scope=col>VehPower</th><th scope=col>VehAge</th><th scope=col>DrivAge</th><th scope=col>BonusMalus</th><th scope=col>VehBrand</th><th scope=col>VehGas</th><th scope=col>Density</th><th scope=col>Region</th></tr></thead>\n",
       "<tbody>\n",
       "\t<tr><td>1      </td><td>1      </td><td>0.10   </td><td>D      </td><td>5      </td><td>0      </td><td>55     </td><td>50     </td><td>B12    </td><td>Regular</td><td>1217   </td><td>R82    </td></tr>\n",
       "\t<tr><td>3      </td><td>1      </td><td>0.77   </td><td>D      </td><td>5      </td><td>0      </td><td>55     </td><td>50     </td><td>B12    </td><td>Regular</td><td>1217   </td><td>R82    </td></tr>\n",
       "\t<tr><td>5      </td><td>1      </td><td>0.75   </td><td>B      </td><td>6      </td><td>2      </td><td>52     </td><td>50     </td><td>B12    </td><td>Diesel </td><td>  54   </td><td>R22    </td></tr>\n",
       "</tbody>\n",
       "</table>\n"
      ],
      "text/latex": [
       "\\begin{tabular}{r|llllllllllll}\n",
       " IDpol & ClaimNb & Exposure & Area & VehPower & VehAge & DrivAge & BonusMalus & VehBrand & VehGas & Density & Region\\\\\n",
       "\\hline\n",
       "\t 1       & 1       & 0.10    & D       & 5       & 0       & 55      & 50      & B12     & Regular & 1217    & R82    \\\\\n",
       "\t 3       & 1       & 0.77    & D       & 5       & 0       & 55      & 50      & B12     & Regular & 1217    & R82    \\\\\n",
       "\t 5       & 1       & 0.75    & B       & 6       & 2       & 52      & 50      & B12     & Diesel  &   54    & R22    \\\\\n",
       "\\end{tabular}\n"
      ],
      "text/markdown": [
       "\n",
       "| IDpol | ClaimNb | Exposure | Area | VehPower | VehAge | DrivAge | BonusMalus | VehBrand | VehGas | Density | Region |\n",
       "|---|---|---|---|---|---|---|---|---|---|---|---|\n",
       "| 1       | 1       | 0.10    | D       | 5       | 0       | 55      | 50      | B12     | Regular | 1217    | R82     |\n",
       "| 3       | 1       | 0.77    | D       | 5       | 0       | 55      | 50      | B12     | Regular | 1217    | R82     |\n",
       "| 5       | 1       | 0.75    | B       | 6       | 2       | 52      | 50      | B12     | Diesel  |   54    | R22     |\n",
       "\n"
      ],
      "text/plain": [
       "  IDpol ClaimNb Exposure Area VehPower VehAge DrivAge BonusMalus VehBrand\n",
       "1 1     1       0.10     D    5        0      55      50         B12     \n",
       "2 3     1       0.77     D    5        0      55      50         B12     \n",
       "3 5     1       0.75     B    6        2      52      50         B12     \n",
       "  VehGas  Density Region\n",
       "1 Regular 1217    R82   \n",
       "2 Regular 1217    R82   \n",
       "3 Diesel    54    R22   "
      ]
     },
     "metadata": {},
     "output_type": "display_data"
    },
    {
     "data": {
      "text/plain": [
       "     IDpol            ClaimNb            Exposure            Area          \n",
       " Min.   :      1   Min.   : 0.00000   Min.   :0.002732   Length:678013     \n",
       " 1st Qu.:1157951   1st Qu.: 0.00000   1st Qu.:0.180000   Class :character  \n",
       " Median :2272152   Median : 0.00000   Median :0.490000   Mode  :character  \n",
       " Mean   :2621857   Mean   : 0.05325   Mean   :0.528750                     \n",
       " 3rd Qu.:4046274   3rd Qu.: 0.00000   3rd Qu.:0.990000                     \n",
       " Max.   :6114330   Max.   :16.00000   Max.   :2.010000                     \n",
       "    VehPower          VehAge           DrivAge        BonusMalus    \n",
       " Min.   : 4.000   Min.   :  0.000   Min.   : 18.0   Min.   : 50.00  \n",
       " 1st Qu.: 5.000   1st Qu.:  2.000   1st Qu.: 34.0   1st Qu.: 50.00  \n",
       " Median : 6.000   Median :  6.000   Median : 44.0   Median : 50.00  \n",
       " Mean   : 6.455   Mean   :  7.044   Mean   : 45.5   Mean   : 59.76  \n",
       " 3rd Qu.: 7.000   3rd Qu.: 11.000   3rd Qu.: 55.0   3rd Qu.: 64.00  \n",
       " Max.   :15.000   Max.   :100.000   Max.   :100.0   Max.   :230.00  \n",
       "   VehBrand            VehGas             Density         Region         \n",
       " Length:678013      Length:678013      Min.   :    1   Length:678013     \n",
       " Class :character   Class :character   1st Qu.:   92   Class :character  \n",
       " Mode  :character   Mode  :character   Median :  393   Mode  :character  \n",
       "                                       Mean   : 1792                     \n",
       "                                       3rd Qu.: 1658                     \n",
       "                                       Max.   :27000                     "
      ]
     },
     "metadata": {},
     "output_type": "display_data"
    },
    {
     "name": "stdout",
     "output_type": "stream",
     "text": [
      "Observations: 678,013\n",
      "Variables: 12\n",
      "$ IDpol      \u001b[3m\u001b[38;5;246m<dbl>\u001b[39m\u001b[23m 1, 3, 5, 10, 11, 13, 15, 17, 18, 21, 25, 27, 30, 32, 35,...\n",
      "$ ClaimNb    \u001b[3m\u001b[38;5;246m<dbl>\u001b[39m\u001b[23m 1, 1, 1, 1, 1, 1, 1, 1, 1, 1, 1, 1, 1, 1, 1, 1, 1, 1, 1,...\n",
      "$ Exposure   \u001b[3m\u001b[38;5;246m<dbl>\u001b[39m\u001b[23m 0.10, 0.77, 0.75, 0.09, 0.84, 0.52, 0.45, 0.27, 0.71, 0....\n",
      "$ Area       \u001b[3m\u001b[38;5;246m<chr>\u001b[39m\u001b[23m \"D\", \"D\", \"B\", \"B\", \"B\", \"E\", \"E\", \"C\", \"C\", \"B\", \"B\", \"...\n",
      "$ VehPower   \u001b[3m\u001b[38;5;246m<dbl>\u001b[39m\u001b[23m 5, 5, 6, 7, 7, 6, 6, 7, 7, 7, 7, 7, 4, 4, 4, 9, 6, 6, 6,...\n",
      "$ VehAge     \u001b[3m\u001b[38;5;246m<dbl>\u001b[39m\u001b[23m 0, 0, 2, 0, 0, 2, 2, 0, 0, 0, 0, 0, 1, 0, 9, 0, 2, 2, 2,...\n",
      "$ DrivAge    \u001b[3m\u001b[38;5;246m<dbl>\u001b[39m\u001b[23m 55, 55, 52, 46, 46, 38, 38, 33, 33, 41, 41, 56, 27, 27, ...\n",
      "$ BonusMalus \u001b[3m\u001b[38;5;246m<dbl>\u001b[39m\u001b[23m 50, 50, 50, 50, 50, 50, 50, 68, 68, 50, 50, 50, 90, 90, ...\n",
      "$ VehBrand   \u001b[3m\u001b[38;5;246m<chr>\u001b[39m\u001b[23m \"B12\", \"B12\", \"B12\", \"B12\", \"B12\", \"B12\", \"B12\", \"B12\", ...\n",
      "$ VehGas     \u001b[3m\u001b[38;5;246m<chr>\u001b[39m\u001b[23m \"Regular\", \"Regular\", \"Diesel\", \"Diesel\", \"Diesel\", \"Reg...\n",
      "$ Density    \u001b[3m\u001b[38;5;246m<dbl>\u001b[39m\u001b[23m 1217, 1217, 54, 76, 76, 3003, 3003, 137, 137, 60, 60, 17...\n",
      "$ Region     \u001b[3m\u001b[38;5;246m<chr>\u001b[39m\u001b[23m \"R82\", \"R82\", \"R22\", \"R72\", \"R72\", \"R31\", \"R31\", \"R91\", ...\n"
     ]
    }
   ],
   "source": [
    "casMotor <- read_csv('data/01/Case Study 2 - CAS Motor/freMTPL2freq.csv', col_types=cols())\n",
    "head(casMotor, 3)\n",
    "summary(casMotor)\n",
    "glimpse(casMotor)"
   ]
  },
  {
   "cell_type": "code",
   "execution_count": 39,
   "metadata": {},
   "outputs": [
    {
     "data": {
      "text/html": [
       "10.06"
      ],
      "text/latex": [
       "10.06"
      ],
      "text/markdown": [
       "10.06"
      ],
      "text/plain": [
       "[1] 10.06"
      ]
     },
     "metadata": {},
     "output_type": "display_data"
    }
   ],
   "source": [
    "casMotor <- casMotor %>% filter(ClaimNb<=3, Exposure<=1)\n",
    "round(sum(casMotor$ClaimNb) / sum(casMotor$Exposure) * 100, 2)\n",
    "casMotor$freq <- casMotor$ClaimNb / casMotor$Exposure"
   ]
  },
  {
   "cell_type": "code",
   "execution_count": 40,
   "metadata": {},
   "outputs": [
    {
     "name": "stdout",
     "output_type": "stream",
     "text": [
      "Observations: 676,773\n",
      "Variables: 13\n",
      "$ IDpol      \u001b[3m\u001b[38;5;246m<dbl>\u001b[39m\u001b[23m 1, 3, 5, 10, 11, 13, 15, 17, 18, 21, 25, 27, 30, 32, 35,...\n",
      "$ ClaimNb    \u001b[3m\u001b[38;5;246m<dbl>\u001b[39m\u001b[23m 1, 1, 1, 1, 1, 1, 1, 1, 1, 1, 1, 1, 1, 1, 1, 1, 1, 1, 1,...\n",
      "$ Exposure   \u001b[3m\u001b[38;5;246m<dbl>\u001b[39m\u001b[23m 0.10, 0.77, 0.75, 0.09, 0.84, 0.52, 0.45, 0.27, 0.71, 0....\n",
      "$ Area       \u001b[3m\u001b[38;5;246m<fct>\u001b[39m\u001b[23m D, D, B, B, B, E, E, C, C, B, B, C, D, D, E, F, A, A, A,...\n",
      "$ VehPower   \u001b[3m\u001b[38;5;246m<dbl>\u001b[39m\u001b[23m 5, 5, 6, 7, 7, 6, 6, 7, 7, 7, 7, 7, 4, 4, 4, 9, 6, 6, 6,...\n",
      "$ VehAge     \u001b[3m\u001b[38;5;246m<dbl>\u001b[39m\u001b[23m 0, 0, 2, 0, 0, 2, 2, 0, 0, 0, 0, 0, 1, 0, 9, 0, 2, 2, 2,...\n",
      "$ DrivAge    \u001b[3m\u001b[38;5;246m<dbl>\u001b[39m\u001b[23m 55, 55, 52, 46, 46, 38, 38, 33, 33, 41, 41, 56, 27, 27, ...\n",
      "$ BonusMalus \u001b[3m\u001b[38;5;246m<dbl>\u001b[39m\u001b[23m 50, 50, 50, 50, 50, 50, 50, 68, 68, 50, 50, 50, 90, 90, ...\n",
      "$ VehBrand   \u001b[3m\u001b[38;5;246m<fct>\u001b[39m\u001b[23m B12, B12, B12, B12, B12, B12, B12, B12, B12, B12, B12, B...\n",
      "$ VehGas     \u001b[3m\u001b[38;5;246m<fct>\u001b[39m\u001b[23m Regular, Regular, Diesel, Diesel, Diesel, Regular, Regul...\n",
      "$ Density    \u001b[3m\u001b[38;5;246m<dbl>\u001b[39m\u001b[23m 1217, 1217, 54, 76, 76, 3003, 3003, 137, 137, 60, 60, 17...\n",
      "$ Region     \u001b[3m\u001b[38;5;246m<fct>\u001b[39m\u001b[23m R82, R82, R22, R72, R72, R31, R31, R91, R91, R52, R52, R...\n",
      "$ freq       \u001b[3m\u001b[38;5;246m<dbl>\u001b[39m\u001b[23m 10.000000, 1.298701, 1.333333, 11.111111, 1.190476, 1.92...\n"
     ]
    }
   ],
   "source": [
    "cols <- c('Area', 'VehBrand', 'VehGas', 'Region')\n",
    "casMotor[cols] <- lapply(casMotor[cols], factor)\n",
    "glimpse(casMotor)"
   ]
  },
  {
   "cell_type": "code",
   "execution_count": 41,
   "metadata": {
    "scrolled": false
   },
   "outputs": [
    {
     "data": {
      "image/png": "[encoded data removed]",
      "text/plain": [
       "plot without title"
      ]
     },
     "metadata": {},
     "output_type": "display_data"
    },
    {
     "data": {
      "image/png": "[encoded data removed]",
      "text/plain": [
       "plot without title"
      ]
     },
     "metadata": {},
     "output_type": "display_data"
    },
    {
     "data": {
      "image/png": "[encoded data removed]",
      "text/plain": [
       "plot without title"
      ]
     },
     "metadata": {},
     "output_type": "display_data"
    },
    {
     "data": {
      "image/png": "[encoded data removed]",
      "text/plain": [
       "plot without title"
      ]
     },
     "metadata": {},
     "output_type": "display_data"
    },
    {
     "data": {
      "image/png": "[encoded data removed]",
      "text/plain": [
       "plot without title"
      ]
     },
     "metadata": {},
     "output_type": "display_data"
    },
    {
     "data": {
      "image/png": "[encoded data removed]",
      "text/plain": [
       "plot without title"
      ]
     },
     "metadata": {},
     "output_type": "display_data"
    },
    {
     "data": {
      "image/png": "[encoded data removed]",
      "text/plain": [
       "plot without title"
      ]
     },
     "metadata": {},
     "output_type": "display_data"
    }
   ],
   "source": [
    "for (var in c('VehPower', 'VehAge', 'DrivAge', 'BonusMalus', 'VehBrand', 'VehGas', 'Region')) {\n",
    "    print(casMotor %>%\n",
    "              select(var, Exposure) %>%\n",
    "              ggplot(aes(x=unlist(casMotor[var]), y=Exposure)) +\n",
    "              xlab(var) +\n",
    "              ylab('Exposure') +\n",
    "              geom_col()\n",
    "    )\n",
    "}"
   ]
  }
 ],
 "metadata": {
  "kernelspec": {
   "display_name": "R",
   "language": "R",
   "name": "ir"
  },
  "language_info": {
   "codemirror_mode": "r",
   "file_extension": ".r",
   "mimetype": "text/x-r-source",
   "name": "R",
   "pygments_lexer": "r",
   "version": "3.6.1"
  }
 },
 "nbformat": 4,
 "nbformat_minor": 4
}
