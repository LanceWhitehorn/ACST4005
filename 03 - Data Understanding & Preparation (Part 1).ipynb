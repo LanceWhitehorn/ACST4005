{
 "cells": [
  {
   "cell_type": "markdown",
   "metadata": {},
   "source": [
    "# Week 3 - Data Understanding and Preparation (Part 1)\n",
    "\n",
    "## Notes\n",
    "\n",
    "### Importing gapminder"
   ]
  },
  {
   "cell_type": "code",
   "execution_count": 2,
   "metadata": {},
   "outputs": [],
   "source": [
    "# Clear all the variables in the workspace\n",
    "rm(list=ls())\n",
    "\n",
    "# Install the tidyverse package\n",
    "if (!('tidyverse' %in% installed.packages())) {\n",
    "    install.packages('tidyverse')\n",
    "}\n",
    "\n",
    "# Load the relevant packages into the workspace\n",
    "suppressWarnings(library('tidyverse')) # For tidyr and readr\n",
    "suppressWarnings(library('readr')) # To import data (belongs to tidyverse)\n",
    "suppressWarnings(library('tidyr')) # To tidy data (belongs to tidyverse)\n",
    "suppressWarnings(library('psych')) # To tidy data (belongs to tidyverse)"
   ]
  },
  {
   "cell_type": "markdown",
   "metadata": {},
   "source": [
    "gapminder.csv:"
   ]
  },
  {
   "cell_type": "code",
   "execution_count": 2,
   "metadata": {},
   "outputs": [
    {
     "name": "stdout",
     "output_type": "stream",
     "text": [
      "[1] 1704    6\n"
     ]
    },
    {
     "data": {
      "text/html": [
       "<table>\n",
       "<thead><tr><th scope=col>country</th><th scope=col>year</th><th scope=col>pop</th><th scope=col>continent</th><th scope=col>lifeExp</th><th scope=col>gdpPercap</th></tr></thead>\n",
       "<tbody>\n",
       "\t<tr><td>Afghanistan</td><td>1952       </td><td> 8425333   </td><td>Asia       </td><td>28.801     </td><td>779.4453   </td></tr>\n",
       "\t<tr><td>Afghanistan</td><td>1957       </td><td> 9240934   </td><td>Asia       </td><td>30.332     </td><td>820.8530   </td></tr>\n",
       "\t<tr><td>Afghanistan</td><td>1962       </td><td>10267083   </td><td>Asia       </td><td>31.997     </td><td>853.1007   </td></tr>\n",
       "</tbody>\n",
       "</table>\n"
      ],
      "text/latex": [
       "\\begin{tabular}{r|llllll}\n",
       " country & year & pop & continent & lifeExp & gdpPercap\\\\\n",
       "\\hline\n",
       "\t Afghanistan & 1952        &  8425333    & Asia        & 28.801      & 779.4453   \\\\\n",
       "\t Afghanistan & 1957        &  9240934    & Asia        & 30.332      & 820.8530   \\\\\n",
       "\t Afghanistan & 1962        & 10267083    & Asia        & 31.997      & 853.1007   \\\\\n",
       "\\end{tabular}\n"
      ],
      "text/markdown": [
       "\n",
       "| country | year | pop | continent | lifeExp | gdpPercap |\n",
       "|---|---|---|---|---|---|\n",
       "| Afghanistan | 1952        |  8425333    | Asia        | 28.801      | 779.4453    |\n",
       "| Afghanistan | 1957        |  9240934    | Asia        | 30.332      | 820.8530    |\n",
       "| Afghanistan | 1962        | 10267083    | Asia        | 31.997      | 853.1007    |\n",
       "\n"
      ],
      "text/plain": [
       "  country     year pop      continent lifeExp gdpPercap\n",
       "1 Afghanistan 1952  8425333 Asia      28.801  779.4453 \n",
       "2 Afghanistan 1957  9240934 Asia      30.332  820.8530 \n",
       "3 Afghanistan 1962 10267083 Asia      31.997  853.1007 "
      ]
     },
     "metadata": {},
     "output_type": "display_data"
    }
   ],
   "source": [
    "gap <- read_csv('data/01/Case Study 1 - Gapminder/gapminder.csv', col_types=cols())\n",
    "print(dim(gap))\n",
    "head(gap, 3)"
   ]
  },
  {
   "cell_type": "markdown",
   "metadata": {},
   "source": [
    "gapminder_wide.csv:"
   ]
  },
  {
   "cell_type": "code",
   "execution_count": 3,
   "metadata": {},
   "outputs": [
    {
     "name": "stdout",
     "output_type": "stream",
     "text": [
      "[1] 142  38\n"
     ]
    },
    {
     "data": {
      "text/html": [
       "<table>\n",
       "<thead><tr><th scope=col>continent</th><th scope=col>country</th><th scope=col>gdpPercap_1952</th><th scope=col>gdpPercap_1957</th><th scope=col>gdpPercap_1962</th><th scope=col>gdpPercap_1967</th><th scope=col>gdpPercap_1972</th><th scope=col>gdpPercap_1977</th><th scope=col>gdpPercap_1982</th><th scope=col>gdpPercap_1987</th><th scope=col>...</th><th scope=col>pop_1962</th><th scope=col>pop_1967</th><th scope=col>pop_1972</th><th scope=col>pop_1977</th><th scope=col>pop_1982</th><th scope=col>pop_1987</th><th scope=col>pop_1992</th><th scope=col>pop_1997</th><th scope=col>pop_2002</th><th scope=col>pop_2007</th></tr></thead>\n",
       "<tbody>\n",
       "\t<tr><td>Africa   </td><td>Algeria  </td><td>2449.008 </td><td>3013.9760</td><td>2550.8169</td><td>3246.992 </td><td>4182.664 </td><td>4910.417 </td><td>5745.160 </td><td>5681.359 </td><td>...      </td><td>11000948 </td><td>12760499 </td><td>14760787 </td><td>17152804 </td><td>20033753 </td><td>23254956 </td><td>26298373 </td><td>29072015 </td><td>31287142 </td><td>33333216 </td></tr>\n",
       "\t<tr><td>Africa   </td><td>Angola   </td><td>3520.610 </td><td>3827.9405</td><td>4269.2767</td><td>5522.776 </td><td>5473.288 </td><td>3008.647 </td><td>2756.954 </td><td>2430.208 </td><td>...      </td><td> 4826015 </td><td> 5247469 </td><td> 5894858 </td><td> 6162675 </td><td> 7016384 </td><td> 7874230 </td><td> 8735988 </td><td> 9875024 </td><td>10866106 </td><td>12420476 </td></tr>\n",
       "\t<tr><td>Africa   </td><td>Benin    </td><td>1062.752 </td><td> 959.6011</td><td> 949.4991</td><td>1035.831 </td><td>1085.797 </td><td>1029.161 </td><td>1277.898 </td><td>1225.856 </td><td>...      </td><td> 2151895 </td><td> 2427334 </td><td> 2761407 </td><td> 3168267 </td><td> 3641603 </td><td> 4243788 </td><td> 4981671 </td><td> 6066080 </td><td> 7026113 </td><td> 8078314 </td></tr>\n",
       "</tbody>\n",
       "</table>\n"
      ],
      "text/latex": [
       "\\begin{tabular}{r|llllllllllllllllllllllllllllllllllllll}\n",
       " continent & country & gdpPercap\\_1952 & gdpPercap\\_1957 & gdpPercap\\_1962 & gdpPercap\\_1967 & gdpPercap\\_1972 & gdpPercap\\_1977 & gdpPercap\\_1982 & gdpPercap\\_1987 & ... & pop\\_1962 & pop\\_1967 & pop\\_1972 & pop\\_1977 & pop\\_1982 & pop\\_1987 & pop\\_1992 & pop\\_1997 & pop\\_2002 & pop\\_2007\\\\\n",
       "\\hline\n",
       "\t Africa    & Algeria   & 2449.008  & 3013.9760 & 2550.8169 & 3246.992  & 4182.664  & 4910.417  & 5745.160  & 5681.359  & ...       & 11000948  & 12760499  & 14760787  & 17152804  & 20033753  & 23254956  & 26298373  & 29072015  & 31287142  & 33333216 \\\\\n",
       "\t Africa    & Angola    & 3520.610  & 3827.9405 & 4269.2767 & 5522.776  & 5473.288  & 3008.647  & 2756.954  & 2430.208  & ...       &  4826015  &  5247469  &  5894858  &  6162675  &  7016384  &  7874230  &  8735988  &  9875024  & 10866106  & 12420476 \\\\\n",
       "\t Africa    & Benin     & 1062.752  &  959.6011 &  949.4991 & 1035.831  & 1085.797  & 1029.161  & 1277.898  & 1225.856  & ...       &  2151895  &  2427334  &  2761407  &  3168267  &  3641603  &  4243788  &  4981671  &  6066080  &  7026113  &  8078314 \\\\\n",
       "\\end{tabular}\n"
      ],
      "text/markdown": [
       "\n",
       "| continent | country | gdpPercap_1952 | gdpPercap_1957 | gdpPercap_1962 | gdpPercap_1967 | gdpPercap_1972 | gdpPercap_1977 | gdpPercap_1982 | gdpPercap_1987 | ... | pop_1962 | pop_1967 | pop_1972 | pop_1977 | pop_1982 | pop_1987 | pop_1992 | pop_1997 | pop_2002 | pop_2007 |\n",
       "|---|---|---|---|---|---|---|---|---|---|---|---|---|---|---|---|---|---|---|---|---|\n",
       "| Africa    | Algeria   | 2449.008  | 3013.9760 | 2550.8169 | 3246.992  | 4182.664  | 4910.417  | 5745.160  | 5681.359  | ...       | 11000948  | 12760499  | 14760787  | 17152804  | 20033753  | 23254956  | 26298373  | 29072015  | 31287142  | 33333216  |\n",
       "| Africa    | Angola    | 3520.610  | 3827.9405 | 4269.2767 | 5522.776  | 5473.288  | 3008.647  | 2756.954  | 2430.208  | ...       |  4826015  |  5247469  |  5894858  |  6162675  |  7016384  |  7874230  |  8735988  |  9875024  | 10866106  | 12420476  |\n",
       "| Africa    | Benin     | 1062.752  |  959.6011 |  949.4991 | 1035.831  | 1085.797  | 1029.161  | 1277.898  | 1225.856  | ...       |  2151895  |  2427334  |  2761407  |  3168267  |  3641603  |  4243788  |  4981671  |  6066080  |  7026113  |  8078314  |\n",
       "\n"
      ],
      "text/plain": [
       "  continent country gdpPercap_1952 gdpPercap_1957 gdpPercap_1962 gdpPercap_1967\n",
       "1 Africa    Algeria 2449.008       3013.9760      2550.8169      3246.992      \n",
       "2 Africa    Angola  3520.610       3827.9405      4269.2767      5522.776      \n",
       "3 Africa    Benin   1062.752        959.6011       949.4991      1035.831      \n",
       "  gdpPercap_1972 gdpPercap_1977 gdpPercap_1982 gdpPercap_1987 ... pop_1962\n",
       "1 4182.664       4910.417       5745.160       5681.359       ... 11000948\n",
       "2 5473.288       3008.647       2756.954       2430.208       ...  4826015\n",
       "3 1085.797       1029.161       1277.898       1225.856       ...  2151895\n",
       "  pop_1967 pop_1972 pop_1977 pop_1982 pop_1987 pop_1992 pop_1997 pop_2002\n",
       "1 12760499 14760787 17152804 20033753 23254956 26298373 29072015 31287142\n",
       "2  5247469  5894858  6162675  7016384  7874230  8735988  9875024 10866106\n",
       "3  2427334  2761407  3168267  3641603  4243788  4981671  6066080  7026113\n",
       "  pop_2007\n",
       "1 33333216\n",
       "2 12420476\n",
       "3  8078314"
      ]
     },
     "metadata": {},
     "output_type": "display_data"
    }
   ],
   "source": [
    "gapminder_wide.csv <- read_csv('data/01/Case Study 1 - Gapminder/gapminder_wide.csv', col_types=cols())\n",
    "print(dim(gapminder_wide.csv))\n",
    "head(gapminder_wide.csv, 3)"
   ]
  },
  {
   "cell_type": "markdown",
   "metadata": {},
   "source": [
    "### Looking more closely at `gapminder_wide.csv`\n",
    "\n",
    "`gapminder_wide.csv` is not in tidy format which requires that:\n",
    "1. Each variable forms a columns\n",
    "1. Each observation forms a row\n",
    "1. Each type of observational unit forms a table\n",
    "\n",
    "So, we need to apply some operations to manipulate the data to get it the same as `gapminder.csv` (1706 x 6) which satisfies the tidy format.\n",
    "\n",
    "First, we need to pivot every column (except continent and country) into a row. We can do this using the `gather()` functions. This gathers the rest of the columns and collapses them into key-value pairs while duplicating all other columns."
   ]
  },
  {
   "cell_type": "code",
   "execution_count": 4,
   "metadata": {},
   "outputs": [
    {
     "name": "stdout",
     "output_type": "stream",
     "text": [
      "[1] 5112    4\n"
     ]
    },
    {
     "data": {
      "text/html": [
       "<table>\n",
       "<thead><tr><th scope=col>continent</th><th scope=col>country</th><th scope=col>key</th><th scope=col>value</th></tr></thead>\n",
       "<tbody>\n",
       "\t<tr><td>Africa        </td><td>Algeria       </td><td>gdpPercap_1952</td><td>2449.008      </td></tr>\n",
       "\t<tr><td>Africa        </td><td>Angola        </td><td>gdpPercap_1952</td><td>3520.610      </td></tr>\n",
       "\t<tr><td>Africa        </td><td>Benin         </td><td>gdpPercap_1952</td><td>1062.752      </td></tr>\n",
       "</tbody>\n",
       "</table>\n"
      ],
      "text/latex": [
       "\\begin{tabular}{r|llll}\n",
       " continent & country & key & value\\\\\n",
       "\\hline\n",
       "\t Africa           & Algeria          & gdpPercap\\_1952 & 2449.008        \\\\\n",
       "\t Africa           & Angola           & gdpPercap\\_1952 & 3520.610        \\\\\n",
       "\t Africa           & Benin            & gdpPercap\\_1952 & 1062.752        \\\\\n",
       "\\end{tabular}\n"
      ],
      "text/markdown": [
       "\n",
       "| continent | country | key | value |\n",
       "|---|---|---|---|\n",
       "| Africa         | Algeria        | gdpPercap_1952 | 2449.008       |\n",
       "| Africa         | Angola         | gdpPercap_1952 | 3520.610       |\n",
       "| Africa         | Benin          | gdpPercap_1952 | 1062.752       |\n",
       "\n"
      ],
      "text/plain": [
       "  continent country key            value   \n",
       "1 Africa    Algeria gdpPercap_1952 2449.008\n",
       "2 Africa    Angola  gdpPercap_1952 3520.610\n",
       "3 Africa    Benin   gdpPercap_1952 1062.752"
      ]
     },
     "metadata": {},
     "output_type": "display_data"
    }
   ],
   "source": [
    "gap_long <- gapminder_wide.csv %>%\n",
    "    gather(key='key', value='value', col=-c(continent, country))\n",
    "print(dim(gap_long))\n",
    "head(gap_long, 3)"
   ]
  },
  {
   "cell_type": "markdown",
   "metadata": {},
   "source": [
    "Next, we need to separate the `key` into `indicator` and `year`."
   ]
  },
  {
   "cell_type": "code",
   "execution_count": 5,
   "metadata": {},
   "outputs": [
    {
     "name": "stdout",
     "output_type": "stream",
     "text": [
      "[1] 5112    5\n"
     ]
    },
    {
     "data": {
      "text/html": [
       "<table>\n",
       "<thead><tr><th scope=col>continent</th><th scope=col>country</th><th scope=col>indicator</th><th scope=col>year</th><th scope=col>value</th></tr></thead>\n",
       "<tbody>\n",
       "\t<tr><td>Africa   </td><td>Algeria  </td><td>gdpPercap</td><td>1952     </td><td>2449.008 </td></tr>\n",
       "\t<tr><td>Africa   </td><td>Angola   </td><td>gdpPercap</td><td>1952     </td><td>3520.610 </td></tr>\n",
       "\t<tr><td>Africa   </td><td>Benin    </td><td>gdpPercap</td><td>1952     </td><td>1062.752 </td></tr>\n",
       "</tbody>\n",
       "</table>\n"
      ],
      "text/latex": [
       "\\begin{tabular}{r|lllll}\n",
       " continent & country & indicator & year & value\\\\\n",
       "\\hline\n",
       "\t Africa    & Algeria   & gdpPercap & 1952      & 2449.008 \\\\\n",
       "\t Africa    & Angola    & gdpPercap & 1952      & 3520.610 \\\\\n",
       "\t Africa    & Benin     & gdpPercap & 1952      & 1062.752 \\\\\n",
       "\\end{tabular}\n"
      ],
      "text/markdown": [
       "\n",
       "| continent | country | indicator | year | value |\n",
       "|---|---|---|---|---|\n",
       "| Africa    | Algeria   | gdpPercap | 1952      | 2449.008  |\n",
       "| Africa    | Angola    | gdpPercap | 1952      | 3520.610  |\n",
       "| Africa    | Benin     | gdpPercap | 1952      | 1062.752  |\n",
       "\n"
      ],
      "text/plain": [
       "  continent country indicator year value   \n",
       "1 Africa    Algeria gdpPercap 1952 2449.008\n",
       "2 Africa    Angola  gdpPercap 1952 3520.610\n",
       "3 Africa    Benin   gdpPercap 1952 1062.752"
      ]
     },
     "metadata": {},
     "output_type": "display_data"
    }
   ],
   "source": [
    "gap_long <- gap_long %>%\n",
    "    separate(col=key, into=c('indicator', 'year'), sep='_')\n",
    "print(dim(gap_long))\n",
    "head(gap_long, 3)"
   ]
  },
  {
   "cell_type": "markdown",
   "metadata": {},
   "source": [
    "Finally, we need to pivot the `indicator` column to become columns (i.e. variables). After this, `gap3` has been manipulated to become the same as `gapminder.csv`. We can also confirm they now have the same dimensions."
   ]
  },
  {
   "cell_type": "code",
   "execution_count": 6,
   "metadata": {},
   "outputs": [
    {
     "name": "stdout",
     "output_type": "stream",
     "text": [
      "[1] 1704    6\n"
     ]
    },
    {
     "data": {
      "text/html": [
       "<table>\n",
       "<thead><tr><th scope=col>continent</th><th scope=col>country</th><th scope=col>year</th><th scope=col>gdpPercap</th><th scope=col>lifeExp</th><th scope=col>pop</th></tr></thead>\n",
       "<tbody>\n",
       "\t<tr><td>Africa  </td><td>Algeria </td><td>1952    </td><td>2449.008</td><td>43.077  </td><td> 9279525</td></tr>\n",
       "\t<tr><td>Africa  </td><td>Algeria </td><td>1957    </td><td>3013.976</td><td>45.685  </td><td>10270856</td></tr>\n",
       "\t<tr><td>Africa  </td><td>Algeria </td><td>1962    </td><td>2550.817</td><td>48.303  </td><td>11000948</td></tr>\n",
       "</tbody>\n",
       "</table>\n"
      ],
      "text/latex": [
       "\\begin{tabular}{r|llllll}\n",
       " continent & country & year & gdpPercap & lifeExp & pop\\\\\n",
       "\\hline\n",
       "\t Africa   & Algeria  & 1952     & 2449.008 & 43.077   &  9279525\\\\\n",
       "\t Africa   & Algeria  & 1957     & 3013.976 & 45.685   & 10270856\\\\\n",
       "\t Africa   & Algeria  & 1962     & 2550.817 & 48.303   & 11000948\\\\\n",
       "\\end{tabular}\n"
      ],
      "text/markdown": [
       "\n",
       "| continent | country | year | gdpPercap | lifeExp | pop |\n",
       "|---|---|---|---|---|---|\n",
       "| Africa   | Algeria  | 1952     | 2449.008 | 43.077   |  9279525 |\n",
       "| Africa   | Algeria  | 1957     | 3013.976 | 45.685   | 10270856 |\n",
       "| Africa   | Algeria  | 1962     | 2550.817 | 48.303   | 11000948 |\n",
       "\n"
      ],
      "text/plain": [
       "  continent country year gdpPercap lifeExp pop     \n",
       "1 Africa    Algeria 1952 2449.008  43.077   9279525\n",
       "2 Africa    Algeria 1957 3013.976  45.685  10270856\n",
       "3 Africa    Algeria 1962 2550.817  48.303  11000948"
      ]
     },
     "metadata": {},
     "output_type": "display_data"
    }
   ],
   "source": [
    "gap_long <- gap_long %>%\n",
    "    spread(key='indicator', value='value')\n",
    "print(dim(gap_long))\n",
    "head(gap_long, 3)"
   ]
  },
  {
   "cell_type": "markdown",
   "metadata": {},
   "source": [
    "Here's an example of how the `unite()` function works. It's pretty self-explanatory."
   ]
  },
  {
   "cell_type": "code",
   "execution_count": 7,
   "metadata": {},
   "outputs": [
    {
     "data": {
      "text/html": [
       "<table>\n",
       "<thead><tr><th scope=col>country_continent</th><th scope=col>year</th><th scope=col>gdpPercap</th><th scope=col>lifeExp</th><th scope=col>pop</th></tr></thead>\n",
       "<tbody>\n",
       "\t<tr><td>Algeria_Africa</td><td>1952          </td><td>2449.008      </td><td>43.077        </td><td> 9279525      </td></tr>\n",
       "\t<tr><td>Algeria_Africa</td><td>1957          </td><td>3013.976      </td><td>45.685        </td><td>10270856      </td></tr>\n",
       "\t<tr><td>Algeria_Africa</td><td>1962          </td><td>2550.817      </td><td>48.303        </td><td>11000948      </td></tr>\n",
       "</tbody>\n",
       "</table>\n"
      ],
      "text/latex": [
       "\\begin{tabular}{r|lllll}\n",
       " country\\_continent & year & gdpPercap & lifeExp & pop\\\\\n",
       "\\hline\n",
       "\t Algeria\\_Africa & 1952             & 2449.008         & 43.077           &  9279525        \\\\\n",
       "\t Algeria\\_Africa & 1957             & 3013.976         & 45.685           & 10270856        \\\\\n",
       "\t Algeria\\_Africa & 1962             & 2550.817         & 48.303           & 11000948        \\\\\n",
       "\\end{tabular}\n"
      ],
      "text/markdown": [
       "\n",
       "| country_continent | year | gdpPercap | lifeExp | pop |\n",
       "|---|---|---|---|---|\n",
       "| Algeria_Africa | 1952           | 2449.008       | 43.077         |  9279525       |\n",
       "| Algeria_Africa | 1957           | 3013.976       | 45.685         | 10270856       |\n",
       "| Algeria_Africa | 1962           | 2550.817       | 48.303         | 11000948       |\n",
       "\n"
      ],
      "text/plain": [
       "  country_continent year gdpPercap lifeExp pop     \n",
       "1 Algeria_Africa    1952 2449.008  43.077   9279525\n",
       "2 Algeria_Africa    1957 3013.976  45.685  10270856\n",
       "3 Algeria_Africa    1962 2550.817  48.303  11000948"
      ]
     },
     "metadata": {},
     "output_type": "display_data"
    }
   ],
   "source": [
    "head(gap_long, 3) %>%\n",
    "    unite(col='country_continent', selected_cols=c(country, continent), sep='_')"
   ]
  },
  {
   "cell_type": "markdown",
   "metadata": {},
   "source": [
    "### Assessing the data"
   ]
  },
  {
   "cell_type": "code",
   "execution_count": 8,
   "metadata": {},
   "outputs": [
    {
     "data": {
      "text/plain": [
       "   country               year           pop             continent        \n",
       " Length:1704        Min.   :1952   Min.   :6.001e+04   Length:1704       \n",
       " Class :character   1st Qu.:1966   1st Qu.:2.794e+06   Class :character  \n",
       " Mode  :character   Median :1980   Median :7.024e+06   Mode  :character  \n",
       "                    Mean   :1980   Mean   :2.960e+07                     \n",
       "                    3rd Qu.:1993   3rd Qu.:1.959e+07                     \n",
       "                    Max.   :2007   Max.   :1.319e+09                     \n",
       "    lifeExp        gdpPercap       \n",
       " Min.   :23.60   Min.   :   241.2  \n",
       " 1st Qu.:48.20   1st Qu.:  1202.1  \n",
       " Median :60.71   Median :  3531.8  \n",
       " Mean   :59.47   Mean   :  7215.3  \n",
       " 3rd Qu.:70.85   3rd Qu.:  9325.5  \n",
       " Max.   :82.60   Max.   :113523.1  "
      ]
     },
     "metadata": {},
     "output_type": "display_data"
    }
   ],
   "source": [
    "summary(gap)"
   ]
  },
  {
   "cell_type": "code",
   "execution_count": 9,
   "metadata": {},
   "outputs": [
    {
     "data": {
      "text/html": [
       "<table>\n",
       "<thead><tr><th></th><th scope=col>vars</th><th scope=col>n</th><th scope=col>mean</th><th scope=col>sd</th><th scope=col>median</th><th scope=col>trimmed</th><th scope=col>mad</th><th scope=col>min</th><th scope=col>max</th><th scope=col>range</th><th scope=col>skew</th><th scope=col>kurtosis</th><th scope=col>se</th></tr></thead>\n",
       "<tbody>\n",
       "\t<tr><th scope=row>year</th><td>1           </td><td>1704        </td><td>1.979500e+03</td><td>1.726533e+01</td><td>   1979.5000</td><td>1.979500e+03</td><td>2.223900e+01</td><td> 1952.0000  </td><td>2.007000e+03</td><td>5.500000e+01</td><td> 0.0000000  </td><td>-1.218876   </td><td>4.182540e-01</td></tr>\n",
       "\t<tr><th scope=row>pop</th><td>2           </td><td>1704        </td><td>2.960121e+07</td><td>1.061579e+08</td><td>7023595.5000</td><td>1.139946e+07</td><td>7.841474e+06</td><td>60011.0000  </td><td>1.318683e+09</td><td>1.318623e+09</td><td> 8.3255400  </td><td>77.621441   </td><td>2.571683e+06</td></tr>\n",
       "\t<tr><th scope=row>lifeExp</th><td>3           </td><td>1704        </td><td>5.947444e+01</td><td>1.291711e+01</td><td>     60.7125</td><td>5.991524e+01</td><td>1.610104e+01</td><td>   23.5990  </td><td>8.260300e+01</td><td>5.900400e+01</td><td>-0.2522575  </td><td>-1.129098   </td><td>3.129179e-01</td></tr>\n",
       "\t<tr><th scope=row>gdpPercap</th><td>4           </td><td>1704        </td><td>7.215327e+03</td><td>9.857455e+03</td><td>   3531.8470</td><td>5.221443e+03</td><td>4.007608e+03</td><td>  241.1659  </td><td>1.135231e+05</td><td>1.132820e+05</td><td> 3.8434960  </td><td>27.395995   </td><td>2.387976e+02</td></tr>\n",
       "</tbody>\n",
       "</table>\n"
      ],
      "text/latex": [
       "\\begin{tabular}{r|lllllllllllll}\n",
       "  & vars & n & mean & sd & median & trimmed & mad & min & max & range & skew & kurtosis & se\\\\\n",
       "\\hline\n",
       "\tyear & 1            & 1704         & 1.979500e+03 & 1.726533e+01 &    1979.5000 & 1.979500e+03 & 2.223900e+01 &  1952.0000   & 2.007000e+03 & 5.500000e+01 &  0.0000000   & -1.218876    & 4.182540e-01\\\\\n",
       "\tpop & 2            & 1704         & 2.960121e+07 & 1.061579e+08 & 7023595.5000 & 1.139946e+07 & 7.841474e+06 & 60011.0000   & 1.318683e+09 & 1.318623e+09 &  8.3255400   & 77.621441    & 2.571683e+06\\\\\n",
       "\tlifeExp & 3            & 1704         & 5.947444e+01 & 1.291711e+01 &      60.7125 & 5.991524e+01 & 1.610104e+01 &    23.5990   & 8.260300e+01 & 5.900400e+01 & -0.2522575   & -1.129098    & 3.129179e-01\\\\\n",
       "\tgdpPercap & 4            & 1704         & 7.215327e+03 & 9.857455e+03 &    3531.8470 & 5.221443e+03 & 4.007608e+03 &   241.1659   & 1.135231e+05 & 1.132820e+05 &  3.8434960   & 27.395995    & 2.387976e+02\\\\\n",
       "\\end{tabular}\n"
      ],
      "text/markdown": [
       "\n",
       "| <!--/--> | vars | n | mean | sd | median | trimmed | mad | min | max | range | skew | kurtosis | se |\n",
       "|---|---|---|---|---|---|---|---|---|---|---|---|---|---|\n",
       "| year | 1            | 1704         | 1.979500e+03 | 1.726533e+01 |    1979.5000 | 1.979500e+03 | 2.223900e+01 |  1952.0000   | 2.007000e+03 | 5.500000e+01 |  0.0000000   | -1.218876    | 4.182540e-01 |\n",
       "| pop | 2            | 1704         | 2.960121e+07 | 1.061579e+08 | 7023595.5000 | 1.139946e+07 | 7.841474e+06 | 60011.0000   | 1.318683e+09 | 1.318623e+09 |  8.3255400   | 77.621441    | 2.571683e+06 |\n",
       "| lifeExp | 3            | 1704         | 5.947444e+01 | 1.291711e+01 |      60.7125 | 5.991524e+01 | 1.610104e+01 |    23.5990   | 8.260300e+01 | 5.900400e+01 | -0.2522575   | -1.129098    | 3.129179e-01 |\n",
       "| gdpPercap | 4            | 1704         | 7.215327e+03 | 9.857455e+03 |    3531.8470 | 5.221443e+03 | 4.007608e+03 |   241.1659   | 1.135231e+05 | 1.132820e+05 |  3.8434960   | 27.395995    | 2.387976e+02 |\n",
       "\n"
      ],
      "text/plain": [
       "          vars n    mean         sd           median       trimmed     \n",
       "year      1    1704 1.979500e+03 1.726533e+01    1979.5000 1.979500e+03\n",
       "pop       2    1704 2.960121e+07 1.061579e+08 7023595.5000 1.139946e+07\n",
       "lifeExp   3    1704 5.947444e+01 1.291711e+01      60.7125 5.991524e+01\n",
       "gdpPercap 4    1704 7.215327e+03 9.857455e+03    3531.8470 5.221443e+03\n",
       "          mad          min        max          range        skew      \n",
       "year      2.223900e+01  1952.0000 2.007000e+03 5.500000e+01  0.0000000\n",
       "pop       7.841474e+06 60011.0000 1.318683e+09 1.318623e+09  8.3255400\n",
       "lifeExp   1.610104e+01    23.5990 8.260300e+01 5.900400e+01 -0.2522575\n",
       "gdpPercap 4.007608e+03   241.1659 1.135231e+05 1.132820e+05  3.8434960\n",
       "          kurtosis  se          \n",
       "year      -1.218876 4.182540e-01\n",
       "pop       77.621441 2.571683e+06\n",
       "lifeExp   -1.129098 3.129179e-01\n",
       "gdpPercap 27.395995 2.387976e+02"
      ]
     },
     "metadata": {},
     "output_type": "display_data"
    }
   ],
   "source": [
    "cols <- c('year', 'pop', 'lifeExp', 'gdpPercap')\n",
    "describe(gap[,cols])"
   ]
  },
  {
   "cell_type": "code",
   "execution_count": 10,
   "metadata": {},
   "outputs": [
    {
     "name": "stdout",
     "output_type": "stream",
     "text": [
      "Classes 'spec_tbl_df', 'tbl_df', 'tbl' and 'data.frame':\t1704 obs. of  6 variables:\n",
      " $ country  : chr  \"Afghanistan\" \"Afghanistan\" \"Afghanistan\" \"Afghanistan\" ...\n",
      " $ year     : num  1952 1957 1962 1967 1972 ...\n",
      " $ pop      : num  8425333 9240934 10267083 11537966 13079460 ...\n",
      " $ continent: chr  \"Asia\" \"Asia\" \"Asia\" \"Asia\" ...\n",
      " $ lifeExp  : num  28.8 30.3 32 34 36.1 ...\n",
      " $ gdpPercap: num  779 821 853 836 740 ...\n",
      " - attr(*, \"spec\")=\n",
      "  .. cols(\n",
      "  ..   country = \u001b[31mcol_character()\u001b[39m,\n",
      "  ..   year = \u001b[32mcol_double()\u001b[39m,\n",
      "  ..   pop = \u001b[32mcol_double()\u001b[39m,\n",
      "  ..   continent = \u001b[31mcol_character()\u001b[39m,\n",
      "  ..   lifeExp = \u001b[32mcol_double()\u001b[39m,\n",
      "  ..   gdpPercap = \u001b[32mcol_double()\u001b[39m\n",
      "  .. )\n"
     ]
    }
   ],
   "source": [
    "str(gap) # Structure of the data"
   ]
  },
  {
   "cell_type": "code",
   "execution_count": 11,
   "metadata": {},
   "outputs": [
    {
     "name": "stdout",
     "output_type": "stream",
     "text": [
      "Observations: 1,704\n",
      "Variables: 6\n",
      "$ country   \u001b[3m\u001b[38;5;246m<chr>\u001b[39m\u001b[23m \"Afghanistan\", \"Afghanistan\", \"Afghanistan\", \"Afghanistan...\n",
      "$ year      \u001b[3m\u001b[38;5;246m<dbl>\u001b[39m\u001b[23m 1952, 1957, 1962, 1967, 1972, 1977, 1982, 1987, 1992, 199...\n",
      "$ pop       \u001b[3m\u001b[38;5;246m<dbl>\u001b[39m\u001b[23m 8425333, 9240934, 10267083, 11537966, 13079460, 14880372,...\n",
      "$ continent \u001b[3m\u001b[38;5;246m<chr>\u001b[39m\u001b[23m \"Asia\", \"Asia\", \"Asia\", \"Asia\", \"Asia\", \"Asia\", \"Asia\", \"...\n",
      "$ lifeExp   \u001b[3m\u001b[38;5;246m<dbl>\u001b[39m\u001b[23m 28.801, 30.332, 31.997, 34.020, 36.088, 38.438, 39.854, 4...\n",
      "$ gdpPercap \u001b[3m\u001b[38;5;246m<dbl>\u001b[39m\u001b[23m 779.4453, 820.8530, 853.1007, 836.1971, 739.9811, 786.113...\n"
     ]
    }
   ],
   "source": [
    "glimpse(gap) # Cleaner version of str"
   ]
  },
  {
   "cell_type": "code",
   "execution_count": 12,
   "metadata": {},
   "outputs": [
    {
     "data": {
      "text/html": [
       "'character'"
      ],
      "text/latex": [
       "'character'"
      ],
      "text/markdown": [
       "'character'"
      ],
      "text/plain": [
       "[1] \"character\""
      ]
     },
     "metadata": {},
     "output_type": "display_data"
    }
   ],
   "source": [
    "class(gap$country) # Class of the vector"
   ]
  },
  {
   "cell_type": "code",
   "execution_count": 13,
   "metadata": {},
   "outputs": [
    {
     "data": {
      "text/html": [
       "<ol class=list-inline>\n",
       "\t<li>'Asia'</li>\n",
       "\t<li>'Europe'</li>\n",
       "\t<li>'Africa'</li>\n",
       "\t<li>'Americas'</li>\n",
       "\t<li>'Oceania'</li>\n",
       "</ol>\n"
      ],
      "text/latex": [
       "\\begin{enumerate*}\n",
       "\\item 'Asia'\n",
       "\\item 'Europe'\n",
       "\\item 'Africa'\n",
       "\\item 'Americas'\n",
       "\\item 'Oceania'\n",
       "\\end{enumerate*}\n"
      ],
      "text/markdown": [
       "1. 'Asia'\n",
       "2. 'Europe'\n",
       "3. 'Africa'\n",
       "4. 'Americas'\n",
       "5. 'Oceania'\n",
       "\n",
       "\n"
      ],
      "text/plain": [
       "[1] \"Asia\"     \"Europe\"   \"Africa\"   \"Americas\" \"Oceania\" "
      ]
     },
     "metadata": {},
     "output_type": "display_data"
    }
   ],
   "source": [
    "unique(gap$continent)"
   ]
  },
  {
   "cell_type": "code",
   "execution_count": 14,
   "metadata": {},
   "outputs": [
    {
     "data": {
      "text/plain": [
       "\n",
       "  Africa Americas     Asia   Europe  Oceania \n",
       "     624      300      396      360       24 "
      ]
     },
     "metadata": {},
     "output_type": "display_data"
    }
   ],
   "source": [
    "table(gap$continent) # Think cross-tabs in SPSS"
   ]
  },
  {
   "cell_type": "code",
   "execution_count": 15,
   "metadata": {},
   "outputs": [
    {
     "data": {
      "text/plain": [
       "\n",
       "    Africa   Americas       Asia     Europe    Oceania \n",
       "0.36619718 0.17605634 0.23239437 0.21126761 0.01408451 "
      ]
     },
     "metadata": {},
     "output_type": "display_data"
    }
   ],
   "source": [
    "prop.table(table(gap$continent)) # Proportions"
   ]
  },
  {
   "cell_type": "code",
   "execution_count": 16,
   "metadata": {},
   "outputs": [
    {
     "data": {
      "text/html": [
       "<table>\n",
       "<thead><tr><th></th><th scope=col>year</th><th scope=col>pop</th><th scope=col>lifeExp</th><th scope=col>gdpPercap</th></tr></thead>\n",
       "<tbody>\n",
       "\t<tr><th scope=row>year</th><td>1.00000000 </td><td> 0.08230808</td><td>0.43561122 </td><td> 0.22731807</td></tr>\n",
       "\t<tr><th scope=row>pop</th><td>0.08230808 </td><td> 1.00000000</td><td>0.06495537 </td><td>-0.02559958</td></tr>\n",
       "\t<tr><th scope=row>lifeExp</th><td>0.43561122 </td><td> 0.06495537</td><td>1.00000000 </td><td> 0.58370622</td></tr>\n",
       "\t<tr><th scope=row>gdpPercap</th><td>0.22731807 </td><td>-0.02559958</td><td>0.58370622 </td><td> 1.00000000</td></tr>\n",
       "</tbody>\n",
       "</table>\n"
      ],
      "text/latex": [
       "\\begin{tabular}{r|llll}\n",
       "  & year & pop & lifeExp & gdpPercap\\\\\n",
       "\\hline\n",
       "\tyear & 1.00000000  &  0.08230808 & 0.43561122  &  0.22731807\\\\\n",
       "\tpop & 0.08230808  &  1.00000000 & 0.06495537  & -0.02559958\\\\\n",
       "\tlifeExp & 0.43561122  &  0.06495537 & 1.00000000  &  0.58370622\\\\\n",
       "\tgdpPercap & 0.22731807  & -0.02559958 & 0.58370622  &  1.00000000\\\\\n",
       "\\end{tabular}\n"
      ],
      "text/markdown": [
       "\n",
       "| <!--/--> | year | pop | lifeExp | gdpPercap |\n",
       "|---|---|---|---|---|\n",
       "| year | 1.00000000  |  0.08230808 | 0.43561122  |  0.22731807 |\n",
       "| pop | 0.08230808  |  1.00000000 | 0.06495537  | -0.02559958 |\n",
       "| lifeExp | 0.43561122  |  0.06495537 | 1.00000000  |  0.58370622 |\n",
       "| gdpPercap | 0.22731807  | -0.02559958 | 0.58370622  |  1.00000000 |\n",
       "\n"
      ],
      "text/plain": [
       "          year       pop         lifeExp    gdpPercap  \n",
       "year      1.00000000  0.08230808 0.43561122  0.22731807\n",
       "pop       0.08230808  1.00000000 0.06495537 -0.02559958\n",
       "lifeExp   0.43561122  0.06495537 1.00000000  0.58370622\n",
       "gdpPercap 0.22731807 -0.02559958 0.58370622  1.00000000"
      ]
     },
     "metadata": {},
     "output_type": "display_data"
    }
   ],
   "source": [
    "cor(gap[,cols], use='pairwise.complete.obs') # Correlation matrix\n",
    "# use='pairwise.complete.obs' will only look at complete observations (ignoring NA)"
   ]
  },
  {
   "cell_type": "markdown",
   "metadata": {},
   "source": [
    "## Practice Questions\n",
    "\n",
    "### Question 1\n",
    "\n",
    "Reshape the dataset to tidy form and convert the necessary variables to numeric."
   ]
  },
  {
   "cell_type": "code",
   "execution_count": 17,
   "metadata": {},
   "outputs": [
    {
     "data": {
      "text/html": [
       "<table>\n",
       "<thead><tr><th scope=col>country</th><th scope=col>1960</th><th scope=col>1961</th><th scope=col>1962</th><th scope=col>1963</th><th scope=col>1964</th><th scope=col>1965</th><th scope=col>1966</th><th scope=col>1967</th><th scope=col>1968</th><th scope=col>...</th><th scope=col>2006</th><th scope=col>2007</th><th scope=col>2008</th><th scope=col>2009</th><th scope=col>2010</th><th scope=col>2011</th><th scope=col>2012</th><th scope=col>2013</th><th scope=col>2014</th><th scope=col>2015</th></tr></thead>\n",
       "<tbody>\n",
       "\t<tr><td>Germany    </td><td>2.41       </td><td>2.44       </td><td>2.47       </td><td>2.49       </td><td>2.49       </td><td>2.48       </td><td>2.44       </td><td>2.37       </td><td>2.28       </td><td>...        </td><td>1.36       </td><td>1.36       </td><td>1.37       </td><td>1.38       </td><td>1.39       </td><td>1.40       </td><td>1.41       </td><td>1.42       </td><td>1.43       </td><td>1.44       </td></tr>\n",
       "\t<tr><td>South Korea</td><td>6.16       </td><td>5.99       </td><td>5.79       </td><td>5.57       </td><td>5.36       </td><td>5.16       </td><td>4.99       </td><td>4.85       </td><td>4.73       </td><td>...        </td><td>1.20       </td><td>1.21       </td><td>1.23       </td><td>1.25       </td><td>1.27       </td><td>1.29       </td><td>1.30       </td><td>1.32       </td><td>1.34       </td><td>1.36       </td></tr>\n",
       "</tbody>\n",
       "</table>\n"
      ],
      "text/latex": [
       "\\begin{tabular}{r|lllllllllllllllllllllllllllllllllllllllllllllllllllllllll}\n",
       " country & 1960 & 1961 & 1962 & 1963 & 1964 & 1965 & 1966 & 1967 & 1968 & ... & 2006 & 2007 & 2008 & 2009 & 2010 & 2011 & 2012 & 2013 & 2014 & 2015\\\\\n",
       "\\hline\n",
       "\t Germany     & 2.41        & 2.44        & 2.47        & 2.49        & 2.49        & 2.48        & 2.44        & 2.37        & 2.28        & ...         & 1.36        & 1.36        & 1.37        & 1.38        & 1.39        & 1.40        & 1.41        & 1.42        & 1.43        & 1.44       \\\\\n",
       "\t South Korea & 6.16        & 5.99        & 5.79        & 5.57        & 5.36        & 5.16        & 4.99        & 4.85        & 4.73        & ...         & 1.20        & 1.21        & 1.23        & 1.25        & 1.27        & 1.29        & 1.30        & 1.32        & 1.34        & 1.36       \\\\\n",
       "\\end{tabular}\n"
      ],
      "text/markdown": [
       "\n",
       "| country | 1960 | 1961 | 1962 | 1963 | 1964 | 1965 | 1966 | 1967 | 1968 | ... | 2006 | 2007 | 2008 | 2009 | 2010 | 2011 | 2012 | 2013 | 2014 | 2015 |\n",
       "|---|---|---|---|---|---|---|---|---|---|---|---|---|---|---|---|---|---|---|---|---|\n",
       "| Germany     | 2.41        | 2.44        | 2.47        | 2.49        | 2.49        | 2.48        | 2.44        | 2.37        | 2.28        | ...         | 1.36        | 1.36        | 1.37        | 1.38        | 1.39        | 1.40        | 1.41        | 1.42        | 1.43        | 1.44        |\n",
       "| South Korea | 6.16        | 5.99        | 5.79        | 5.57        | 5.36        | 5.16        | 4.99        | 4.85        | 4.73        | ...         | 1.20        | 1.21        | 1.23        | 1.25        | 1.27        | 1.29        | 1.30        | 1.32        | 1.34        | 1.36        |\n",
       "\n"
      ],
      "text/plain": [
       "  country     1960 1961 1962 1963 1964 1965 1966 1967 1968 ... 2006 2007 2008\n",
       "1 Germany     2.41 2.44 2.47 2.49 2.49 2.48 2.44 2.37 2.28 ... 1.36 1.36 1.37\n",
       "2 South Korea 6.16 5.99 5.79 5.57 5.36 5.16 4.99 4.85 4.73 ... 1.20 1.21 1.23\n",
       "  2009 2010 2011 2012 2013 2014 2015\n",
       "1 1.38 1.39 1.40 1.41 1.42 1.43 1.44\n",
       "2 1.25 1.27 1.29 1.30 1.32 1.34 1.36"
      ]
     },
     "metadata": {},
     "output_type": "display_data"
    }
   ],
   "source": [
    "fertility <- read_csv('data/03/fertility_two_countries.csv', col_types=cols())\n",
    "fertility"
   ]
  },
  {
   "cell_type": "code",
   "execution_count": 18,
   "metadata": {},
   "outputs": [
    {
     "data": {
      "text/html": [
       "<table>\n",
       "<thead><tr><th scope=col>year</th><th scope=col>Germany</th><th scope=col>South Korea</th></tr></thead>\n",
       "<tbody>\n",
       "\t<tr><td>1960</td><td>2.41</td><td>6.16</td></tr>\n",
       "\t<tr><td>1961</td><td>2.44</td><td>5.99</td></tr>\n",
       "\t<tr><td>1962</td><td>2.47</td><td>5.79</td></tr>\n",
       "</tbody>\n",
       "</table>\n"
      ],
      "text/latex": [
       "\\begin{tabular}{r|lll}\n",
       " year & Germany & South Korea\\\\\n",
       "\\hline\n",
       "\t 1960 & 2.41 & 6.16\\\\\n",
       "\t 1961 & 2.44 & 5.99\\\\\n",
       "\t 1962 & 2.47 & 5.79\\\\\n",
       "\\end{tabular}\n"
      ],
      "text/markdown": [
       "\n",
       "| year | Germany | South Korea |\n",
       "|---|---|---|\n",
       "| 1960 | 2.41 | 6.16 |\n",
       "| 1961 | 2.44 | 5.99 |\n",
       "| 1962 | 2.47 | 5.79 |\n",
       "\n"
      ],
      "text/plain": [
       "  year Germany South Korea\n",
       "1 1960 2.41    6.16       \n",
       "2 1961 2.44    5.99       \n",
       "3 1962 2.47    5.79       "
      ]
     },
     "metadata": {},
     "output_type": "display_data"
    }
   ],
   "source": [
    "tidyFertility <- fertility %>%\n",
    "    gather(key='year', value='value', selected_cols=-country) %>%\n",
    "    spread(key='country', value='value')\n",
    "head(tidyFertility, 3)"
   ]
  },
  {
   "cell_type": "markdown",
   "metadata": {},
   "source": [
    "Now, that we've restructured the data, let's take a look at its structure."
   ]
  },
  {
   "cell_type": "code",
   "execution_count": 19,
   "metadata": {},
   "outputs": [
    {
     "name": "stdout",
     "output_type": "stream",
     "text": [
      "Observations: 56\n",
      "Variables: 3\n",
      "$ year          \u001b[3m\u001b[38;5;246m<chr>\u001b[39m\u001b[23m \"1960\", \"1961\", \"1962\", \"1963\", \"1964\", \"1965\", \"1966...\n",
      "$ Germany       \u001b[3m\u001b[38;5;246m<dbl>\u001b[39m\u001b[23m 2.41, 2.44, 2.47, 2.49, 2.49, 2.48, 2.44, 2.37, 2.28,...\n",
      "$ `South Korea` \u001b[3m\u001b[38;5;246m<dbl>\u001b[39m\u001b[23m 6.16, 5.99, 5.79, 5.57, 5.36, 5.16, 4.99, 4.85, 4.73,...\n"
     ]
    }
   ],
   "source": [
    "glimpse(tidyFertility)"
   ]
  },
  {
   "cell_type": "markdown",
   "metadata": {},
   "source": [
    "We notice that `year` is a character vector, so we need to convert that to numeric."
   ]
  },
  {
   "cell_type": "code",
   "execution_count": 20,
   "metadata": {},
   "outputs": [
    {
     "name": "stdout",
     "output_type": "stream",
     "text": [
      "Observations: 56\n",
      "Variables: 3\n",
      "$ year          \u001b[3m\u001b[38;5;246m<dbl>\u001b[39m\u001b[23m 1960, 1961, 1962, 1963, 1964, 1965, 1966, 1967, 1968,...\n",
      "$ Germany       \u001b[3m\u001b[38;5;246m<dbl>\u001b[39m\u001b[23m 2.41, 2.44, 2.47, 2.49, 2.49, 2.48, 2.44, 2.37, 2.28,...\n",
      "$ `South Korea` \u001b[3m\u001b[38;5;246m<dbl>\u001b[39m\u001b[23m 6.16, 5.99, 5.79, 5.57, 5.36, 5.16, 4.99, 4.85, 4.73,...\n"
     ]
    }
   ],
   "source": [
    "tidyFertility$year = as.numeric(tidyFertility$year)\n",
    "glimpse(tidyFertility)"
   ]
  },
  {
   "cell_type": "markdown",
   "metadata": {},
   "source": [
    "### Question 2"
   ]
  },
  {
   "cell_type": "code",
   "execution_count": 21,
   "metadata": {},
   "outputs": [
    {
     "data": {
      "text/html": [
       "<table>\n",
       "<thead><tr><th scope=col>country</th><th scope=col>1960_fertility</th><th scope=col>1960_life_expectancy</th><th scope=col>1961_fertility</th><th scope=col>1961_life_expectancy</th><th scope=col>1962_fertility</th><th scope=col>1962_life_expectancy</th><th scope=col>1963_fertility</th><th scope=col>1963_life_expectancy</th><th scope=col>1964_fertility</th><th scope=col>...</th><th scope=col>2011_fertility</th><th scope=col>2011_life_expectancy</th><th scope=col>2012_fertility</th><th scope=col>2012_life_expectancy</th><th scope=col>2013_fertility</th><th scope=col>2013_life_expectancy</th><th scope=col>2014_fertility</th><th scope=col>2014_life_expectancy</th><th scope=col>2015_fertility</th><th scope=col>2015_life_expectancy</th></tr></thead>\n",
       "<tbody>\n",
       "\t<tr><td>Germany    </td><td>2.41       </td><td>69.26      </td><td>2.44       </td><td>69.85      </td><td>2.47       </td><td>70.01      </td><td>2.49       </td><td>70.10      </td><td>2.49       </td><td>...        </td><td>1.40       </td><td>80.5       </td><td>1.41       </td><td>80.6       </td><td>1.42       </td><td>80.7       </td><td>1.43       </td><td>80.7       </td><td>1.44       </td><td>80.8       </td></tr>\n",
       "\t<tr><td>South Korea</td><td>6.16       </td><td>53.02      </td><td>5.99       </td><td>53.75      </td><td>5.79       </td><td>54.51      </td><td>5.57       </td><td>55.27      </td><td>5.36       </td><td>...        </td><td>1.29       </td><td>80.6       </td><td>1.30       </td><td>80.7       </td><td>1.32       </td><td>80.9       </td><td>1.34       </td><td>80.9       </td><td>1.36       </td><td>81.0       </td></tr>\n",
       "</tbody>\n",
       "</table>\n"
      ],
      "text/latex": [
       "\\begin{tabular}{r|lllllllllllllllllllllllllllllllllllllllllllllllllllllllllllllllllllllllllllllllllllllllllllllllllllllllllllllllll}\n",
       " country & 1960\\_fertility & 1960\\_life\\_expectancy & 1961\\_fertility & 1961\\_life\\_expectancy & 1962\\_fertility & 1962\\_life\\_expectancy & 1963\\_fertility & 1963\\_life\\_expectancy & 1964\\_fertility & ... & 2011\\_fertility & 2011\\_life\\_expectancy & 2012\\_fertility & 2012\\_life\\_expectancy & 2013\\_fertility & 2013\\_life\\_expectancy & 2014\\_fertility & 2014\\_life\\_expectancy & 2015\\_fertility & 2015\\_life\\_expectancy\\\\\n",
       "\\hline\n",
       "\t Germany     & 2.41        & 69.26       & 2.44        & 69.85       & 2.47        & 70.01       & 2.49        & 70.10       & 2.49        & ...         & 1.40        & 80.5        & 1.41        & 80.6        & 1.42        & 80.7        & 1.43        & 80.7        & 1.44        & 80.8       \\\\\n",
       "\t South Korea & 6.16        & 53.02       & 5.99        & 53.75       & 5.79        & 54.51       & 5.57        & 55.27       & 5.36        & ...         & 1.29        & 80.6        & 1.30        & 80.7        & 1.32        & 80.9        & 1.34        & 80.9        & 1.36        & 81.0       \\\\\n",
       "\\end{tabular}\n"
      ],
      "text/markdown": [
       "\n",
       "| country | 1960_fertility | 1960_life_expectancy | 1961_fertility | 1961_life_expectancy | 1962_fertility | 1962_life_expectancy | 1963_fertility | 1963_life_expectancy | 1964_fertility | ... | 2011_fertility | 2011_life_expectancy | 2012_fertility | 2012_life_expectancy | 2013_fertility | 2013_life_expectancy | 2014_fertility | 2014_life_expectancy | 2015_fertility | 2015_life_expectancy |\n",
       "|---|---|---|---|---|---|---|---|---|---|---|---|---|---|---|---|---|---|---|---|---|\n",
       "| Germany     | 2.41        | 69.26       | 2.44        | 69.85       | 2.47        | 70.01       | 2.49        | 70.10       | 2.49        | ...         | 1.40        | 80.5        | 1.41        | 80.6        | 1.42        | 80.7        | 1.43        | 80.7        | 1.44        | 80.8        |\n",
       "| South Korea | 6.16        | 53.02       | 5.99        | 53.75       | 5.79        | 54.51       | 5.57        | 55.27       | 5.36        | ...         | 1.29        | 80.6        | 1.30        | 80.7        | 1.32        | 80.9        | 1.34        | 80.9        | 1.36        | 81.0        |\n",
       "\n"
      ],
      "text/plain": [
       "  country     1960_fertility 1960_life_expectancy 1961_fertility\n",
       "1 Germany     2.41           69.26                2.44          \n",
       "2 South Korea 6.16           53.02                5.99          \n",
       "  1961_life_expectancy 1962_fertility 1962_life_expectancy 1963_fertility\n",
       "1 69.85                2.47           70.01                2.49          \n",
       "2 53.75                5.79           54.51                5.57          \n",
       "  1963_life_expectancy 1964_fertility ... 2011_fertility 2011_life_expectancy\n",
       "1 70.10                2.49           ... 1.40           80.5                \n",
       "2 55.27                5.36           ... 1.29           80.6                \n",
       "  2012_fertility 2012_life_expectancy 2013_fertility 2013_life_expectancy\n",
       "1 1.41           80.6                 1.42           80.7                \n",
       "2 1.30           80.7                 1.32           80.9                \n",
       "  2014_fertility 2014_life_expectancy 2015_fertility 2015_life_expectancy\n",
       "1 1.43           80.7                 1.44           80.8                \n",
       "2 1.34           80.9                 1.36           81.0                "
      ]
     },
     "metadata": {},
     "output_type": "display_data"
    }
   ],
   "source": [
    "lifeExp <- read_csv('data/03/life_expectancy_and_fertility.csv', col_types=cols())\n",
    "head(lifeExp, 3)"
   ]
  },
  {
   "cell_type": "markdown",
   "metadata": {},
   "source": [
    "Similarly, we reshape the data into tidy form."
   ]
  },
  {
   "cell_type": "code",
   "execution_count": 22,
   "metadata": {},
   "outputs": [
    {
     "data": {
      "text/html": [
       "<table>\n",
       "<thead><tr><th scope=col>country</th><th scope=col>year</th><th scope=col>fertility</th><th scope=col>life_expectancy</th></tr></thead>\n",
       "<tbody>\n",
       "\t<tr><td>Germany</td><td>1960   </td><td>2.41   </td><td>69.26  </td></tr>\n",
       "\t<tr><td>Germany</td><td>1961   </td><td>2.44   </td><td>69.85  </td></tr>\n",
       "\t<tr><td>Germany</td><td>1962   </td><td>2.47   </td><td>70.01  </td></tr>\n",
       "</tbody>\n",
       "</table>\n"
      ],
      "text/latex": [
       "\\begin{tabular}{r|llll}\n",
       " country & year & fertility & life\\_expectancy\\\\\n",
       "\\hline\n",
       "\t Germany & 1960    & 2.41    & 69.26  \\\\\n",
       "\t Germany & 1961    & 2.44    & 69.85  \\\\\n",
       "\t Germany & 1962    & 2.47    & 70.01  \\\\\n",
       "\\end{tabular}\n"
      ],
      "text/markdown": [
       "\n",
       "| country | year | fertility | life_expectancy |\n",
       "|---|---|---|---|\n",
       "| Germany | 1960    | 2.41    | 69.26   |\n",
       "| Germany | 1961    | 2.44    | 69.85   |\n",
       "| Germany | 1962    | 2.47    | 70.01   |\n",
       "\n"
      ],
      "text/plain": [
       "  country year fertility life_expectancy\n",
       "1 Germany 1960 2.41      69.26          \n",
       "2 Germany 1961 2.44      69.85          \n",
       "3 Germany 1962 2.47      70.01          "
      ]
     },
     "metadata": {},
     "output_type": "display_data"
    }
   ],
   "source": [
    "tidyLifeExp <- lifeExp %>%\n",
    "    gather(key='key', value='value', selected_cols=-country) %>%\n",
    "    separate(col='key', into=c('year', 'indicator'), extra='merge') %>%\n",
    "    spread(key='indicator', value='value')\n",
    "head(tidyLifeExp, 3)"
   ]
  },
  {
   "cell_type": "markdown",
   "metadata": {},
   "source": [
    "### Question 3"
   ]
  },
  {
   "cell_type": "markdown",
   "metadata": {},
   "source": [
    "Using the `gapminder.csv` and `gapminder_wide.csv`, check that the resulting total sums of columns: `pop`, `lifeExp`, and `gdpPercap` are the same."
   ]
  },
  {
   "cell_type": "code",
   "execution_count": 23,
   "metadata": {},
   "outputs": [
    {
     "data": {
      "text/html": [
       "'Difference between pop: 0'"
      ],
      "text/latex": [
       "'Difference between pop: 0'"
      ],
      "text/markdown": [
       "'Difference between pop: 0'"
      ],
      "text/plain": [
       "[1] \"Difference between pop: 0\""
      ]
     },
     "metadata": {},
     "output_type": "display_data"
    },
    {
     "data": {
      "text/html": [
       "'Difference between lifeExp: 0'"
      ],
      "text/latex": [
       "'Difference between lifeExp: 0'"
      ],
      "text/markdown": [
       "'Difference between lifeExp: 0'"
      ],
      "text/plain": [
       "[1] \"Difference between lifeExp: 0\""
      ]
     },
     "metadata": {},
     "output_type": "display_data"
    },
    {
     "data": {
      "text/html": [
       "'Difference between gdpPercap: 0'"
      ],
      "text/latex": [
       "'Difference between gdpPercap: 0'"
      ],
      "text/markdown": [
       "'Difference between gdpPercap: 0'"
      ],
      "text/plain": [
       "[1] \"Difference between gdpPercap: 0\""
      ]
     },
     "metadata": {},
     "output_type": "display_data"
    }
   ],
   "source": [
    "paste('Difference between pop:', sum(gap$pop) - sum(gap_long$pop))\n",
    "paste('Difference between lifeExp:', sum(gap$lifeExp) - sum(gap_long$lifeExp))\n",
    "paste('Difference between gdpPercap:', sum(gap$gdpPercap) - sum(gap_long$gdpPercap))"
   ]
  },
  {
   "cell_type": "markdown",
   "metadata": {},
   "source": [
    "### Question 4"
   ]
  },
  {
   "cell_type": "code",
   "execution_count": 24,
   "metadata": {},
   "outputs": [
    {
     "name": "stdout",
     "output_type": "stream",
     "text": [
      "Observations: 1,704\n",
      "Variables: 6\n",
      "$ country   \u001b[3m\u001b[38;5;246m<chr>\u001b[39m\u001b[23m \"Afghanistan\", \"Afghanistan\", \"Afghanistan\", \"Afghanistan...\n",
      "$ year      \u001b[3m\u001b[38;5;246m<dbl>\u001b[39m\u001b[23m 1952, 1957, 1962, 1967, 1972, 1977, 1982, 1987, 1992, 199...\n",
      "$ pop       \u001b[3m\u001b[38;5;246m<dbl>\u001b[39m\u001b[23m 8425333, 9240934, 10267083, 11537966, 13079460, 14880372,...\n",
      "$ continent \u001b[3m\u001b[38;5;246m<chr>\u001b[39m\u001b[23m \"Asia\", \"Asia\", \"Asia\", \"Asia\", \"Asia\", \"Asia\", \"Asia\", \"...\n",
      "$ lifeExp   \u001b[3m\u001b[38;5;246m<dbl>\u001b[39m\u001b[23m 28.801, 30.332, 31.997, 34.020, 36.088, 38.438, 39.854, 4...\n",
      "$ gdpPercap \u001b[3m\u001b[38;5;246m<dbl>\u001b[39m\u001b[23m 779.4453, 820.8530, 853.1007, 836.1971, 739.9811, 786.113...\n"
     ]
    }
   ],
   "source": [
    "glimpse(gap)"
   ]
  },
  {
   "cell_type": "markdown",
   "metadata": {},
   "source": [
    "### Question 5\n",
    "\n",
    "From the `titanic` package, import the `titanic_train` dataset and state whether the following variables are ordinal categorical, non-ordinal categorical, continuous, or discrete:\n",
    "\n",
    "| Variable | Type\n",
    "| :--------| :---\n",
    "| Survived | Non-ordinal categorical\n",
    "| Pclass | Ordinal categorical\n",
    "| Sex | Non-ordingal categorical\n",
    "| SibSp | Discrete\n",
    "| Parch | Discrete\n",
    "| Fare | Continuous"
   ]
  },
  {
   "cell_type": "code",
   "execution_count": 25,
   "metadata": {},
   "outputs": [
    {
     "name": "stdout",
     "output_type": "stream",
     "text": [
      "Observations: 891\n",
      "Variables: 12\n",
      "$ PassengerId \u001b[3m\u001b[38;5;246m<int>\u001b[39m\u001b[23m 1, 2, 3, 4, 5, 6, 7, 8, 9, 10, 11, 12, 13, 14, 15, 16, ...\n",
      "$ Survived    \u001b[3m\u001b[38;5;246m<int>\u001b[39m\u001b[23m 0, 1, 1, 1, 0, 0, 0, 0, 1, 1, 1, 1, 0, 0, 0, 1, 0, 1, 0...\n",
      "$ Pclass      \u001b[3m\u001b[38;5;246m<int>\u001b[39m\u001b[23m 3, 1, 3, 1, 3, 3, 1, 3, 3, 2, 3, 1, 3, 3, 3, 2, 3, 2, 3...\n",
      "$ Name        \u001b[3m\u001b[38;5;246m<chr>\u001b[39m\u001b[23m \"Braund, Mr. Owen Harris\", \"Cumings, Mrs. John Bradley ...\n",
      "$ Sex         \u001b[3m\u001b[38;5;246m<chr>\u001b[39m\u001b[23m \"male\", \"female\", \"female\", \"female\", \"male\", \"male\", \"...\n",
      "$ Age         \u001b[3m\u001b[38;5;246m<dbl>\u001b[39m\u001b[23m 22, 38, 26, 35, 35, NA, 54, 2, 27, 14, 4, 58, 20, 39, 1...\n",
      "$ SibSp       \u001b[3m\u001b[38;5;246m<int>\u001b[39m\u001b[23m 1, 1, 0, 1, 0, 0, 0, 3, 0, 1, 1, 0, 0, 1, 0, 0, 4, 0, 1...\n",
      "$ Parch       \u001b[3m\u001b[38;5;246m<int>\u001b[39m\u001b[23m 0, 0, 0, 0, 0, 0, 0, 1, 2, 0, 1, 0, 0, 5, 0, 0, 1, 0, 0...\n",
      "$ Ticket      \u001b[3m\u001b[38;5;246m<chr>\u001b[39m\u001b[23m \"A/5 21171\", \"PC 17599\", \"STON/O2. 3101282\", \"113803\", ...\n",
      "$ Fare        \u001b[3m\u001b[38;5;246m<dbl>\u001b[39m\u001b[23m 7.2500, 71.2833, 7.9250, 53.1000, 8.0500, 8.4583, 51.86...\n",
      "$ Cabin       \u001b[3m\u001b[38;5;246m<chr>\u001b[39m\u001b[23m \"\", \"C85\", \"\", \"C123\", \"\", \"\", \"E46\", \"\", \"\", \"\", \"G6\",...\n",
      "$ Embarked    \u001b[3m\u001b[38;5;246m<chr>\u001b[39m\u001b[23m \"S\", \"C\", \"S\", \"S\", \"S\", \"Q\", \"S\", \"S\", \"S\", \"C\", \"S\", ...\n"
     ]
    }
   ],
   "source": [
    "suppressWarnings(library('titanic'))\n",
    "data(titanic_train)\n",
    "glimpse(titanic_train)"
   ]
  },
  {
   "cell_type": "markdown",
   "metadata": {},
   "source": [
    "### Question 6\n",
    "\n",
    "#### Gapminder\n",
    "\n",
    "Find the number of distinct countries and the last year of data available in the `gapminderall.csv` dataset:"
   ]
  },
  {
   "cell_type": "code",
   "execution_count": 26,
   "metadata": {},
   "outputs": [
    {
     "data": {
      "text/html": [
       "<table>\n",
       "<thead><tr><th scope=col>country</th><th scope=col>year</th><th scope=col>infant_mortality</th><th scope=col>life_expectancy</th><th scope=col>fertility</th><th scope=col>population</th><th scope=col>gdp</th><th scope=col>continent</th><th scope=col>region</th></tr></thead>\n",
       "<tbody>\n",
       "\t<tr><td>Albania        </td><td>1960           </td><td>115.4          </td><td>62.87          </td><td>6.19           </td><td> 1636054       </td><td>         NA    </td><td>Europe         </td><td>Southern Europe</td></tr>\n",
       "\t<tr><td>Algeria        </td><td>1960           </td><td>148.2          </td><td>47.50          </td><td>7.65           </td><td>11124892       </td><td>13828152297    </td><td>Africa         </td><td>Northern Africa</td></tr>\n",
       "\t<tr><td>Angola         </td><td>1960           </td><td>208.0          </td><td>35.98          </td><td>7.32           </td><td> 5270844       </td><td>         NA    </td><td>Africa         </td><td>Middle Africa  </td></tr>\n",
       "</tbody>\n",
       "</table>\n"
      ],
      "text/latex": [
       "\\begin{tabular}{r|lllllllll}\n",
       " country & year & infant\\_mortality & life\\_expectancy & fertility & population & gdp & continent & region\\\\\n",
       "\\hline\n",
       "\t Albania         & 1960            & 115.4           & 62.87           & 6.19            &  1636054        &          NA     & Europe          & Southern Europe\\\\\n",
       "\t Algeria         & 1960            & 148.2           & 47.50           & 7.65            & 11124892        & 13828152297     & Africa          & Northern Africa\\\\\n",
       "\t Angola          & 1960            & 208.0           & 35.98           & 7.32            &  5270844        &          NA     & Africa          & Middle Africa  \\\\\n",
       "\\end{tabular}\n"
      ],
      "text/markdown": [
       "\n",
       "| country | year | infant_mortality | life_expectancy | fertility | population | gdp | continent | region |\n",
       "|---|---|---|---|---|---|---|---|---|\n",
       "| Albania         | 1960            | 115.4           | 62.87           | 6.19            |  1636054        |          NA     | Europe          | Southern Europe |\n",
       "| Algeria         | 1960            | 148.2           | 47.50           | 7.65            | 11124892        | 13828152297     | Africa          | Northern Africa |\n",
       "| Angola          | 1960            | 208.0           | 35.98           | 7.32            |  5270844        |          NA     | Africa          | Middle Africa   |\n",
       "\n"
      ],
      "text/plain": [
       "  country year infant_mortality life_expectancy fertility population\n",
       "1 Albania 1960 115.4            62.87           6.19       1636054  \n",
       "2 Algeria 1960 148.2            47.50           7.65      11124892  \n",
       "3 Angola  1960 208.0            35.98           7.32       5270844  \n",
       "  gdp         continent region         \n",
       "1          NA Europe    Southern Europe\n",
       "2 13828152297 Africa    Northern Africa\n",
       "3          NA Africa    Middle Africa  "
      ]
     },
     "metadata": {},
     "output_type": "display_data"
    },
    {
     "data": {
      "text/html": [
       "'There are 185 distinct countries in the gapminderall.csv dataset.'"
      ],
      "text/latex": [
       "'There are 185 distinct countries in the gapminderall.csv dataset.'"
      ],
      "text/markdown": [
       "'There are 185 distinct countries in the gapminderall.csv dataset.'"
      ],
      "text/plain": [
       "[1] \"There are 185 distinct countries in the gapminderall.csv dataset.\""
      ]
     },
     "metadata": {},
     "output_type": "display_data"
    },
    {
     "data": {
      "text/html": [
       "'The last year of data available in the gapminderall.csv dataset is 2016'"
      ],
      "text/latex": [
       "'The last year of data available in the gapminderall.csv dataset is 2016'"
      ],
      "text/markdown": [
       "'The last year of data available in the gapminderall.csv dataset is 2016'"
      ],
      "text/plain": [
       "[1] \"The last year of data available in the gapminderall.csv dataset is 2016\""
      ]
     },
     "metadata": {},
     "output_type": "display_data"
    }
   ],
   "source": [
    "gap_all <- read_csv('data/01/Case Study 1 - Gapminder/gapminderall.csv', col_types=cols())\n",
    "head(gap_all, 3)\n",
    "\n",
    "paste('There are', length(unique(gap_all$country)), 'distinct countries in the gapminderall.csv dataset.')\n",
    "paste('The last year of data available in the gapminderall.csv dataset is', max(gap_all$year))"
   ]
  },
  {
   "cell_type": "markdown",
   "metadata": {},
   "source": [
    "#### CAS Motors\n",
    "\n",
    "Calculate the proportion of  policies for each vehicle brand. Which vehicle brand has the highest proportion and what was it's proportion? And what was the proportion of policies coming from Area F?"
   ]
  },
  {
   "cell_type": "code",
   "execution_count": 27,
   "metadata": {},
   "outputs": [
    {
     "data": {
      "text/html": [
       "<table>\n",
       "<thead><tr><th scope=col>IDpol</th><th scope=col>ClaimNb</th><th scope=col>Exposure</th><th scope=col>Area</th><th scope=col>VehPower</th><th scope=col>VehAge</th><th scope=col>DrivAge</th><th scope=col>BonusMalus</th><th scope=col>VehBrand</th><th scope=col>VehGas</th><th scope=col>Density</th><th scope=col>Region</th></tr></thead>\n",
       "<tbody>\n",
       "\t<tr><td>1      </td><td>1      </td><td>0.10   </td><td>D      </td><td>5      </td><td>0      </td><td>55     </td><td>50     </td><td>B12    </td><td>Regular</td><td>1217   </td><td>R82    </td></tr>\n",
       "\t<tr><td>3      </td><td>1      </td><td>0.77   </td><td>D      </td><td>5      </td><td>0      </td><td>55     </td><td>50     </td><td>B12    </td><td>Regular</td><td>1217   </td><td>R82    </td></tr>\n",
       "\t<tr><td>5      </td><td>1      </td><td>0.75   </td><td>B      </td><td>6      </td><td>2      </td><td>52     </td><td>50     </td><td>B12    </td><td>Diesel </td><td>  54   </td><td>R22    </td></tr>\n",
       "</tbody>\n",
       "</table>\n"
      ],
      "text/latex": [
       "\\begin{tabular}{r|llllllllllll}\n",
       " IDpol & ClaimNb & Exposure & Area & VehPower & VehAge & DrivAge & BonusMalus & VehBrand & VehGas & Density & Region\\\\\n",
       "\\hline\n",
       "\t 1       & 1       & 0.10    & D       & 5       & 0       & 55      & 50      & B12     & Regular & 1217    & R82    \\\\\n",
       "\t 3       & 1       & 0.77    & D       & 5       & 0       & 55      & 50      & B12     & Regular & 1217    & R82    \\\\\n",
       "\t 5       & 1       & 0.75    & B       & 6       & 2       & 52      & 50      & B12     & Diesel  &   54    & R22    \\\\\n",
       "\\end{tabular}\n"
      ],
      "text/markdown": [
       "\n",
       "| IDpol | ClaimNb | Exposure | Area | VehPower | VehAge | DrivAge | BonusMalus | VehBrand | VehGas | Density | Region |\n",
       "|---|---|---|---|---|---|---|---|---|---|---|---|\n",
       "| 1       | 1       | 0.10    | D       | 5       | 0       | 55      | 50      | B12     | Regular | 1217    | R82     |\n",
       "| 3       | 1       | 0.77    | D       | 5       | 0       | 55      | 50      | B12     | Regular | 1217    | R82     |\n",
       "| 5       | 1       | 0.75    | B       | 6       | 2       | 52      | 50      | B12     | Diesel  |   54    | R22     |\n",
       "\n"
      ],
      "text/plain": [
       "  IDpol ClaimNb Exposure Area VehPower VehAge DrivAge BonusMalus VehBrand\n",
       "1 1     1       0.10     D    5        0      55      50         B12     \n",
       "2 3     1       0.77     D    5        0      55      50         B12     \n",
       "3 5     1       0.75     B    6        2      52      50         B12     \n",
       "  VehGas  Density Region\n",
       "1 Regular 1217    R82   \n",
       "2 Regular 1217    R82   \n",
       "3 Diesel    54    R22   "
      ]
     },
     "metadata": {},
     "output_type": "display_data"
    }
   ],
   "source": [
    "casMotor <- read_csv('data/01/Case Study 2 - CAS Motor/freMTPL2freq.csv', col_types=cols())\n",
    "head(casMotor, 3)"
   ]
  },
  {
   "cell_type": "code",
   "execution_count": 28,
   "metadata": {},
   "outputs": [
    {
     "data": {
      "text/html": [
       "<table>\n",
       "<thead><tr><th></th><th scope=col>VehBrand</th><th scope=col>prop</th></tr></thead>\n",
       "<tbody>\n",
       "\t<tr><th scope=row>1</th><td>B12  </td><td>0.245</td></tr>\n",
       "\t<tr><th scope=row>10</th><td>B1   </td><td>0.240</td></tr>\n",
       "\t<tr><th scope=row>4</th><td>B2   </td><td>0.236</td></tr>\n",
       "\t<tr><th scope=row>3</th><td>B3   </td><td>0.079</td></tr>\n",
       "\t<tr><th scope=row>5</th><td>B5   </td><td>0.051</td></tr>\n",
       "\t<tr><th scope=row>2</th><td>B6   </td><td>0.042</td></tr>\n",
       "\t<tr><th scope=row>9</th><td>B4   </td><td>0.037</td></tr>\n",
       "\t<tr><th scope=row>6</th><td>B10  </td><td>0.026</td></tr>\n",
       "\t<tr><th scope=row>11</th><td>B11  </td><td>0.020</td></tr>\n",
       "\t<tr><th scope=row>8</th><td>B13  </td><td>0.018</td></tr>\n",
       "\t<tr><th scope=row>7</th><td>B14  </td><td>0.006</td></tr>\n",
       "</tbody>\n",
       "</table>\n"
      ],
      "text/latex": [
       "\\begin{tabular}{r|ll}\n",
       "  & VehBrand & prop\\\\\n",
       "\\hline\n",
       "\t1 & B12   & 0.245\\\\\n",
       "\t10 & B1    & 0.240\\\\\n",
       "\t4 & B2    & 0.236\\\\\n",
       "\t3 & B3    & 0.079\\\\\n",
       "\t5 & B5    & 0.051\\\\\n",
       "\t2 & B6    & 0.042\\\\\n",
       "\t9 & B4    & 0.037\\\\\n",
       "\t6 & B10   & 0.026\\\\\n",
       "\t11 & B11   & 0.020\\\\\n",
       "\t8 & B13   & 0.018\\\\\n",
       "\t7 & B14   & 0.006\\\\\n",
       "\\end{tabular}\n"
      ],
      "text/markdown": [
       "\n",
       "| <!--/--> | VehBrand | prop |\n",
       "|---|---|---|\n",
       "| 1 | B12   | 0.245 |\n",
       "| 10 | B1    | 0.240 |\n",
       "| 4 | B2    | 0.236 |\n",
       "| 3 | B3    | 0.079 |\n",
       "| 5 | B5    | 0.051 |\n",
       "| 2 | B6    | 0.042 |\n",
       "| 9 | B4    | 0.037 |\n",
       "| 6 | B10   | 0.026 |\n",
       "| 11 | B11   | 0.020 |\n",
       "| 8 | B13   | 0.018 |\n",
       "| 7 | B14   | 0.006 |\n",
       "\n"
      ],
      "text/plain": [
       "   VehBrand prop \n",
       "1  B12      0.245\n",
       "10 B1       0.240\n",
       "4  B2       0.236\n",
       "3  B3       0.079\n",
       "5  B5       0.051\n",
       "2  B6       0.042\n",
       "9  B4       0.037\n",
       "6  B10      0.026\n",
       "11 B11      0.020\n",
       "8  B13      0.018\n",
       "7  B14      0.006"
      ]
     },
     "metadata": {},
     "output_type": "display_data"
    },
    {
     "name": "stdout",
     "output_type": "stream",
     "text": [
      "[1] 0.026\n"
     ]
    }
   ],
   "source": [
    "# Proportion of claims by vehicle brand (VehBrand)\n",
    "options(digits=2)\n",
    "prop <- c()\n",
    "for (brand in unique(casMotor$VehBrand)){\n",
    "    val <- length(which(casMotor$VehBrand==brand)) / length(casMotor$VehBrand)\n",
    "    prop <- c(prop, val)\n",
    "}\n",
    "vehicles <- data.frame(VehBrand=unique(casMotor$VehBrand), prop=prop)\n",
    "vehicles[order(vehicles$prop, decreasing=TRUE),]\n",
    "\n",
    "# Proportion of claims from Area F\n",
    "print(round(length(which(casMotor$Area=='F')) / length(casMotor$Area), 3))"
   ]
  },
  {
   "cell_type": "markdown",
   "metadata": {},
   "source": [
    "* The vehicle brand with the highest proportion of claims was `B12` which made up 24.5% of all claims.\n",
    "* The proportion of claims from Area `F` was 2.6%.\n",
    "\n",
    "#### Big Bank\n",
    "\n",
    "Recall from the Week 1 Learning Guide that `Class` is the (response) variable where 1 denotes fraud and 0 denotes no fraud."
   ]
  },
  {
   "cell_type": "code",
   "execution_count": 29,
   "metadata": {},
   "outputs": [
    {
     "data": {
      "text/html": [
       "<table>\n",
       "<thead><tr><th scope=col>Time</th><th scope=col>V1</th><th scope=col>V2</th><th scope=col>V3</th><th scope=col>V4</th><th scope=col>V5</th><th scope=col>V6</th><th scope=col>V7</th><th scope=col>V8</th><th scope=col>V9</th><th scope=col>...</th><th scope=col>V22</th><th scope=col>V23</th><th scope=col>V24</th><th scope=col>V25</th><th scope=col>V26</th><th scope=col>V27</th><th scope=col>V28</th><th scope=col>Amount</th><th scope=col>Class</th><th scope=col>Id</th></tr></thead>\n",
       "<tbody>\n",
       "\t<tr><td> 73    </td><td> 1.16  </td><td>1.25   </td><td>-1.58  </td><td>1.48   </td><td> 1.138 </td><td>-1.020 </td><td> 0.638 </td><td>-0.14  </td><td>-0.81  </td><td>...    </td><td>-0.23  </td><td>-0.20  </td><td>-0.2898</td><td> 0.78  </td><td>-0.28  </td><td> 0.0567</td><td> 0.085 </td><td> 1.0   </td><td>0      </td><td>1      </td></tr>\n",
       "\t<tr><td>128    </td><td>-0.55  </td><td>0.91   </td><td> 1.60  </td><td>1.30   </td><td> 0.588 </td><td> 0.032 </td><td> 0.754 </td><td>-0.31  </td><td>-0.27  </td><td>...    </td><td> 0.42  </td><td>-0.27  </td><td> 0.1296</td><td>-0.23  </td><td>-0.30  </td><td>-0.1910</td><td>-0.087 </td><td>10.0   </td><td>0      </td><td>2      </td></tr>\n",
       "\t<tr><td>155    </td><td> 1.17  </td><td>0.31   </td><td> 0.31  </td><td>0.52   </td><td>-0.058 </td><td>-0.259 </td><td>-0.044 </td><td> 0.04  </td><td>-0.34  </td><td>...    </td><td>-0.54  </td><td> 0.14  </td><td>-0.0017</td><td> 0.14  </td><td> 0.10  </td><td>-0.0054</td><td> 0.019 </td><td> 1.3   </td><td>0      </td><td>3      </td></tr>\n",
       "</tbody>\n",
       "</table>\n"
      ],
      "text/latex": [
       "\\begin{tabular}{r|llllllllllllllllllllllllllllllll}\n",
       " Time & V1 & V2 & V3 & V4 & V5 & V6 & V7 & V8 & V9 & ... & V22 & V23 & V24 & V25 & V26 & V27 & V28 & Amount & Class & Id\\\\\n",
       "\\hline\n",
       "\t  73     &  1.16   & 1.25    & -1.58   & 1.48    &  1.138  & -1.020  &  0.638  & -0.14   & -0.81   & ...     & -0.23   & -0.20   & -0.2898 &  0.78   & -0.28   &  0.0567 &  0.085  &  1.0    & 0       & 1      \\\\\n",
       "\t 128     & -0.55   & 0.91    &  1.60   & 1.30    &  0.588  &  0.032  &  0.754  & -0.31   & -0.27   & ...     &  0.42   & -0.27   &  0.1296 & -0.23   & -0.30   & -0.1910 & -0.087  & 10.0    & 0       & 2      \\\\\n",
       "\t 155     &  1.17   & 0.31    &  0.31   & 0.52    & -0.058  & -0.259  & -0.044  &  0.04   & -0.34   & ...     & -0.54   &  0.14   & -0.0017 &  0.14   &  0.10   & -0.0054 &  0.019  &  1.3    & 0       & 3      \\\\\n",
       "\\end{tabular}\n"
      ],
      "text/markdown": [
       "\n",
       "| Time | V1 | V2 | V3 | V4 | V5 | V6 | V7 | V8 | V9 | ... | V22 | V23 | V24 | V25 | V26 | V27 | V28 | Amount | Class | Id |\n",
       "|---|---|---|---|---|---|---|---|---|---|---|---|---|---|---|---|---|---|---|---|---|\n",
       "|  73     |  1.16   | 1.25    | -1.58   | 1.48    |  1.138  | -1.020  |  0.638  | -0.14   | -0.81   | ...     | -0.23   | -0.20   | -0.2898 |  0.78   | -0.28   |  0.0567 |  0.085  |  1.0    | 0       | 1       |\n",
       "| 128     | -0.55   | 0.91    |  1.60   | 1.30    |  0.588  |  0.032  |  0.754  | -0.31   | -0.27   | ...     |  0.42   | -0.27   |  0.1296 | -0.23   | -0.30   | -0.1910 | -0.087  | 10.0    | 0       | 2       |\n",
       "| 155     |  1.17   | 0.31    |  0.31   | 0.52    | -0.058  | -0.259  | -0.044  |  0.04   | -0.34   | ...     | -0.54   |  0.14   | -0.0017 |  0.14   |  0.10   | -0.0054 |  0.019  |  1.3    | 0       | 3       |\n",
       "\n"
      ],
      "text/plain": [
       "  Time V1    V2   V3    V4   V5     V6     V7     V8    V9    ... V22   V23  \n",
       "1  73   1.16 1.25 -1.58 1.48  1.138 -1.020  0.638 -0.14 -0.81 ... -0.23 -0.20\n",
       "2 128  -0.55 0.91  1.60 1.30  0.588  0.032  0.754 -0.31 -0.27 ...  0.42 -0.27\n",
       "3 155   1.17 0.31  0.31 0.52 -0.058 -0.259 -0.044  0.04 -0.34 ... -0.54  0.14\n",
       "  V24     V25   V26   V27     V28    Amount Class Id\n",
       "1 -0.2898  0.78 -0.28  0.0567  0.085  1.0   0     1 \n",
       "2  0.1296 -0.23 -0.30 -0.1910 -0.087 10.0   0     2 \n",
       "3 -0.0017  0.14  0.10 -0.0054  0.019  1.3   0     3 "
      ]
     },
     "metadata": {},
     "output_type": "display_data"
    },
    {
     "name": "stdout",
     "output_type": "stream",
     "text": [
      "[1] 492\n",
      "[1] 9840\n",
      "[1] 0.05\n"
     ]
    }
   ],
   "source": [
    "banks <- read_csv('data/01/Case Study 3 - Big Bank/creditcardcut.csv', col_types=cols())\n",
    "head(banks, 3)\n",
    "fraud <- length(which(banks$Class==1))\n",
    "total <- length(banks$Class)\n",
    "print(fraud)\n",
    "print(total)\n",
    "print(fraud/total)"
   ]
  },
  {
   "cell_type": "markdown",
   "metadata": {},
   "source": [
    "Out of the 9,840 transactions, 5% (492) have been fraudulent transactions."
   ]
  },
  {
   "cell_type": "markdown",
   "metadata": {},
   "source": [
    "## Resources\n",
    "\n",
    "* [Suppressing `col_types` messages](https://github.com/tidyverse/readr/pull/1000)"
   ]
  }
 ],
 "metadata": {
  "kernelspec": {
   "display_name": "R",
   "language": "R",
   "name": "ir"
  },
  "language_info": {
   "codemirror_mode": "r",
   "file_extension": ".r",
   "mimetype": "text/x-r-source",
   "name": "R",
   "pygments_lexer": "r",
   "version": "3.6.1"
  }
 },
 "nbformat": 4,
 "nbformat_minor": 4
}
