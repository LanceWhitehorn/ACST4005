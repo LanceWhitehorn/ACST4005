{
 "cells": [
  {
   "cell_type": "markdown",
   "metadata": {},
   "source": [
    "## Summary of functions\n",
    "\n",
    "| Function | Example | Explanation\n",
    "| :------- |:------- | :-----------\n",
    "| install.packages() | install.packages('gapminder') | Installs the given package.\n",
    "| library() | library('gapminder') | Loads the given package into the environment.\n",
    "| detach() | detach('gapminder', unload=TRUE) | Removes the given package from the environment.\n",
    "| c() | c('a', 'b', 'c') | (Stands for concatenate) Creates a vector.\n",
    "| seq() | seq(from=1, to=10, by=2) | (Stands for sequence) Creates a sequence.\n",
    "| length() | length(v) | Returns the length of vector `v`.\n",
    "| class() | class(v) | Returns the class of vector `v`.\n",
    "| as.character() | as.character(v) | Turns the elements of vector `v` into characters.\n",
    "| as.numeric() | as.numeric(v) | Turns the elements of vector `v` into numeric.\n",
    "| as.factor() | as.factor(v) | Turns the elements of vector `v` into factors.\n",
    "| sort() | sort(v, decreasing=FALSE) | Returns the sorted vector in increasing order.\n",
    "| order() | order(v) | Returns the index vector (i.e. it's index in the original vector `v`)\n",
    "| rank() | rank(v) | Sorts the vector, and returns the indices of the original vector `v` in the sorted order.\n",
    "| max() | max(v) | Returns the maximum value in vector `v`.\n",
    "| min() | min(v) | Returns the minimum value in vector `v`.\n",
    "| which.max() | which.max(v) | Returns the index of the maximum value in vector `v`.\n",
    "| which.min() | which.min(v) | Returns the index of the minimum value in vector `v`.\n",
    "| which() | which(df\\$x==10) | Returns the index/indices of the entries that satisfy the condition.\n",
    "| match() | match(10, df\\$x) | Returns the index of the first entry that satisfies the condition.\n",
    "| %in% | 10 %in% df\\$x | Returns `TRUE` if the value is in the object."
   ]
  }
 ],
 "metadata": {
  "kernelspec": {
   "display_name": "R",
   "language": "R",
   "name": "ir"
  },
  "language_info": {
   "codemirror_mode": "r",
   "file_extension": ".r",
   "mimetype": "text/x-r-source",
   "name": "R",
   "pygments_lexer": "r",
   "version": "3.6.1"
  }
 },
 "nbformat": 4,
 "nbformat_minor": 4
}
