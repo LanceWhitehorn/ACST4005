{
 "cells": [
  {
   "cell_type": "markdown",
   "metadata": {},
   "source": [
    "## Set Up\n",
    "\n",
    "It is better to use `conda install -c r r-tidyverse` to install packages.\n",
    "\n",
    "* [Using R on Jupyter Notebook](https://dzone.com/articles/using-r-on-jupyternbspnotebook)\n",
    "* [Using `conda` to install R packages](https://community.rstudio.com/t/failing-to-install-r-packages/104963/5)"
   ]
  },
  {
   "cell_type": "markdown",
   "metadata": {},
   "source": [
    "## R base functions\n",
    "\n",
    "| Function | Example | Explanation\n",
    "| :------- |:------- | :-----------\n",
    "| rm(list=ls()) | rm(list=ls()) | Removes all the current variables in the workspace.\n",
    "| install.packages() | install.packages('gapminder') | Installs the given package.\n",
    "| library() | library('gapminder') | Loads the given package into the workspace.\n",
    "| detach() | detach('gapminder', unload=TRUE) | Removes the given package from the workspace.\n",
    "| c() | c('a', 'b', 'c') | (Stands for concatenate) Creates a vector.\n",
    "| seq() | seq(from=1, to=10, by=2) | (Stands for sequence) Creates a sequence.\n",
    "| length() | length(v) | Returns the length of vector `v`.\n",
    "| class() | class(v) | Returns the class of vector `v`.\n",
    "| as.character() | as.character(v) | Turns the elements of vector `v` into characters.\n",
    "| as.numeric() | as.numeric(v) | Turns the elements of vector `v` into numeric.\n",
    "| as.factor() | as.factor(v) | Turns the elements of vector `v` into factors.\n",
    "| sort() | sort(v, decreasing=FALSE) | Returns the sorted vector in increasing order.\n",
    "| order() | order(v) | Returns the index vector (i.e. it's index in the original vector `v`)\n",
    "| rank() | rank(v) | Sorts the vector, and returns the indices of the original vector `v` in the sorted order.\n",
    "| max() | max(v) | Returns the maximum value in vector `v`.\n",
    "| min() | min(v) | Returns the minimum value in vector `v`.\n",
    "| which.max() | which.max(v) | Returns the index of the maximum value in vector `v`.\n",
    "| which.min() | which.min(v) | Returns the index of the minimum value in vector `v`.\n",
    "| which() | which(df\\$x==10) | Returns the index/indices of the entries that satisfy the condition.\n",
    "| match() | match(10, df\\$x) | Returns the index of the first entry that satisfies the condition.\n",
    "| %in% | 10 %in% df\\$x | Returns `TRUE` if the value is in the object.\n",
    "| getwd() | getwd() | Returns the working directory.\n",
    "| setwd() | setwd(choose.dir()) | Allows you to browse your files to set the working directory.\n",
    "| ls() | ls() | Lists all the objects in the workspace.\n",
    "| set.seed() | set.seed(5) | Set the seed of R‘s random number generator. This is useful to ensure reproducible results.\n"
   ]
  },
  {
   "cell_type": "markdown",
   "metadata": {},
   "source": [
    "## `readr` functions\n",
    "\n",
    "| Function | Example | Explanation\n",
    "| :------- |:------- | :-----------\n",
    "| read_csv() | read_csv(file, col_types=cols()) | Reads in a `.csv` file. `col_types=cols()` is quite important as it suppresses the column specification message."
   ]
  },
  {
   "cell_type": "markdown",
   "metadata": {},
   "source": [
    "## `dplyr` functions\n",
    "\n",
    "| Function | Example | Explanation\n",
    "| :------- |:------- | :-----------\n",
    "| filter() | filter(df, col1<5) | Subsets the specified rows from `df`.\n",
    "| select() | select(df, col1, col2, col3, ...) | Subsets the specified columns from `df`.\n",
    "| mutate() | mutate(df, col_name=values) | Adds a column to the `df`."
   ]
  },
  {
   "cell_type": "markdown",
   "metadata": {},
   "source": [
    "## `tidyr` functions\n",
    "\n",
    "| Function | Example | Explanation\n",
    "| :------- |:------- | :-----------\n",
    "| gather() | gather(data, key, value, selected_cols) | Takes the selected columns and collapses into key-value pairs, duplicating all other columns.\n",
    "| spread() | spread(data, key, value) | Spreads a key-value pair across multiple columns.\n",
    "| separate() | separate(data, col, into, sep) | Turns a single column into multiple columns.\n",
    "| unite() | unite(data, col, selected_cols, sep, remove=TRUE) | Paste together the selected columns into one (and by default removes the separate columns)."
   ]
  }
 ],
 "metadata": {
  "kernelspec": {
   "display_name": "R",
   "language": "R",
   "name": "ir"
  },
  "language_info": {
   "codemirror_mode": "r",
   "file_extension": ".r",
   "mimetype": "text/x-r-source",
   "name": "R",
   "pygments_lexer": "r",
   "version": "3.6.1"
  }
 },
 "nbformat": 4,
 "nbformat_minor": 4
}
