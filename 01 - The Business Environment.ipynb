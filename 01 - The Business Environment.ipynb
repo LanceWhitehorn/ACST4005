{
 "cells": [
  {
   "cell_type": "markdown",
   "metadata": {},
   "source": [
    "# Week 1 - The Business Environment\n",
    "\n",
    "## Gapminder"
   ]
  },
  {
   "cell_type": "markdown",
   "metadata": {},
   "source": [
    "Installing the `gapminder` package and loading it into the environment:"
   ]
  },
  {
   "cell_type": "code",
   "execution_count": 1,
   "metadata": {},
   "outputs": [],
   "source": [
    "if (!('gapminder' %in% installed.packages())) {\n",
    "    package.install('gapminder')\n",
    "}\n",
    "suppressWarnings(library('gapminder'))\n",
    "data(gapminder)"
   ]
  },
  {
   "cell_type": "markdown",
   "metadata": {},
   "source": [
    "Splicing a vector using `which`. This returns a vector of indices that satisfy the criteria."
   ]
  },
  {
   "cell_type": "code",
   "execution_count": 2,
   "metadata": {},
   "outputs": [
    {
     "data": {
      "text/html": [
       "<table>\n",
       "<thead><tr><th scope=col>country</th><th scope=col>continent</th><th scope=col>year</th><th scope=col>lifeExp</th><th scope=col>pop</th><th scope=col>gdpPercap</th></tr></thead>\n",
       "<tbody>\n",
       "\t<tr><td>Australia</td><td>Oceania  </td><td>2007     </td><td>81.235   </td><td>20434176 </td><td>34435.37 </td></tr>\n",
       "</tbody>\n",
       "</table>\n"
      ],
      "text/latex": [
       "\\begin{tabular}{r|llllll}\n",
       " country & continent & year & lifeExp & pop & gdpPercap\\\\\n",
       "\\hline\n",
       "\t Australia & Oceania   & 2007      & 81.235    & 20434176  & 34435.37 \\\\\n",
       "\\end{tabular}\n"
      ],
      "text/markdown": [
       "\n",
       "| country | continent | year | lifeExp | pop | gdpPercap |\n",
       "|---|---|---|---|---|---|\n",
       "| Australia | Oceania   | 2007      | 81.235    | 20434176  | 34435.37  |\n",
       "\n"
      ],
      "text/plain": [
       "  country   continent year lifeExp pop      gdpPercap\n",
       "1 Australia Oceania   2007 81.235  20434176 34435.37 "
      ]
     },
     "metadata": {},
     "output_type": "display_data"
    }
   ],
   "source": [
    "aus <- gapminder$country=='Australia'\n",
    "year <- gapminder$year==2007\n",
    "index1 <- aus & year\n",
    "gapminder[index1,]"
   ]
  },
  {
   "cell_type": "code",
   "execution_count": 3,
   "metadata": {},
   "outputs": [
    {
     "name": "stdout",
     "output_type": "stream",
     "text": [
      " [1] 61 62 63 64 65 66 67 68 69 70 71 72\n"
     ]
    },
    {
     "data": {
      "text/html": [
       "<table>\n",
       "<thead><tr><th scope=col>country</th><th scope=col>continent</th><th scope=col>year</th><th scope=col>lifeExp</th><th scope=col>pop</th><th scope=col>gdpPercap</th></tr></thead>\n",
       "<tbody>\n",
       "\t<tr><td>Australia</td><td>Oceania  </td><td>1952     </td><td>69.120   </td><td> 8691212 </td><td>10039.60 </td></tr>\n",
       "\t<tr><td>Australia</td><td>Oceania  </td><td>1957     </td><td>70.330   </td><td> 9712569 </td><td>10949.65 </td></tr>\n",
       "\t<tr><td>Australia</td><td>Oceania  </td><td>1962     </td><td>70.930   </td><td>10794968 </td><td>12217.23 </td></tr>\n",
       "\t<tr><td>Australia</td><td>Oceania  </td><td>1967     </td><td>71.100   </td><td>11872264 </td><td>14526.12 </td></tr>\n",
       "\t<tr><td>Australia</td><td>Oceania  </td><td>1972     </td><td>71.930   </td><td>13177000 </td><td>16788.63 </td></tr>\n",
       "\t<tr><td>Australia</td><td>Oceania  </td><td>1977     </td><td>73.490   </td><td>14074100 </td><td>18334.20 </td></tr>\n",
       "\t<tr><td>Australia</td><td>Oceania  </td><td>1982     </td><td>74.740   </td><td>15184200 </td><td>19477.01 </td></tr>\n",
       "\t<tr><td>Australia</td><td>Oceania  </td><td>1987     </td><td>76.320   </td><td>16257249 </td><td>21888.89 </td></tr>\n",
       "\t<tr><td>Australia</td><td>Oceania  </td><td>1992     </td><td>77.560   </td><td>17481977 </td><td>23424.77 </td></tr>\n",
       "\t<tr><td>Australia</td><td>Oceania  </td><td>1997     </td><td>78.830   </td><td>18565243 </td><td>26997.94 </td></tr>\n",
       "\t<tr><td>Australia</td><td>Oceania  </td><td>2002     </td><td>80.370   </td><td>19546792 </td><td>30687.75 </td></tr>\n",
       "\t<tr><td>Australia</td><td>Oceania  </td><td>2007     </td><td>81.235   </td><td>20434176 </td><td>34435.37 </td></tr>\n",
       "</tbody>\n",
       "</table>\n"
      ],
      "text/latex": [
       "\\begin{tabular}{r|llllll}\n",
       " country & continent & year & lifeExp & pop & gdpPercap\\\\\n",
       "\\hline\n",
       "\t Australia & Oceania   & 1952      & 69.120    &  8691212  & 10039.60 \\\\\n",
       "\t Australia & Oceania   & 1957      & 70.330    &  9712569  & 10949.65 \\\\\n",
       "\t Australia & Oceania   & 1962      & 70.930    & 10794968  & 12217.23 \\\\\n",
       "\t Australia & Oceania   & 1967      & 71.100    & 11872264  & 14526.12 \\\\\n",
       "\t Australia & Oceania   & 1972      & 71.930    & 13177000  & 16788.63 \\\\\n",
       "\t Australia & Oceania   & 1977      & 73.490    & 14074100  & 18334.20 \\\\\n",
       "\t Australia & Oceania   & 1982      & 74.740    & 15184200  & 19477.01 \\\\\n",
       "\t Australia & Oceania   & 1987      & 76.320    & 16257249  & 21888.89 \\\\\n",
       "\t Australia & Oceania   & 1992      & 77.560    & 17481977  & 23424.77 \\\\\n",
       "\t Australia & Oceania   & 1997      & 78.830    & 18565243  & 26997.94 \\\\\n",
       "\t Australia & Oceania   & 2002      & 80.370    & 19546792  & 30687.75 \\\\\n",
       "\t Australia & Oceania   & 2007      & 81.235    & 20434176  & 34435.37 \\\\\n",
       "\\end{tabular}\n"
      ],
      "text/markdown": [
       "\n",
       "| country | continent | year | lifeExp | pop | gdpPercap |\n",
       "|---|---|---|---|---|---|\n",
       "| Australia | Oceania   | 1952      | 69.120    |  8691212  | 10039.60  |\n",
       "| Australia | Oceania   | 1957      | 70.330    |  9712569  | 10949.65  |\n",
       "| Australia | Oceania   | 1962      | 70.930    | 10794968  | 12217.23  |\n",
       "| Australia | Oceania   | 1967      | 71.100    | 11872264  | 14526.12  |\n",
       "| Australia | Oceania   | 1972      | 71.930    | 13177000  | 16788.63  |\n",
       "| Australia | Oceania   | 1977      | 73.490    | 14074100  | 18334.20  |\n",
       "| Australia | Oceania   | 1982      | 74.740    | 15184200  | 19477.01  |\n",
       "| Australia | Oceania   | 1987      | 76.320    | 16257249  | 21888.89  |\n",
       "| Australia | Oceania   | 1992      | 77.560    | 17481977  | 23424.77  |\n",
       "| Australia | Oceania   | 1997      | 78.830    | 18565243  | 26997.94  |\n",
       "| Australia | Oceania   | 2002      | 80.370    | 19546792  | 30687.75  |\n",
       "| Australia | Oceania   | 2007      | 81.235    | 20434176  | 34435.37  |\n",
       "\n"
      ],
      "text/plain": [
       "   country   continent year lifeExp pop      gdpPercap\n",
       "1  Australia Oceania   1952 69.120   8691212 10039.60 \n",
       "2  Australia Oceania   1957 70.330   9712569 10949.65 \n",
       "3  Australia Oceania   1962 70.930  10794968 12217.23 \n",
       "4  Australia Oceania   1967 71.100  11872264 14526.12 \n",
       "5  Australia Oceania   1972 71.930  13177000 16788.63 \n",
       "6  Australia Oceania   1977 73.490  14074100 18334.20 \n",
       "7  Australia Oceania   1982 74.740  15184200 19477.01 \n",
       "8  Australia Oceania   1987 76.320  16257249 21888.89 \n",
       "9  Australia Oceania   1992 77.560  17481977 23424.77 \n",
       "10 Australia Oceania   1997 78.830  18565243 26997.94 \n",
       "11 Australia Oceania   2002 80.370  19546792 30687.75 \n",
       "12 Australia Oceania   2007 81.235  20434176 34435.37 "
      ]
     },
     "metadata": {},
     "output_type": "display_data"
    }
   ],
   "source": [
    "index2 <- which(gapminder$country=='Australia')\n",
    "print(index2)\n",
    "gapminder[index2,]"
   ]
  },
  {
   "cell_type": "code",
   "execution_count": 4,
   "metadata": {},
   "outputs": [
    {
     "name": "stdout",
     "output_type": "stream",
     "text": [
      "[1] 72\n"
     ]
    },
    {
     "data": {
      "text/html": [
       "<table>\n",
       "<thead><tr><th scope=col>country</th><th scope=col>continent</th><th scope=col>year</th><th scope=col>lifeExp</th><th scope=col>pop</th><th scope=col>gdpPercap</th></tr></thead>\n",
       "<tbody>\n",
       "\t<tr><td>Australia</td><td>Oceania  </td><td>2007     </td><td>81.235   </td><td>20434176 </td><td>34435.37 </td></tr>\n",
       "</tbody>\n",
       "</table>\n"
      ],
      "text/latex": [
       "\\begin{tabular}{r|llllll}\n",
       " country & continent & year & lifeExp & pop & gdpPercap\\\\\n",
       "\\hline\n",
       "\t Australia & Oceania   & 2007      & 81.235    & 20434176  & 34435.37 \\\\\n",
       "\\end{tabular}\n"
      ],
      "text/markdown": [
       "\n",
       "| country | continent | year | lifeExp | pop | gdpPercap |\n",
       "|---|---|---|---|---|---|\n",
       "| Australia | Oceania   | 2007      | 81.235    | 20434176  | 34435.37  |\n",
       "\n"
      ],
      "text/plain": [
       "  country   continent year lifeExp pop      gdpPercap\n",
       "1 Australia Oceania   2007 81.235  20434176 34435.37 "
      ]
     },
     "metadata": {},
     "output_type": "display_data"
    }
   ],
   "source": [
    "index3 <- which(gapminder$country=='Australia' & gapminder$year==2007)\n",
    "print(index3)\n",
    "gapminder[index3,]"
   ]
  },
  {
   "cell_type": "markdown",
   "metadata": {},
   "source": [
    "Splicing a vector using `match`. This returns the index of the first occurrence that satisifies the condition."
   ]
  },
  {
   "cell_type": "code",
   "execution_count": 5,
   "metadata": {},
   "outputs": [
    {
     "name": "stdout",
     "output_type": "stream",
     "text": [
      "[1] 61\n"
     ]
    },
    {
     "data": {
      "text/html": [
       "<table>\n",
       "<thead><tr><th scope=col>country</th><th scope=col>continent</th><th scope=col>year</th><th scope=col>lifeExp</th><th scope=col>pop</th><th scope=col>gdpPercap</th></tr></thead>\n",
       "<tbody>\n",
       "\t<tr><td>Australia</td><td>Oceania  </td><td>1952     </td><td>69.12    </td><td>8691212  </td><td>10039.6  </td></tr>\n",
       "</tbody>\n",
       "</table>\n"
      ],
      "text/latex": [
       "\\begin{tabular}{r|llllll}\n",
       " country & continent & year & lifeExp & pop & gdpPercap\\\\\n",
       "\\hline\n",
       "\t Australia & Oceania   & 1952      & 69.12     & 8691212   & 10039.6  \\\\\n",
       "\\end{tabular}\n"
      ],
      "text/markdown": [
       "\n",
       "| country | continent | year | lifeExp | pop | gdpPercap |\n",
       "|---|---|---|---|---|---|\n",
       "| Australia | Oceania   | 1952      | 69.12     | 8691212   | 10039.6   |\n",
       "\n"
      ],
      "text/plain": [
       "  country   continent year lifeExp pop     gdpPercap\n",
       "1 Australia Oceania   1952 69.12   8691212 10039.6  "
      ]
     },
     "metadata": {},
     "output_type": "display_data"
    }
   ],
   "source": [
    "index4 <- match('Australia', gapminder$country)\n",
    "print(index4)\n",
    "gapminder[index4,]"
   ]
  },
  {
   "cell_type": "markdown",
   "metadata": {},
   "source": [
    "Splicing a vector using `%in%`. This returns a boolean vector of whether the value is in the object."
   ]
  },
  {
   "cell_type": "code",
   "execution_count": 6,
   "metadata": {},
   "outputs": [
    {
     "name": "stdout",
     "output_type": "stream",
     "text": [
      "[1]  TRUE FALSE\n",
      "[1] TRUE TRUE\n"
     ]
    }
   ],
   "source": [
    "print(c('Australia', 'US') %in% gapminder$country)\n",
    "print(c('Australia', 'United States') %in% gapminder$country)"
   ]
  },
  {
   "cell_type": "markdown",
   "metadata": {},
   "source": [
    "Using both `%in%` and `which` can be very powerful. Take the following example:\n",
    "* `gapminder$country %in% c('Australia', 'United States') & gapminder$year==2007` returns a boolean vector.\n",
    "* This wrapped inside the `which` function returns a vector of indices where the value is `True`"
   ]
  },
  {
   "cell_type": "code",
   "execution_count": 7,
   "metadata": {},
   "outputs": [
    {
     "name": "stdout",
     "output_type": "stream",
     "text": [
      "[1]   72 1620\n"
     ]
    },
    {
     "data": {
      "text/html": [
       "<table>\n",
       "<thead><tr><th scope=col>country</th><th scope=col>continent</th><th scope=col>year</th><th scope=col>lifeExp</th><th scope=col>pop</th><th scope=col>gdpPercap</th></tr></thead>\n",
       "<tbody>\n",
       "\t<tr><td>Australia    </td><td>Oceania      </td><td>2007         </td><td>81.235       </td><td> 20434176    </td><td>34435.37     </td></tr>\n",
       "\t<tr><td>United States</td><td>Americas     </td><td>2007         </td><td>78.242       </td><td>301139947    </td><td>42951.65     </td></tr>\n",
       "</tbody>\n",
       "</table>\n"
      ],
      "text/latex": [
       "\\begin{tabular}{r|llllll}\n",
       " country & continent & year & lifeExp & pop & gdpPercap\\\\\n",
       "\\hline\n",
       "\t Australia     & Oceania       & 2007          & 81.235        &  20434176     & 34435.37     \\\\\n",
       "\t United States & Americas      & 2007          & 78.242        & 301139947     & 42951.65     \\\\\n",
       "\\end{tabular}\n"
      ],
      "text/markdown": [
       "\n",
       "| country | continent | year | lifeExp | pop | gdpPercap |\n",
       "|---|---|---|---|---|---|\n",
       "| Australia     | Oceania       | 2007          | 81.235        |  20434176     | 34435.37      |\n",
       "| United States | Americas      | 2007          | 78.242        | 301139947     | 42951.65      |\n",
       "\n"
      ],
      "text/plain": [
       "  country       continent year lifeExp pop       gdpPercap\n",
       "1 Australia     Oceania   2007 81.235   20434176 34435.37 \n",
       "2 United States Americas  2007 78.242  301139947 42951.65 "
      ]
     },
     "metadata": {},
     "output_type": "display_data"
    }
   ],
   "source": [
    "index5 <- which(gapminder$country %in% c('Australia', 'United States') & gapminder$year==2007)\n",
    "print(index5)\n",
    "gapminder[index5,]"
   ]
  },
  {
   "cell_type": "markdown",
   "metadata": {},
   "source": [
    "## Practice Questions\n",
    "\n",
    "Question 3:"
   ]
  },
  {
   "cell_type": "code",
   "execution_count": 8,
   "metadata": {},
   "outputs": [
    {
     "name": "stdout",
     "output_type": "stream",
     "text": [
      "[1] 2.321928\n"
     ]
    }
   ],
   "source": [
    "print(log2(5))"
   ]
  },
  {
   "cell_type": "markdown",
   "metadata": {},
   "source": [
    "Question 4:"
   ]
  },
  {
   "cell_type": "code",
   "execution_count": 9,
   "metadata": {},
   "outputs": [
    {
     "name": "stdout",
     "output_type": "stream",
     "text": [
      "[1]  7 14 21 28 35 42 49\n"
     ]
    }
   ],
   "source": [
    "print(seq(7, 50, 7))"
   ]
  },
  {
   "cell_type": "markdown",
   "metadata": {},
   "source": [
    "Question 5:"
   ]
  },
  {
   "cell_type": "code",
   "execution_count": 10,
   "metadata": {},
   "outputs": [],
   "source": [
    "if (!('babynames' %in% installed.packages())) {\n",
    "    package.install('babynames')\n",
    "}\n",
    "suppressWarnings(library('babynames'))\n",
    "data(babynames)"
   ]
  },
  {
   "cell_type": "code",
   "execution_count": 11,
   "metadata": {},
   "outputs": [
    {
     "data": {
      "text/html": [
       "<table>\n",
       "<thead><tr><th scope=col>year</th><th scope=col>sex</th><th scope=col>name</th><th scope=col>n</th><th scope=col>prop</th></tr></thead>\n",
       "<tbody>\n",
       "\t<tr><td>1880      </td><td>F         </td><td>Mary      </td><td>7065      </td><td>0.07238359</td></tr>\n",
       "\t<tr><td>1880      </td><td>F         </td><td>Anna      </td><td>2604      </td><td>0.02667896</td></tr>\n",
       "\t<tr><td>1880      </td><td>F         </td><td>Emma      </td><td>2003      </td><td>0.02052149</td></tr>\n",
       "\t<tr><td>1880      </td><td>F         </td><td>Elizabeth </td><td>1939      </td><td>0.01986579</td></tr>\n",
       "\t<tr><td>1880      </td><td>F         </td><td>Minnie    </td><td>1746      </td><td>0.01788843</td></tr>\n",
       "\t<tr><td>1880      </td><td>F         </td><td>Margaret  </td><td>1578      </td><td>0.01616720</td></tr>\n",
       "</tbody>\n",
       "</table>\n"
      ],
      "text/latex": [
       "\\begin{tabular}{r|lllll}\n",
       " year & sex & name & n & prop\\\\\n",
       "\\hline\n",
       "\t 1880       & F          & Mary       & 7065       & 0.07238359\\\\\n",
       "\t 1880       & F          & Anna       & 2604       & 0.02667896\\\\\n",
       "\t 1880       & F          & Emma       & 2003       & 0.02052149\\\\\n",
       "\t 1880       & F          & Elizabeth  & 1939       & 0.01986579\\\\\n",
       "\t 1880       & F          & Minnie     & 1746       & 0.01788843\\\\\n",
       "\t 1880       & F          & Margaret   & 1578       & 0.01616720\\\\\n",
       "\\end{tabular}\n"
      ],
      "text/markdown": [
       "\n",
       "| year | sex | name | n | prop |\n",
       "|---|---|---|---|---|\n",
       "| 1880       | F          | Mary       | 7065       | 0.07238359 |\n",
       "| 1880       | F          | Anna       | 2604       | 0.02667896 |\n",
       "| 1880       | F          | Emma       | 2003       | 0.02052149 |\n",
       "| 1880       | F          | Elizabeth  | 1939       | 0.01986579 |\n",
       "| 1880       | F          | Minnie     | 1746       | 0.01788843 |\n",
       "| 1880       | F          | Margaret   | 1578       | 0.01616720 |\n",
       "\n"
      ],
      "text/plain": [
       "  year sex name      n    prop      \n",
       "1 1880 F   Mary      7065 0.07238359\n",
       "2 1880 F   Anna      2604 0.02667896\n",
       "3 1880 F   Emma      2003 0.02052149\n",
       "4 1880 F   Elizabeth 1939 0.01986579\n",
       "5 1880 F   Minnie    1746 0.01788843\n",
       "6 1880 F   Margaret  1578 0.01616720"
      ]
     },
     "metadata": {},
     "output_type": "display_data"
    },
    {
     "data": {
      "text/html": [
       "'numeric'"
      ],
      "text/latex": [
       "'numeric'"
      ],
      "text/markdown": [
       "'numeric'"
      ],
      "text/plain": [
       "[1] \"numeric\""
      ]
     },
     "metadata": {},
     "output_type": "display_data"
    }
   ],
   "source": [
    "head(babynames)\n",
    "help(babynames)\n",
    "class(babynames$prop)"
   ]
  },
  {
   "cell_type": "markdown",
   "metadata": {},
   "source": [
    "* There are 5 variables in the `babynames` dataset.\n",
    "* The `prop` variable is the proportion of people of that `sex` with that `name` born in that `year`.\n",
    "* The `prop` variable is a numeric class.\n",
    "\n",
    "Sorting the names vector once and storing it as a variable, `sortedNames`, so it doesn't need to be re-sorted multiple times."
   ]
  },
  {
   "cell_type": "code",
   "execution_count": 12,
   "metadata": {},
   "outputs": [],
   "source": [
    "sortedNames = sort(babynames$name)"
   ]
  },
  {
   "cell_type": "code",
   "execution_count": 13,
   "metadata": {},
   "outputs": [
    {
     "data": {
      "text/html": [
       "'The first name when sorted alphabetically is Aaban'"
      ],
      "text/latex": [
       "'The first name when sorted alphabetically is Aaban'"
      ],
      "text/markdown": [
       "'The first name when sorted alphabetically is Aaban'"
      ],
      "text/plain": [
       "[1] \"The first name when sorted alphabetically is Aaban\""
      ]
     },
     "metadata": {},
     "output_type": "display_data"
    }
   ],
   "source": [
    "paste('The first name when sorted alphabetically is', sortedNames[1])"
   ]
  },
  {
   "cell_type": "markdown",
   "metadata": {},
   "source": [
    "The corresponding `prop` values to the first `name`, Aaban are:"
   ]
  },
  {
   "cell_type": "code",
   "execution_count": 31,
   "metadata": {},
   "outputs": [
    {
     "data": {
      "text/html": [
       "<table>\n",
       "<thead><tr><th scope=col>year</th><th scope=col>sex</th><th scope=col>name</th><th scope=col>n</th><th scope=col>prop</th></tr></thead>\n",
       "<tbody>\n",
       "\t<tr><td>2007    </td><td>M       </td><td>Aaban   </td><td> 5      </td><td>2.26e-06</td></tr>\n",
       "\t<tr><td>2009    </td><td>M       </td><td>Aaban   </td><td> 6      </td><td>2.83e-06</td></tr>\n",
       "\t<tr><td>2010    </td><td>M       </td><td>Aaban   </td><td> 9      </td><td>4.39e-06</td></tr>\n",
       "\t<tr><td>2011    </td><td>M       </td><td>Aaban   </td><td>11      </td><td>5.42e-06</td></tr>\n",
       "\t<tr><td>2012    </td><td>M       </td><td>Aaban   </td><td>11      </td><td>5.43e-06</td></tr>\n",
       "\t<tr><td>2013    </td><td>M       </td><td>Aaban   </td><td>14      </td><td>6.94e-06</td></tr>\n",
       "\t<tr><td>2014    </td><td>M       </td><td>Aaban   </td><td>16      </td><td>7.83e-06</td></tr>\n",
       "\t<tr><td>2015    </td><td>M       </td><td>Aaban   </td><td>15      </td><td>7.36e-06</td></tr>\n",
       "\t<tr><td>2016    </td><td>M       </td><td>Aaban   </td><td> 9      </td><td>4.46e-06</td></tr>\n",
       "\t<tr><td>2017    </td><td>M       </td><td>Aaban   </td><td>11      </td><td>5.60e-06</td></tr>\n",
       "</tbody>\n",
       "</table>\n"
      ],
      "text/latex": [
       "\\begin{tabular}{r|lllll}\n",
       " year & sex & name & n & prop\\\\\n",
       "\\hline\n",
       "\t 2007     & M        & Aaban    &  5       & 2.26e-06\\\\\n",
       "\t 2009     & M        & Aaban    &  6       & 2.83e-06\\\\\n",
       "\t 2010     & M        & Aaban    &  9       & 4.39e-06\\\\\n",
       "\t 2011     & M        & Aaban    & 11       & 5.42e-06\\\\\n",
       "\t 2012     & M        & Aaban    & 11       & 5.43e-06\\\\\n",
       "\t 2013     & M        & Aaban    & 14       & 6.94e-06\\\\\n",
       "\t 2014     & M        & Aaban    & 16       & 7.83e-06\\\\\n",
       "\t 2015     & M        & Aaban    & 15       & 7.36e-06\\\\\n",
       "\t 2016     & M        & Aaban    &  9       & 4.46e-06\\\\\n",
       "\t 2017     & M        & Aaban    & 11       & 5.60e-06\\\\\n",
       "\\end{tabular}\n"
      ],
      "text/markdown": [
       "\n",
       "| year | sex | name | n | prop |\n",
       "|---|---|---|---|---|\n",
       "| 2007     | M        | Aaban    |  5       | 2.26e-06 |\n",
       "| 2009     | M        | Aaban    |  6       | 2.83e-06 |\n",
       "| 2010     | M        | Aaban    |  9       | 4.39e-06 |\n",
       "| 2011     | M        | Aaban    | 11       | 5.42e-06 |\n",
       "| 2012     | M        | Aaban    | 11       | 5.43e-06 |\n",
       "| 2013     | M        | Aaban    | 14       | 6.94e-06 |\n",
       "| 2014     | M        | Aaban    | 16       | 7.83e-06 |\n",
       "| 2015     | M        | Aaban    | 15       | 7.36e-06 |\n",
       "| 2016     | M        | Aaban    |  9       | 4.46e-06 |\n",
       "| 2017     | M        | Aaban    | 11       | 5.60e-06 |\n",
       "\n"
      ],
      "text/plain": [
       "   year sex name  n  prop    \n",
       "1  2007 M   Aaban  5 2.26e-06\n",
       "2  2009 M   Aaban  6 2.83e-06\n",
       "3  2010 M   Aaban  9 4.39e-06\n",
       "4  2011 M   Aaban 11 5.42e-06\n",
       "5  2012 M   Aaban 11 5.43e-06\n",
       "6  2013 M   Aaban 14 6.94e-06\n",
       "7  2014 M   Aaban 16 7.83e-06\n",
       "8  2015 M   Aaban 15 7.36e-06\n",
       "9  2016 M   Aaban  9 4.46e-06\n",
       "10 2017 M   Aaban 11 5.60e-06"
      ]
     },
     "metadata": {},
     "output_type": "display_data"
    }
   ],
   "source": [
    "filter1 <- which(babynames$name==sortedNames[1])\n",
    "babynames[filter1,]"
   ]
  },
  {
   "cell_type": "code",
   "execution_count": 33,
   "metadata": {},
   "outputs": [
    {
     "data": {
      "text/html": [
       "'The prop with the highest value is 0.08154561'"
      ],
      "text/latex": [
       "'The prop with the highest value is 0.08154561'"
      ],
      "text/markdown": [
       "'The prop with the highest value is 0.08154561'"
      ],
      "text/plain": [
       "[1] \"The prop with the highest value is 0.08154561\""
      ]
     },
     "metadata": {},
     "output_type": "display_data"
    }
   ],
   "source": [
    "sortedProp <- sort(babynames$prop, decreasing=T)\n",
    "paste('The prop with the highest value is', sortedProp[1])"
   ]
  },
  {
   "cell_type": "code",
   "execution_count": 38,
   "metadata": {},
   "outputs": [
    {
     "data": {
      "text/html": [
       "'The name corresponding to the highest prop value is John'"
      ],
      "text/latex": [
       "'The name corresponding to the highest prop value is John'"
      ],
      "text/markdown": [
       "'The name corresponding to the highest prop value is John'"
      ],
      "text/plain": [
       "[1] \"The name corresponding to the highest prop value is John\""
      ]
     },
     "metadata": {},
     "output_type": "display_data"
    }
   ],
   "source": [
    "filter2 <- match(sortedProp[1], babynames$prop)\n",
    "paste('The name corresponding to the highest prop value is', babynames$name[filter2])"
   ]
  },
  {
   "cell_type": "markdown",
   "metadata": {},
   "source": [
    "Question 6:"
   ]
  },
  {
   "cell_type": "code",
   "execution_count": 42,
   "metadata": {},
   "outputs": [
    {
     "data": {
      "text/html": [
       "<table>\n",
       "<thead><tr><th scope=col>x</th><th scope=col>qx</th><th scope=col>lx</th><th scope=col>dx</th><th scope=col>Lx</th><th scope=col>Tx</th><th scope=col>ex</th><th scope=col>sex</th><th scope=col>year</th></tr></thead>\n",
       "<tbody>\n",
       "\t<tr><td>0      </td><td>0.14596</td><td>100000 </td><td>14596  </td><td>90026  </td><td>5151511</td><td>51.52  </td><td>M      </td><td>1900   </td></tr>\n",
       "\t<tr><td>1      </td><td>0.03282</td><td> 85404 </td><td> 2803  </td><td>84003  </td><td>5061484</td><td>59.26  </td><td>M      </td><td>1900   </td></tr>\n",
       "\t<tr><td>2      </td><td>0.01634</td><td> 82601 </td><td> 1350  </td><td>81926  </td><td>4977482</td><td>60.26  </td><td>M      </td><td>1900   </td></tr>\n",
       "\t<tr><td>3      </td><td>0.01052</td><td> 81251 </td><td>  855  </td><td>80824  </td><td>4895556</td><td>60.25  </td><td>M      </td><td>1900   </td></tr>\n",
       "\t<tr><td>4      </td><td>0.00875</td><td> 80397 </td><td>  703  </td><td>80045  </td><td>4814732</td><td>59.89  </td><td>M      </td><td>1900   </td></tr>\n",
       "\t<tr><td>5      </td><td>0.00628</td><td> 79693 </td><td>  501  </td><td>79443  </td><td>4734687</td><td>59.41  </td><td>M      </td><td>1900   </td></tr>\n",
       "</tbody>\n",
       "</table>\n"
      ],
      "text/latex": [
       "\\begin{tabular}{r|lllllllll}\n",
       " x & qx & lx & dx & Lx & Tx & ex & sex & year\\\\\n",
       "\\hline\n",
       "\t 0       & 0.14596 & 100000  & 14596   & 90026   & 5151511 & 51.52   & M       & 1900   \\\\\n",
       "\t 1       & 0.03282 &  85404  &  2803   & 84003   & 5061484 & 59.26   & M       & 1900   \\\\\n",
       "\t 2       & 0.01634 &  82601  &  1350   & 81926   & 4977482 & 60.26   & M       & 1900   \\\\\n",
       "\t 3       & 0.01052 &  81251  &   855   & 80824   & 4895556 & 60.25   & M       & 1900   \\\\\n",
       "\t 4       & 0.00875 &  80397  &   703   & 80045   & 4814732 & 59.89   & M       & 1900   \\\\\n",
       "\t 5       & 0.00628 &  79693  &   501   & 79443   & 4734687 & 59.41   & M       & 1900   \\\\\n",
       "\\end{tabular}\n"
      ],
      "text/markdown": [
       "\n",
       "| x | qx | lx | dx | Lx | Tx | ex | sex | year |\n",
       "|---|---|---|---|---|---|---|---|---|\n",
       "| 0       | 0.14596 | 100000  | 14596   | 90026   | 5151511 | 51.52   | M       | 1900    |\n",
       "| 1       | 0.03282 |  85404  |  2803   | 84003   | 5061484 | 59.26   | M       | 1900    |\n",
       "| 2       | 0.01634 |  82601  |  1350   | 81926   | 4977482 | 60.26   | M       | 1900    |\n",
       "| 3       | 0.01052 |  81251  |   855   | 80824   | 4895556 | 60.25   | M       | 1900    |\n",
       "| 4       | 0.00875 |  80397  |   703   | 80045   | 4814732 | 59.89   | M       | 1900    |\n",
       "| 5       | 0.00628 |  79693  |   501   | 79443   | 4734687 | 59.41   | M       | 1900    |\n",
       "\n"
      ],
      "text/plain": [
       "  x qx      lx     dx    Lx    Tx      ex    sex year\n",
       "1 0 0.14596 100000 14596 90026 5151511 51.52 M   1900\n",
       "2 1 0.03282  85404  2803 84003 5061484 59.26 M   1900\n",
       "3 2 0.01634  82601  1350 81926 4977482 60.26 M   1900\n",
       "4 3 0.01052  81251   855 80824 4895556 60.25 M   1900\n",
       "5 4 0.00875  80397   703 80045 4814732 59.89 M   1900\n",
       "6 5 0.00628  79693   501 79443 4734687 59.41 M   1900"
      ]
     },
     "metadata": {},
     "output_type": "display_data"
    }
   ],
   "source": [
    "data(lifetables)\n",
    "head(lifetables)"
   ]
  },
  {
   "cell_type": "markdown",
   "metadata": {},
   "source": [
    "The `sex` variable is the factor vector and has two levels: `M`, and `F`"
   ]
  },
  {
   "cell_type": "code",
   "execution_count": 45,
   "metadata": {},
   "outputs": [
    {
     "data": {
      "text/html": [
       "<ol class=list-inline>\n",
       "\t<li>'M'</li>\n",
       "\t<li>'F'</li>\n",
       "</ol>\n"
      ],
      "text/latex": [
       "\\begin{enumerate*}\n",
       "\\item 'M'\n",
       "\\item 'F'\n",
       "\\end{enumerate*}\n"
      ],
      "text/markdown": [
       "1. 'M'\n",
       "2. 'F'\n",
       "\n",
       "\n"
      ],
      "text/plain": [
       "[1] \"M\" \"F\""
      ]
     },
     "metadata": {},
     "output_type": "display_data"
    }
   ],
   "source": [
    "levels(lifetables$sex)"
   ]
  },
  {
   "cell_type": "markdown",
   "metadata": {},
   "source": [
    "Finding the corresponding x (age) when lx=76 using:\n",
    "1. Logicals and []\n",
    "1. `which()`\n",
    "1. `match()`\n",
    "1. `which()` and `%in%`"
   ]
  },
  {
   "cell_type": "code",
   "execution_count": 53,
   "metadata": {},
   "outputs": [
    {
     "data": {
      "text/html": [
       "<table>\n",
       "<thead><tr><th scope=col>x</th><th scope=col>qx</th><th scope=col>lx</th><th scope=col>dx</th><th scope=col>Lx</th><th scope=col>Tx</th><th scope=col>ex</th><th scope=col>sex</th><th scope=col>year</th></tr></thead>\n",
       "<tbody>\n",
       "\t<tr><td>114    </td><td>0.42433</td><td>76     </td><td>32     </td><td>60     </td><td>130    </td><td>1.72   </td><td>F      </td><td>2010   </td></tr>\n",
       "</tbody>\n",
       "</table>\n"
      ],
      "text/latex": [
       "\\begin{tabular}{r|lllllllll}\n",
       " x & qx & lx & dx & Lx & Tx & ex & sex & year\\\\\n",
       "\\hline\n",
       "\t 114     & 0.42433 & 76      & 32      & 60      & 130     & 1.72    & F       & 2010   \\\\\n",
       "\\end{tabular}\n"
      ],
      "text/markdown": [
       "\n",
       "| x | qx | lx | dx | Lx | Tx | ex | sex | year |\n",
       "|---|---|---|---|---|---|---|---|---|\n",
       "| 114     | 0.42433 | 76      | 32      | 60      | 130     | 1.72    | F       | 2010    |\n",
       "\n"
      ],
      "text/plain": [
       "  x   qx      lx dx Lx Tx  ex   sex year\n",
       "1 114 0.42433 76 32 60 130 1.72 F   2010"
      ]
     },
     "metadata": {},
     "output_type": "display_data"
    },
    {
     "data": {
      "text/html": [
       "<table>\n",
       "<thead><tr><th scope=col>x</th><th scope=col>qx</th><th scope=col>lx</th><th scope=col>dx</th><th scope=col>Lx</th><th scope=col>Tx</th><th scope=col>ex</th><th scope=col>sex</th><th scope=col>year</th></tr></thead>\n",
       "<tbody>\n",
       "\t<tr><td>114    </td><td>0.42433</td><td>76     </td><td>32     </td><td>60     </td><td>130    </td><td>1.72   </td><td>F      </td><td>2010   </td></tr>\n",
       "</tbody>\n",
       "</table>\n"
      ],
      "text/latex": [
       "\\begin{tabular}{r|lllllllll}\n",
       " x & qx & lx & dx & Lx & Tx & ex & sex & year\\\\\n",
       "\\hline\n",
       "\t 114     & 0.42433 & 76      & 32      & 60      & 130     & 1.72    & F       & 2010   \\\\\n",
       "\\end{tabular}\n"
      ],
      "text/markdown": [
       "\n",
       "| x | qx | lx | dx | Lx | Tx | ex | sex | year |\n",
       "|---|---|---|---|---|---|---|---|---|\n",
       "| 114     | 0.42433 | 76      | 32      | 60      | 130     | 1.72    | F       | 2010    |\n",
       "\n"
      ],
      "text/plain": [
       "  x   qx      lx dx Lx Tx  ex   sex year\n",
       "1 114 0.42433 76 32 60 130 1.72 F   2010"
      ]
     },
     "metadata": {},
     "output_type": "display_data"
    },
    {
     "data": {
      "text/html": [
       "<table>\n",
       "<thead><tr><th scope=col>x</th><th scope=col>qx</th><th scope=col>lx</th><th scope=col>dx</th><th scope=col>Lx</th><th scope=col>Tx</th><th scope=col>ex</th><th scope=col>sex</th><th scope=col>year</th></tr></thead>\n",
       "<tbody>\n",
       "\t<tr><td>114    </td><td>0.42433</td><td>76     </td><td>32     </td><td>60     </td><td>130    </td><td>1.72   </td><td>F      </td><td>2010   </td></tr>\n",
       "</tbody>\n",
       "</table>\n"
      ],
      "text/latex": [
       "\\begin{tabular}{r|lllllllll}\n",
       " x & qx & lx & dx & Lx & Tx & ex & sex & year\\\\\n",
       "\\hline\n",
       "\t 114     & 0.42433 & 76      & 32      & 60      & 130     & 1.72    & F       & 2010   \\\\\n",
       "\\end{tabular}\n"
      ],
      "text/markdown": [
       "\n",
       "| x | qx | lx | dx | Lx | Tx | ex | sex | year |\n",
       "|---|---|---|---|---|---|---|---|---|\n",
       "| 114     | 0.42433 | 76      | 32      | 60      | 130     | 1.72    | F       | 2010    |\n",
       "\n"
      ],
      "text/plain": [
       "  x   qx      lx dx Lx Tx  ex   sex year\n",
       "1 114 0.42433 76 32 60 130 1.72 F   2010"
      ]
     },
     "metadata": {},
     "output_type": "display_data"
    },
    {
     "data": {
      "text/html": [
       "<table>\n",
       "<thead><tr><th scope=col>x</th><th scope=col>qx</th><th scope=col>lx</th><th scope=col>dx</th><th scope=col>Lx</th><th scope=col>Tx</th><th scope=col>ex</th><th scope=col>sex</th><th scope=col>year</th></tr></thead>\n",
       "<tbody>\n",
       "\t<tr><td>114    </td><td>0.42433</td><td>76     </td><td>32     </td><td>60     </td><td>130    </td><td>1.72   </td><td>F      </td><td>2010   </td></tr>\n",
       "</tbody>\n",
       "</table>\n"
      ],
      "text/latex": [
       "\\begin{tabular}{r|lllllllll}\n",
       " x & qx & lx & dx & Lx & Tx & ex & sex & year\\\\\n",
       "\\hline\n",
       "\t 114     & 0.42433 & 76      & 32      & 60      & 130     & 1.72    & F       & 2010   \\\\\n",
       "\\end{tabular}\n"
      ],
      "text/markdown": [
       "\n",
       "| x | qx | lx | dx | Lx | Tx | ex | sex | year |\n",
       "|---|---|---|---|---|---|---|---|---|\n",
       "| 114     | 0.42433 | 76      | 32      | 60      | 130     | 1.72    | F       | 2010    |\n",
       "\n"
      ],
      "text/plain": [
       "  x   qx      lx dx Lx Tx  ex   sex year\n",
       "1 114 0.42433 76 32 60 130 1.72 F   2010"
      ]
     },
     "metadata": {},
     "output_type": "display_data"
    }
   ],
   "source": [
    "lifetables[lifetables$lx==76,]\n",
    "lifetables[which(lifetables$lx==76),]\n",
    "lifetables[match(76, lifetables$lx),]\n",
    "lifetables[which(lifetables$lx %in% 76),]"
   ]
  },
  {
   "cell_type": "markdown",
   "metadata": {},
   "source": [
    "Finding the corresponding x (age) when dx=88 and year=1930:"
   ]
  },
  {
   "cell_type": "code",
   "execution_count": 56,
   "metadata": {},
   "outputs": [
    {
     "data": {
      "text/html": [
       "<table>\n",
       "<thead><tr><th scope=col>x</th><th scope=col>qx</th><th scope=col>lx</th><th scope=col>dx</th><th scope=col>Lx</th><th scope=col>Tx</th><th scope=col>ex</th><th scope=col>sex</th><th scope=col>year</th></tr></thead>\n",
       "<tbody>\n",
       "\t<tr><td>12     </td><td>0.00098</td><td>90630  </td><td>88     </td><td>90585  </td><td>5508047</td><td>60.78  </td><td>M      </td><td>1930   </td></tr>\n",
       "</tbody>\n",
       "</table>\n"
      ],
      "text/latex": [
       "\\begin{tabular}{r|lllllllll}\n",
       " x & qx & lx & dx & Lx & Tx & ex & sex & year\\\\\n",
       "\\hline\n",
       "\t 12      & 0.00098 & 90630   & 88      & 90585   & 5508047 & 60.78   & M       & 1930   \\\\\n",
       "\\end{tabular}\n"
      ],
      "text/markdown": [
       "\n",
       "| x | qx | lx | dx | Lx | Tx | ex | sex | year |\n",
       "|---|---|---|---|---|---|---|---|---|\n",
       "| 12      | 0.00098 | 90630   | 88      | 90585   | 5508047 | 60.78   | M       | 1930    |\n",
       "\n"
      ],
      "text/plain": [
       "  x  qx      lx    dx Lx    Tx      ex    sex year\n",
       "1 12 0.00098 90630 88 90585 5508047 60.78 M   1930"
      ]
     },
     "metadata": {},
     "output_type": "display_data"
    }
   ],
   "source": [
    "filter3 <- (lifetables$dx==88) & (lifetables$year==1930)\n",
    "lifetables[filter3,]"
   ]
  },
  {
   "cell_type": "markdown",
   "metadata": {},
   "source": [
    "Find the corresponding x (age) for the the minimum qx value:"
   ]
  },
  {
   "cell_type": "code",
   "execution_count": 58,
   "metadata": {},
   "outputs": [
    {
     "data": {
      "text/html": [
       "<table>\n",
       "<thead><tr><th scope=col>x</th><th scope=col>qx</th><th scope=col>lx</th><th scope=col>dx</th><th scope=col>Lx</th><th scope=col>Tx</th><th scope=col>ex</th><th scope=col>sex</th><th scope=col>year</th></tr></thead>\n",
       "<tbody>\n",
       "\t<tr><td>10     </td><td>7e-05  </td><td>99251  </td><td>7      </td><td>99247  </td><td>7103080</td><td>71.57  </td><td>M      </td><td>2010   </td></tr>\n",
       "</tbody>\n",
       "</table>\n"
      ],
      "text/latex": [
       "\\begin{tabular}{r|lllllllll}\n",
       " x & qx & lx & dx & Lx & Tx & ex & sex & year\\\\\n",
       "\\hline\n",
       "\t 10      & 7e-05   & 99251   & 7       & 99247   & 7103080 & 71.57   & M       & 2010   \\\\\n",
       "\\end{tabular}\n"
      ],
      "text/markdown": [
       "\n",
       "| x | qx | lx | dx | Lx | Tx | ex | sex | year |\n",
       "|---|---|---|---|---|---|---|---|---|\n",
       "| 10      | 7e-05   | 99251   | 7       | 99247   | 7103080 | 71.57   | M       | 2010    |\n",
       "\n"
      ],
      "text/plain": [
       "  x  qx    lx    dx Lx    Tx      ex    sex year\n",
       "1 10 7e-05 99251 7  99247 7103080 71.57 M   2010"
      ]
     },
     "metadata": {},
     "output_type": "display_data"
    }
   ],
   "source": [
    "lifetables[lifetables$qx==min(lifetables$qx),]"
   ]
  },
  {
   "cell_type": "markdown",
   "metadata": {},
   "source": [
    "Subsetting the 12th-15th observations of x:"
   ]
  },
  {
   "cell_type": "code",
   "execution_count": 59,
   "metadata": {},
   "outputs": [
    {
     "data": {
      "text/html": [
       "<table>\n",
       "<thead><tr><th scope=col>x</th><th scope=col>qx</th><th scope=col>lx</th><th scope=col>dx</th><th scope=col>Lx</th><th scope=col>Tx</th><th scope=col>ex</th><th scope=col>sex</th><th scope=col>year</th></tr></thead>\n",
       "<tbody>\n",
       "\t<tr><td>11     </td><td>0.00217</td><td>78044  </td><td>169    </td><td>77960  </td><td>4262653</td><td>54.62  </td><td>M      </td><td>1900   </td></tr>\n",
       "\t<tr><td>12     </td><td>0.00212</td><td>77875  </td><td>165    </td><td>77793  </td><td>4184693</td><td>53.74  </td><td>M      </td><td>1900   </td></tr>\n",
       "\t<tr><td>13     </td><td>0.00239</td><td>77710  </td><td>186    </td><td>77617  </td><td>4106900</td><td>52.85  </td><td>M      </td><td>1900   </td></tr>\n",
       "\t<tr><td>14     </td><td>0.00254</td><td>77525  </td><td>197    </td><td>77426  </td><td>4029283</td><td>51.97  </td><td>M      </td><td>1900   </td></tr>\n",
       "</tbody>\n",
       "</table>\n"
      ],
      "text/latex": [
       "\\begin{tabular}{r|lllllllll}\n",
       " x & qx & lx & dx & Lx & Tx & ex & sex & year\\\\\n",
       "\\hline\n",
       "\t 11      & 0.00217 & 78044   & 169     & 77960   & 4262653 & 54.62   & M       & 1900   \\\\\n",
       "\t 12      & 0.00212 & 77875   & 165     & 77793   & 4184693 & 53.74   & M       & 1900   \\\\\n",
       "\t 13      & 0.00239 & 77710   & 186     & 77617   & 4106900 & 52.85   & M       & 1900   \\\\\n",
       "\t 14      & 0.00254 & 77525   & 197     & 77426   & 4029283 & 51.97   & M       & 1900   \\\\\n",
       "\\end{tabular}\n"
      ],
      "text/markdown": [
       "\n",
       "| x | qx | lx | dx | Lx | Tx | ex | sex | year |\n",
       "|---|---|---|---|---|---|---|---|---|\n",
       "| 11      | 0.00217 | 78044   | 169     | 77960   | 4262653 | 54.62   | M       | 1900    |\n",
       "| 12      | 0.00212 | 77875   | 165     | 77793   | 4184693 | 53.74   | M       | 1900    |\n",
       "| 13      | 0.00239 | 77710   | 186     | 77617   | 4106900 | 52.85   | M       | 1900    |\n",
       "| 14      | 0.00254 | 77525   | 197     | 77426   | 4029283 | 51.97   | M       | 1900    |\n",
       "\n"
      ],
      "text/plain": [
       "  x  qx      lx    dx  Lx    Tx      ex    sex year\n",
       "1 11 0.00217 78044 169 77960 4262653 54.62 M   1900\n",
       "2 12 0.00212 77875 165 77793 4184693 53.74 M   1900\n",
       "3 13 0.00239 77710 186 77617 4106900 52.85 M   1900\n",
       "4 14 0.00254 77525 197 77426 4029283 51.97 M   1900"
      ]
     },
     "metadata": {},
     "output_type": "display_data"
    }
   ],
   "source": [
    "lifetables[12:15,]"
   ]
  },
  {
   "cell_type": "markdown",
   "metadata": {},
   "source": [
    "Show that both `sort()` and `order()` will give the same result:"
   ]
  },
  {
   "cell_type": "code",
   "execution_count": 78,
   "metadata": {},
   "outputs": [
    {
     "data": {
      "text/html": [
       "<ol class=list-inline>\n",
       "\t<li>7e-05</li>\n",
       "\t<li>8e-05</li>\n",
       "\t<li>8e-05</li>\n",
       "\t<li>8e-05</li>\n",
       "\t<li>9e-05</li>\n",
       "\t<li>9e-05</li>\n",
       "\t<li>9e-05</li>\n",
       "\t<li>9e-05</li>\n",
       "\t<li>1e-04</li>\n",
       "\t<li>1e-04</li>\n",
       "</ol>\n"
      ],
      "text/latex": [
       "\\begin{enumerate*}\n",
       "\\item 7e-05\n",
       "\\item 8e-05\n",
       "\\item 8e-05\n",
       "\\item 8e-05\n",
       "\\item 9e-05\n",
       "\\item 9e-05\n",
       "\\item 9e-05\n",
       "\\item 9e-05\n",
       "\\item 1e-04\n",
       "\\item 1e-04\n",
       "\\end{enumerate*}\n"
      ],
      "text/markdown": [
       "1. 7e-05\n",
       "2. 8e-05\n",
       "3. 8e-05\n",
       "4. 8e-05\n",
       "5. 9e-05\n",
       "6. 9e-05\n",
       "7. 9e-05\n",
       "8. 9e-05\n",
       "9. 1e-04\n",
       "10. 1e-04\n",
       "\n",
       "\n"
      ],
      "text/plain": [
       " [1] 7e-05 8e-05 8e-05 8e-05 9e-05 9e-05 9e-05 9e-05 1e-04 1e-04"
      ]
     },
     "metadata": {},
     "output_type": "display_data"
    }
   ],
   "source": [
    "sort(lifetables$qx)[1:10]"
   ]
  },
  {
   "cell_type": "code",
   "execution_count": 79,
   "metadata": {},
   "outputs": [
    {
     "data": {
      "text/html": [
       "<ol class=list-inline>\n",
       "\t<li>7e-05</li>\n",
       "\t<li>8e-05</li>\n",
       "\t<li>8e-05</li>\n",
       "\t<li>8e-05</li>\n",
       "\t<li>9e-05</li>\n",
       "\t<li>9e-05</li>\n",
       "\t<li>9e-05</li>\n",
       "\t<li>9e-05</li>\n",
       "\t<li>1e-04</li>\n",
       "\t<li>1e-04</li>\n",
       "</ol>\n"
      ],
      "text/latex": [
       "\\begin{enumerate*}\n",
       "\\item 7e-05\n",
       "\\item 8e-05\n",
       "\\item 8e-05\n",
       "\\item 8e-05\n",
       "\\item 9e-05\n",
       "\\item 9e-05\n",
       "\\item 9e-05\n",
       "\\item 9e-05\n",
       "\\item 1e-04\n",
       "\\item 1e-04\n",
       "\\end{enumerate*}\n"
      ],
      "text/markdown": [
       "1. 7e-05\n",
       "2. 8e-05\n",
       "3. 8e-05\n",
       "4. 8e-05\n",
       "5. 9e-05\n",
       "6. 9e-05\n",
       "7. 9e-05\n",
       "8. 9e-05\n",
       "9. 1e-04\n",
       "10. 1e-04\n",
       "\n",
       "\n"
      ],
      "text/plain": [
       " [1] 7e-05 8e-05 8e-05 8e-05 9e-05 9e-05 9e-05 9e-05 1e-04 1e-04"
      ]
     },
     "metadata": {},
     "output_type": "display_data"
    }
   ],
   "source": [
    "lifetables$qx[order(lifetables$qx)][1:10]"
   ]
  }
 ],
 "metadata": {
  "kernelspec": {
   "display_name": "R",
   "language": "R",
   "name": "ir"
  },
  "language_info": {
   "codemirror_mode": "r",
   "file_extension": ".r",
   "mimetype": "text/x-r-source",
   "name": "R",
   "pygments_lexer": "r",
   "version": "3.6.1"
  }
 },
 "nbformat": 4,
 "nbformat_minor": 4
}
